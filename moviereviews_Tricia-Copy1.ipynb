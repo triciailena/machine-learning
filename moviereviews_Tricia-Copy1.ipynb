{
 "cells": [
  {
   "cell_type": "markdown",
   "metadata": {},
   "source": [
    "# Movie reviews\n",
    "\n",
    "This notebook takes you though a complete iteration of Machine Learning Assignment 1 - Movie reviews. The assignment details (including links to download the data) can be found [here](https://docs.google.com/document/d/1WGYw99e5q6j5V0Zrf2HveagU6URt_kVvdR8B9HYQ99E/edit?usp=sharing). "
   ]
  },
  {
   "cell_type": "code",
   "execution_count": 103,
   "metadata": {},
   "outputs": [],
   "source": [
    "# all imports and magic commands\n",
    "import numpy as np\n",
    "import pandas as pd\n",
    "import matplotlib.pyplot as plt\n",
    "from my_measures import BinaryClassificationPerformance\n",
    "from sklearn.feature_extraction.text import HashingVectorizer\n",
    "from sklearn.feature_extraction.text import TfidfTransformer\n",
    "from scipy.sparse import csr_matrix, hstack\n",
    "from sklearn.preprocessing import StandardScaler\n",
    "from sklearn.model_selection import train_test_split\n",
    "from sklearn.feature_extraction.text import CountVectorizer\n",
    "from sklearn.linear_model import Ridge\n",
    "%matplotlib inline"
   ]
  },
  {
   "cell_type": "markdown",
   "metadata": {},
   "source": [
    "# Function for feature building and extraction on natural language data"
   ]
  },
  {
   "cell_type": "code",
   "execution_count": 104,
   "metadata": {},
   "outputs": [],
   "source": [
    "# function that takes raw data and completes all preprocessing required before model fits\n",
    "def process_raw_data(fn, my_random_seed, test=False):\n",
    "    # read and summarize data\n",
    "    movie_data = pd.read_csv(fn, sep='\\t')\n",
    "    print(\"movie_data is:\", type(movie_data))\n",
    "    print(\"movie_data has\", movie_data.shape[0], \"rows and\", movie_data.shape[1], \"columns\", \"\\n\")\n",
    "    print(\"the data types for each of the columns in movie_data:\")\n",
    "    print(movie_data.dtypes, \"\\n\")\n",
    "    print(\"the first 10 rows in movie_data:\")\n",
    "    print(movie_data.head(5))\n",
    "    if (not test):\n",
    "        print(\"The rate of 'good' movie reviews in the dataset: \")\n",
    "        print(movie_data['sentiment'].mean())\n",
    "\n",
    "    # vectorize Bag of Words from review text; as sparse matrix\n",
    "    if (not test): # fit_transform()\n",
    "        hv = HashingVectorizer(n_features=2 ** 17, alternate_sign=False)\n",
    "        X_hv = hv.fit_transform(movie_data.review)\n",
    "        fitted_transformations.append(hv)\n",
    "        print(\"Shape of HashingVectorizer X:\")\n",
    "        print(X_hv.shape)\n",
    "    else: # transform() \n",
    "        X_hv = fitted_transformations[0].transform(movie_data.review)\n",
    "        print(\"Shape of HashingVectorizer X:\")\n",
    "        print(X_hv.shape)\n",
    "    \n",
    "\n",
    "        # vectorize Bag of Words from review text; as sparse matrix\n",
    "    if (not test): # fit_transform()\n",
    "        #Tricia is a good girl in Indonesia\n",
    "        #Leffin is a good boy in India\n",
    "        #n_features = 2 ** 3 = 000,001,010,011,100,101,110,111\n",
    "        #hash = algorithm that converts anything to numbers - encryption, no personalized dictionary\n",
    "        #2**3 = faster to run = more collision  / 2**20 = longer to run = lesser collision\n",
    "        #2**17 = good base\n",
    "        \n",
    "        #countVectorizer = final output is a number, not using a bag of words, it has a dictionary and it is fine because we have a set number of reviews\n",
    "        #not good = bag of words, hashing vectorizer would not be able to detect it\n",
    "        #ngram_range = 1,2 = Tricia, is , Tricia is\n",
    "        #maximum number is high = takes longer to run\n",
    "        #strip_accents = remove accents\n",
    "        #ascii : dictionary of characters\n",
    "        #tokenizer: looking is look, looks is look\n",
    "        #remove stop_words {english}\n",
    "        #max_features: limit the features\n",
    "        cv = CountVectorizer(ngram_range=(1,3), stop_words='english', strip_accents='ascii')\n",
    "        X_cv = cv.fit_transform(movie_data.review)\n",
    "        fitted_transformations.append(cv)\n",
    "        print(\"Shape of CountVectorizer X:\")\n",
    "        print(X_cv.shape)\n",
    "    else: # transform() \n",
    "        X_cv = fitted_transformations[0].transform(movie_data.review)\n",
    "        print(\"Shape of CountVectorizer X:\")\n",
    "        print(X_cv.shape)\n",
    "        \n",
    "        #strip_accents : {'ascii'}\n",
    "\n",
    "        \n",
    "        \n",
    "   # http://scikit-learn.org/stable/modules/generated/sklearn.feature_extraction.text.TfidfTransformer.html\n",
    "    if (not test):\n",
    "        transformer = TfidfTransformer()\n",
    "        X_tfidf = transformer.fit_transform(X_cv)\n",
    "        fitted_transformations.append(transformer)\n",
    "    else:\n",
    "        X_tfidf = fitted_transformations[1].transform(X_cv)\n",
    "    \n",
    "     #create additional quantitative features\n",
    "     #features from Amazon.csv to add to feature set\n",
    "    movie_data['word_count'] = movie_data['review'].str.split(' ').str.len()\n",
    "    movie_data['punc_count'] = movie_data['review'].str.count(\"\\.\")\n",
    "\n",
    "    X_quant_features = movie_data[[\"word_count\", \"punc_count\"]]\n",
    "    print(\"Look at a few rows of the new quantitative features: \")\n",
    "    print(X_quant_features.head(10))\n",
    "    \n",
    "    # Combine all quantitative features into a single sparse matrix\n",
    "    X_quant_features_csr = csr_matrix(X_quant_features)\n",
    "    X_combined = hstack([X_tfidf, X_quant_features_csr])\n",
    "    X_matrix = csr_matrix(X_combined) # convert to sparse matrix\n",
    "    print(\"Size of combined bag of words and new quantitative variables matrix:\")\n",
    "    print(X_matrix.shape)\n",
    "    \n",
    "    # Create `X`, scaled matrix of features\n",
    "     #feature scaling\n",
    "    if (not test):\n",
    "        sc = StandardScaler(with_mean=False)\n",
    "        X = sc.fit_transform(X_matrix)\n",
    "        fitted_transformations.append(sc)\n",
    "        print(X.shape)\n",
    "        y = movie_data['sentiment']\n",
    "    else:\n",
    "        X = fitted_transformations[2].transform(X_matrix)\n",
    "        print(X.shape)\n",
    "    \n",
    "    # Create Training and Test Sets\n",
    "    # enter an integer for the random_state parameter; any integer will work\n",
    "    if (test):\n",
    "        X_submission_test = X\n",
    "        print(\"Shape of X_test for submission:\")\n",
    "        print(X_submission_test.shape)\n",
    "        print('SUCCESS!')\n",
    "        return(movie_data, X_submission_test)\n",
    "    else: \n",
    "        X_train, X_test, y_train, y_test, X_raw_train, X_raw_test = train_test_split(X, y, movie_data, test_size=0.2, random_state=my_random_seed)\n",
    "        print(\"Shape of X_train and X_test:\")\n",
    "        print(X_train.shape)\n",
    "        print(X_test.shape)\n",
    "        print(\"Shape of y_train and y_test:\")\n",
    "        print(y_train.shape)\n",
    "        print(y_test.shape)\n",
    "        print(\"Shape of X_raw_train and X_raw_test:\")\n",
    "        print(X_raw_train.shape)\n",
    "        print(X_raw_test.shape)\n",
    "        print('SUCCESS!')\n",
    "        return(X_train, X_test, y_train, y_test, X_raw_train, X_raw_test)"
   ]
  },
  {
   "cell_type": "markdown",
   "metadata": {},
   "source": [
    "# Create training and test sets from function"
   ]
  },
  {
   "cell_type": "code",
   "execution_count": 105,
   "metadata": {},
   "outputs": [
    {
     "name": "stdout",
     "output_type": "stream",
     "text": [
      "movie_data is: <class 'pandas.core.frame.DataFrame'>\n",
      "movie_data has 25000 rows and 3 columns \n",
      "\n",
      "the data types for each of the columns in movie_data:\n",
      "id           object\n",
      "sentiment     int64\n",
      "review       object\n",
      "dtype: object \n",
      "\n",
      "the first 10 rows in movie_data:\n",
      "       id  sentiment                                             review\n",
      "0  5814_8          1  With all this stuff going down at the moment w...\n",
      "1  2381_9          1  \\The Classic War of the Worlds\\\" by Timothy Hi...\n",
      "2  7759_3          0  The film starts with a manager (Nicholas Bell)...\n",
      "3  3630_4          0  It must be assumed that those who praised this...\n",
      "4  9495_8          1  Superbly trashy and wondrously unpretentious 8...\n",
      "The rate of 'good' movie reviews in the dataset: \n",
      "0.5\n",
      "Shape of HashingVectorizer X:\n",
      "(25000, 131072)\n",
      "Shape of CountVectorizer X:\n",
      "(25000, 4302235)\n",
      "Look at a few rows of the new quantitative features: \n",
      "   word_count  punc_count\n",
      "0         433          20\n",
      "1         158          16\n",
      "2         378          20\n",
      "3         379           8\n",
      "4         367           9\n",
      "5          89           5\n",
      "6         112           9\n",
      "7         132           9\n",
      "8         163           7\n",
      "9          43           5\n",
      "Size of combined bag of words and new quantitative variables matrix:\n",
      "(25000, 4302237)\n",
      "(25000, 4302237)\n",
      "Shape of X_train and X_test:\n",
      "(20000, 4302237)\n",
      "(5000, 4302237)\n",
      "Shape of y_train and y_test:\n",
      "(20000,)\n",
      "(5000,)\n",
      "Shape of X_raw_train and X_raw_test:\n",
      "(20000, 5)\n",
      "(5000, 5)\n",
      "SUCCESS!\n",
      "Number of fits stored in `fitted_transformations` list: \n",
      "4\n"
     ]
    }
   ],
   "source": [
    "# create an empty list to store any use of fit_transform() to transform() later\n",
    "# it is a global list to store model and feature extraction fits\n",
    "fitted_transformations = []\n",
    "\n",
    "# OK CHANGE FILE PATH and my_random_seed number (any integer other than 74 will do): \n",
    "X_train, X_test, y_train, y_test, X_raw_train, X_raw_test = process_raw_data(fn='/users/kinetic.tricia/moviereviews_train.tsv', my_random_seed=49)\n",
    "\n",
    "print(\"Number of fits stored in `fitted_transformations` list: \")\n",
    "print(len(fitted_transformations))"
   ]
  },
  {
   "cell_type": "markdown",
   "metadata": {},
   "source": [
    "# Fit (and tune) Various Models"
   ]
  },
  {
   "cell_type": "markdown",
   "metadata": {},
   "source": [
    "### MODEL: ordinary least squares"
   ]
  },
  {
   "cell_type": "code",
   "execution_count": 106,
   "metadata": {},
   "outputs": [
    {
     "name": "stdout",
     "output_type": "stream",
     "text": [
      "{'Pos': 10009, 'Neg': 9991, 'TP': 3246, 'TN': 6364, 'FP': 3627, 'FN': 6763, 'Accuracy': 0.4805, 'Precision': 0.47228284591881275, 'Recall': 0.32430812268957937, 'desc': 'ols_train'}\n"
     ]
    }
   ],
   "source": [
    "from sklearn import linear_model\n",
    "ols = linear_model.SGDClassifier(loss=\"squared_loss\")\n",
    "ols.fit(X_train, y_train)\n",
    "\n",
    "ols_performance_train = BinaryClassificationPerformance(ols.predict(X_train), y_train, 'ols_train')\n",
    "ols_performance_train.compute_measures()\n",
    "print(ols_performance_train.performance_measures)"
   ]
  },
  {
   "cell_type": "markdown",
   "metadata": {},
   "source": [
    "### MODEL: SVM, linear"
   ]
  },
  {
   "cell_type": "code",
   "execution_count": 107,
   "metadata": {},
   "outputs": [
    {
     "name": "stdout",
     "output_type": "stream",
     "text": [
      "{'Pos': 10009, 'Neg': 9991, 'TP': 10009, 'TN': 9991, 'FP': 0, 'FN': 0, 'Accuracy': 1.0, 'Precision': 1.0, 'Recall': 1.0, 'desc': 'svm_train'}\n"
     ]
    }
   ],
   "source": [
    "from sklearn import linear_model\n",
    "svm = linear_model.SGDClassifier()\n",
    "svm.fit(X_train, y_train)\n",
    "\n",
    "svm_performance_train = BinaryClassificationPerformance(svm.predict(X_train), y_train, 'svm_train')\n",
    "svm_performance_train.compute_measures()\n",
    "print(svm_performance_train.performance_measures)"
   ]
  },
  {
   "cell_type": "markdown",
   "metadata": {},
   "source": [
    "### MODEL: logistic regression"
   ]
  },
  {
   "cell_type": "code",
   "execution_count": 108,
   "metadata": {},
   "outputs": [
    {
     "name": "stdout",
     "output_type": "stream",
     "text": [
      "{'Pos': 10009, 'Neg': 9991, 'TP': 10009, 'TN': 9991, 'FP': 0, 'FN': 0, 'Accuracy': 1.0, 'Precision': 1.0, 'Recall': 1.0, 'desc': 'lgs_train'}\n"
     ]
    }
   ],
   "source": [
    "from sklearn import linear_model\n",
    "lgs = linear_model.SGDClassifier(loss='log')\n",
    "lgs.fit(X_train, y_train)\n",
    "\n",
    "lgs_performance_train = BinaryClassificationPerformance(lgs.predict(X_train), y_train, 'lgs_train')\n",
    "lgs_performance_train.compute_measures()\n",
    "print(lgs_performance_train.performance_measures)"
   ]
  },
  {
   "cell_type": "markdown",
   "metadata": {},
   "source": [
    "### MODEL: Naive Bayes"
   ]
  },
  {
   "cell_type": "code",
   "execution_count": 109,
   "metadata": {},
   "outputs": [
    {
     "name": "stdout",
     "output_type": "stream",
     "text": [
      "{'Pos': 10009, 'Neg': 9991, 'TP': 10009, 'TN': 9991, 'FP': 0, 'FN': 0, 'Accuracy': 1.0, 'Precision': 1.0, 'Recall': 1.0, 'desc': 'nbs_train'}\n"
     ]
    }
   ],
   "source": [
    "from sklearn.naive_bayes import MultinomialNB\n",
    "nbs = MultinomialNB()\n",
    "nbs.fit(X_train, y_train)\n",
    "\n",
    "nbs_performance_train = BinaryClassificationPerformance(nbs.predict(X_train), y_train, 'nbs_train')\n",
    "nbs_performance_train.compute_measures()\n",
    "print(nbs_performance_train.performance_measures)"
   ]
  },
  {
   "cell_type": "markdown",
   "metadata": {},
   "source": [
    "### MODEL: Perceptron"
   ]
  },
  {
   "cell_type": "code",
   "execution_count": 110,
   "metadata": {},
   "outputs": [
    {
     "name": "stdout",
     "output_type": "stream",
     "text": [
      "{'Pos': 10009, 'Neg': 9991, 'TP': 10009, 'TN': 9991, 'FP': 0, 'FN': 0, 'Accuracy': 1.0, 'Precision': 1.0, 'Recall': 1.0, 'desc': 'prc_train'}\n"
     ]
    }
   ],
   "source": [
    "from sklearn import linear_model\n",
    "prc = linear_model.SGDClassifier(loss='perceptron')\n",
    "prc.fit(X_train, y_train)\n",
    "\n",
    "prc_performance_train = BinaryClassificationPerformance(prc.predict(X_train), y_train, 'prc_train')\n",
    "prc_performance_train.compute_measures()\n",
    "print(prc_performance_train.performance_measures)"
   ]
  },
  {
   "cell_type": "markdown",
   "metadata": {},
   "source": [
    "### MODEL: Ridge Regression Classifier"
   ]
  },
  {
   "cell_type": "code",
   "execution_count": 111,
   "metadata": {},
   "outputs": [
    {
     "name": "stdout",
     "output_type": "stream",
     "text": [
      "{'Pos': 10009, 'Neg': 9991, 'TP': 10009, 'TN': 9991, 'FP': 0, 'FN': 0, 'Accuracy': 1.0, 'Precision': 1.0, 'Recall': 1.0, 'desc': 'rdg_train'}\n"
     ]
    }
   ],
   "source": [
    "from sklearn import linear_model\n",
    "#rdg = linear_model.RidgeClassifier(alpha=10)\n",
    "#rdg = linear_model.RidgeClassifier(alpha=0.1)\n",
    "rdg = linear_model.RidgeClassifier(alpha=1.0)\n",
    "#rdg = linear_model.RidgeClassifier(alpha=0.01)\n",
    "#rdg = linear_model.RidgeClassifier(alpha=0.001)\n",
    "rdg.fit(X_train, y_train)\n",
    "\n",
    "rdg_performance_train = BinaryClassificationPerformance(rdg.predict(X_train), y_train, 'rdg_train')\n",
    "rdg_performance_train.compute_measures()\n",
    "print(rdg_performance_train.performance_measures)"
   ]
  },
  {
   "cell_type": "markdown",
   "metadata": {},
   "source": [
    "### MODEL: Random Forest Classifier"
   ]
  },
  {
   "cell_type": "code",
   "execution_count": 112,
   "metadata": {},
   "outputs": [
    {
     "name": "stdout",
     "output_type": "stream",
     "text": [
      "{'Pos': 10009, 'Neg': 9991, 'TP': 8634, 'TN': 5057, 'FP': 4934, 'FN': 1375, 'Accuracy': 0.68455, 'Precision': 0.6363502358490566, 'Recall': 0.8626236387251474, 'desc': 'rdf_train'}\n"
     ]
    }
   ],
   "source": [
    "from sklearn.ensemble import RandomForestClassifier\n",
    "rdf = RandomForestClassifier(max_depth=2, random_state=0)\n",
    "rdf.fit(X_train, y_train)\n",
    "\n",
    "rdf_performance_train = BinaryClassificationPerformance(rdf.predict(X_train), y_train, 'rdf_train')\n",
    "rdf_performance_train.compute_measures()\n",
    "print(rdf_performance_train.performance_measures)"
   ]
  },
  {
   "cell_type": "markdown",
   "metadata": {},
   "source": [
    "### ROC plot to compare performance of various models and fits"
   ]
  },
  {
   "cell_type": "code",
   "execution_count": 113,
   "metadata": {
    "scrolled": false
   },
   "outputs": [
    {
     "data": {
      "image/png": "[encoded data removed]",
      "text/plain": [
       "<Figure size 432x288 with 1 Axes>"
      ]
     },
     "metadata": {
      "needs_background": "light"
     },
     "output_type": "display_data"
    }
   ],
   "source": [
    "fits = [ols_performance_train, svm_performance_train, lgs_performance_train, nbs_performance_train, prc_performance_train, rdg_performance_train, rdf_performance_train]\n",
    "\n",
    "for fit in fits:\n",
    "    plt.plot(fit.performance_measures['FP'] / fit.performance_measures['Neg'], \n",
    "             fit.performance_measures['TP'] / fit.performance_measures['Pos'], 'bo')\n",
    "    plt.text(fit.performance_measures['FP'] / fit.performance_measures['Neg'], \n",
    "             fit.performance_measures['TP'] / fit.performance_measures['Pos'], fit.desc)\n",
    "plt.axis([0, 1, 0, 1])\n",
    "plt.title('ROC plot: test set')\n",
    "plt.xlabel('False positive rate')\n",
    "plt.ylabel('True positive rate')\n",
    "plt.show()"
   ]
  },
  {
   "cell_type": "markdown",
   "metadata": {},
   "source": [
    "### looking at reviews based on their classification\n",
    "\n",
    "Let's say we decide that Ordinary Least Squares (OLS) Regression is the best model for generalization. Let's take a look at some of the reviews and try to make a (subjective) determination of whether it's generalizing well. "
   ]
  },
  {
   "cell_type": "code",
   "execution_count": 114,
   "metadata": {},
   "outputs": [],
   "source": [
    "ols_predictions = ols.predict(X_train)"
   ]
  },
  {
   "cell_type": "markdown",
   "metadata": {},
   "source": [
    "### let's look at some false positives:"
   ]
  },
  {
   "cell_type": "code",
   "execution_count": 115,
   "metadata": {},
   "outputs": [
    {
     "name": "stdout",
     "output_type": "stream",
     "text": [
      "Examples of false positives:\n",
      "171\n",
      "My wife and I found this film to be highly unsatisfying. While the plot keeps you interested and busy wondering just what is going on, when you leave the theater, there are just too many loose ends that make no sense at all. (SPOILERS AHEAD) Christopher Plummer, enormously wealthy head of a NY bank has a terrible hidden secret. Profiting from WW II deals with the Nazis and hiding loot stolen from Jews, he keeps the evidence (including diamonds and documents with the Nazi swastika) in a safety deposit box in his bank. Why? If he wants this never to be revealed, why did he not burn and destroy the documents years ago? And the diamonds? Obviously, he does not need them - why keep them rather than dispose of them? How did the bank robbers find out his secret? How did they know to zero in on this very safety deposit box #232? Ace detective Denzel Washington also discovers bank records show SD Boxes No's 231 and 233, but no #232. Curious. He meticulously found time somehow to do an exhausting search of bank records to unearth this one curious fact. All the while dealing with a red hot hostage situation and bank robbers threatening to start executing them momentarily. Wow! Talk about super powers for a detective.<br /><br />The bank robbers leave behind millions of dollars in loose currency in the vault they have opened. They take only the contents of SD Box #232, ostensibly for the purpose of blackmailing the bank president. This defies any rational attempt at a logical explanation for what the film depicts as a criminal mastermind, or for his henchmen with lesser brains.<br /><br />Jodie Foster, using her political connections with the Mayor of NYC, gains permission to enter the bank which is under the control of the bank robbers while holding many hostages. She offers the chief bank robber a deal to buy back the documents he now has in hand, but he ain't interested. So what's his point (if any?).<br /><br />My wife was offended by the arrogance of all the players, Christopher Plummer (Bank President), Denzel Washington (ace detective), and Jodie Foster, crack trouble shooter for high-powered problems.<br /><br />The last Jodie Foster movie I saw, \\Flight Plan\\\", was also riddled with holes that made no sense at all. I thought I liked Jodie Foster, but I will probably avoid her future films.<br /><br />Now my problem is that I can rarely persuade my wife to go to the movies. I cannot disagree with her on this one ... \\\"A WASTE OF MONEY, AND A WASTE OF TIME.\\\" Be forewarned. A well crafted film, fine actors, lousy script writing.\"\n",
      "* * * * * * * * * \n",
      "432\n",
      "to make up a movie-going audience - I'm certainly stunned by the number of positive comments this wretched film has garnered here. I can't credit it, can't help but be suspicious, for that matter, of back alley payoffs to critics who are touting Annette Bening for an Oscar; the hole in the kitchen ceiling might be more appropriately attributed to her scenery chewing. She's a wonderful actress but this is an unfortunately unbalanced performance, lacking that essential quality film actors must master of catching the cadence of the screenplay and maintaining it for the duration of the disjointed madness that is a film shoot.<br /><br />I don't really want to blame Miss Bening or most of the other performers (well, Gwyneth Paltrow has no excuse for her muzzy work), however, because this is a horrendous adaptation, a classic case of mistranslation (I am prepared to assume. I haven't read the book and don't think I will after this). The script launches us into the middle/muddle of unaccountable behaviour and extreme emotional angst spewing from mystifying characters who have developed relationships neither with us nor each other. It quickly becomes a grotesquely excessive tsunami-like assault that sullies characters and audience alike and left me like a survivor shaking my head at the detritus left at the end of each repetitive episode. Shock and awe would describe my reaction to frantic, bi-polar mood swings between ranting and oh-so-quiet sensitivity, the latter telegraphed by one of the most irritating, manipulative, droning soundtracks I've heard - that is, when all this isn't being set to ludicrously incongruous toons - period stuff, ya know, but chosen with an astounding disregard for the tone of the scenes.<br /><br />How this fine cast got mixed up in this I don't know - I can't believe they saw the screenplay before signing. They certainly apply their skills with commitment - I felt so sorry for the wonderful Jill Clayburgh saddled with a cartoon bag lady costume and wig trying vainly to wrench something of significance from sketchy and clichéd dialogue. In contrast, somehow, Alec Baldwin rises above the material to deliver a consistent, nuanced, real performance. Can somebody give this man a lead role of substance, please? And how about Rachel Evan Wood - or Joseph Fiennes? You'd think the industry could make better use of him, and without appearing as hirsute as Elliot Gould in M.A.S.H. <br /><br />My vote? A standup turd, all right, but no link with heaven.\n",
      "* * * * * * * * * \n",
      "487\n",
      "WARNING! Don't even consider watching this film in any form. It's not even worth downloading from the internet. Every bit of porn has more substance than this wasted piece of celluloid. The so-called filmmakers apparently have absolutely no idea how to make a film. They couldn't tell a good joke to save their lives. It's an insult to any human being. If you're looking for a fun-filled movie - go look somewhere else.<br /><br />Let's hope this Mr. Unterwaldt (the \\Jr.\\\" being a good indication for his obvious inexperience and intellectual infancy) dies a slow/painful death and NEVER makes a film again.<br /><br />In fact, it's even a waste of time to WRITE ANYTHING about this crap, that's why I'll stop right now and rather watch a good film.\"\n",
      "* * * * * * * * * \n",
      "616\n",
      "James Gandolfini is a good actor so what ever did he take a role in this piece of unfunny rubbish. Affleck is just a lightweight who just can't cut it, the rest of the cast are truly unforgettable. I saw this in the USA in an empty theatre, I soon knew why the place was empty after about 10 minutes. I walked out before the end it was so bad, so imagine my surprise when back in England I saw the movie had a glowing report from that yoyo \\Paul Ross\\\" in one of the down market Sundays. I always rely on Ross to save me money on cinema tickets, if he says the movie is good, I get straight on this very website to check it out. This movie should have gone straight to £1.99 DVD in a supermarket near you.\"\n",
      "* * * * * * * * * \n",
      "664\n",
      "Holy freaking God all-freaking-mighty. This movie was so bad, I thought I was on drugs. In a bad way... The character acting is the poorest thing I've seen in quite some time. This movie was more akin to Lord of the G-Strings, IMHO(it's a real movie). Most of the movie appeared to be done on a horrible green screen. My favorite part was when they are in the carriage, and you can tell there's no horse. They're fleeing from alien monsters, and going about the same speed as a swift jog. Then it switches to a far-shot with a ridiculous CG horse. And the CG in general seems to be sub-par to 1992's Beyond the Mind's Eye. I mean, Come on, really. It felt like a horrible episode of Hercules, only without Kevin Sorbo there to save the day. Worst. Movie. Ever.\n",
      "* * * * * * * * * \n",
      "712\n",
      "This crap is like watching paint dry. I'm so disappointed because I was so eager to see it.<br /><br />There simply is no meaning to this film. If it were never made, no one would notice or care. It's hyped up because of all the big names in it, but if \\nobody's\\\" were in, nobody would give this film any love.<br /><br />Seriously, I was at the point where half-way through the film I would look at Vanessa Redgrave and think, \\\"Hurry up and die already!\\\" This is like the \\\"Joy Luck Club\\\" without any of the friggin' joy. It's the \\\"Ocean's 13\\\" (nothing but a big-named cast) of mother-daughter movies and completely anti-climatic...oh until it's finally over.<br /><br />I'm sure they'll all be nominated for Oscars...<br /><br />- 4 stars for cinematography and the ability to convince great actresses to commit to this junk.\"\n",
      "* * * * * * * * * \n",
      "810\n",
      "Nothing happens.<br /><br />Then characters with no personality don't develop.<br /><br />Then the end never comes because there's no beginning and no middle.<br /><br />There are beautiful shots that are made not beautiful because they aren't even allowed to be, because this movie isn't even THERE. There's no \\is\\\" in this movie because there's no plot or characters or themes or ideas or symbolism or discussion or dialog or point. There's nothing! <br /><br />There is a good point: it has a good soundtrack. But the sound editing is such and the movie proper is such that watching it isn't even worth your time, so if you're really interested, I'd suggest going and buying the soundtrack or something. You'll get everything you can from this movie without all the fatigue, headache, and impatience.<br /><br />--PolarisDiB\"\n",
      "* * * * * * * * * \n",
      "825\n",
      "This film was so bad i had to fast forward most of it to get to the good bits. Hah what good bits? the only bit that was worth it was the ending (those who have seen the film will know what i mean). I expected a lot from this film like a underworld meets dawn of the dead meets Freddy vs. Jason but what i got was this crap. Story was forgettable, the cast was used badly and what was the director thinking when he made this. This could have been a great but i turned out to be the most boring film i have ever watched. OK so what if there was a nice bit of T and A, I was after the gore and i was bitterly disappointed. Don't expect a film thats good but if you want a bad cheesy horror then by all means watch this and see how a horror movie SHOULDN'T BE DONE.\n",
      "* * * * * * * * * \n",
      "913\n",
      "Where to start ?! . . . I feel ... violated! Thats right, violated! I just spent 1.5hrs of my life, 1.5hrs that I could have spent doing something more useful, like watching paint dry, on this so called horror flick.<br /><br />Its not scary, its not funny, its not dramatic, its no action, its nothing...<br /><br />Its predictable, its boring, its tragic...<br /><br />I might come of a bit harsh here, but watch this movie and you will feel the same way ... or ... no, don't watch it...unless you want to feel violated also.\n",
      "* * * * * * * * * \n",
      "961\n",
      "1 How is it that everyone can understand each other perfectly without devices like universal translators or translator microbes? Did the creators of this show realize that people who were taken from different parts of the earth, in different time frames (Attilla the Hun wasn't a contemporary of preliterate Hellenic cultures, nor were the Vikings contemporary to the Pyramid builders) speak different languages and can never develop a language so similar to modern day English(except for the inflections they \\do not\\\" use), which has been influenced by Latin, ancient Greek, Danish and French? <br /><br />2 Cultural differences can't be overcome so easily, trust has to be won, yet everywhere the team arrives they are welcomed without any suspicion and start ordering people around like they are their appointed leaders. Of course real fans would comment that they are perceived as gods. The people they meet should be shocked by their technology and accuse them of witchcraft and the like.<br /><br />3 Historical background: none. Visually it might vaguely remind you of Greek or Viking culture, but anyone can dress in a bunch of tablecloths or run to a local costume rental for a plastic helmet with horns and claim to look the part. A small-town theater group probably has better props.<br /><br />4 Boring! Another lame Canuck production, which inexplicably ran for ten long years. As a kids show it could make the grade, but anyone who has a little knowledge about human behavior and language couldn't bear to even watch the first twelve episodes of season 1, like I just did. I very much wanted to believe I had found a decent sci-fi show, otherwise I would shut it of and cleansed my computer of this refuge after the first five minutes!\"\n",
      "* * * * * * * * * \n",
      "994\n",
      "What happened? What we have here is basically a solid and plausible premise and with a decent and talented cast, but somewhere the movie loses it. Actually, it never really got going. There was a little excitement when we find out that Angie is not really pregnant, then find out that she is after all, but that was it. Steve Martin, who is a very talented person and usually brings a lot to a movie, was dreadful and his entire character was not even close to being important to this movie, other than to make it longer. I really would have liked to see more interactions between the main characters, Kate and Angie, and maybe try not for a pure comedy, which unfortunately it was not, but maybe a drama with comedic elements. I think if the movie did this it could have been very funny since both actresses are quite funny in their own ways and sitting here I can think of numerous scenarios that would have been a riot.\n",
      "* * * * * * * * * \n",
      "1041\n",
      "This film is the worst film, but it ranks very high for me. It is how a slasher movie should be. It takes place at a university in which there only seems to be a handful of students. The teachers are dumber than a sack of hammers. It is filled with good Catholic priest, sexually repressed humor. Bad hair, bad clothes. The dialogue is so cliched it is hard to believe that I was able to predict lines in quotes. The slashings have some creativity and seem to revolve around stabbing people in the genitalia. A lack of continuity in the soundtrack and characters that deserve to die because they are so bad, I recommend this film for a fun time. Get a case of cheap beer and some friends, watch it and laugh.\n",
      "* * * * * * * * * \n",
      "1077\n",
      "this film was totally not what i expected. <br /><br />if this film was called something else no one would even notice the difference between the two. <br /><br />its really strange because i cannot see the point . the prequel and sequel lets just say don't make sense, the don't even match . maybe i am naive but ain't a vol 1 & vol 2 meant to match up. <br /><br />carlito was in jail in the 1st one and dies in the original, and in the prequel he lives and don't go jail. <br /><br />the plot was OK , but they should have changed round some actors and some of the story line and the name of the film and it would have been a good film .<br /><br />i really expected it to end like the other one started. <br /><br />if some one has a opinion on this post it please.\n",
      "* * * * * * * * * \n",
      "1198\n",
      "If you want to know what kind of music white people listened to in 1974, this is the movie for you. But you'll have to listen to a lot of flutes and violins, too (see my remarks on My Girl 1 for the reference).<br /><br />Indulgent admission: I approached My Girl 2 with cynicism and annoyance, having just viewed its predecessor. But as an adoptee preparing to finally set upon a search for my birthmother, My Girl 2 made me look, with its theme of searching for mother.<br /><br />Put another way, anything I liked about My Girl 2 had nothing whatsoever to do with My Girl 2, but relating to a protagonist who asks, like so many adoptees, \\who's my mama\\\"? And if there are home movies of my mom in an acting troupe, I'll be sure to make my own movie about it.<br /><br />People are listless. Movies should not be listless. My Girl 2 (like My Girl 1) is just...listless.<br /><br />Avoid unless you're a complete sap who's comforted by a series of small annoyances.\"\n",
      "* * * * * * * * * \n",
      "1241\n",
      "Except for the acting of Meryl Streep, which is of note as always, I'd avoid this film because it has a dated \\Movie of the Week\\\" quality about it. But it is worth watching if you keep the several understories in mind: How a couple endures media scrutiny, and how the different are treated.<br /><br />Throughout the movie the issue is the credibility of the different. Australians are different than \\\"us\\\" (most of the rest of the world), so we (most of us) automatically come at it with an air of \\\"oddness\\\" about them. The couple involved is religious (different than most of culture) and Adventists (different) at that. So their lifestyle and mindset are suspect to begin with. Dingos are different animals than other dogs, so again we're faced with oddness questions. The real story, then, is how society (and the world) treats the different, those who have different accents, different beliefs, than we do and how we treat what they say as suspect.<br /><br />It's difficult to hear the phrase \\\"A dingo took my baby!\\\" without laughing and there are humorous posts, sadly, all over the web about it. But in the years that followed the story and the movie it has been discovered (as you'll find in web searches) that much larger children have been stalked by dingos. Research by experts in dingos have shown that it was not only possible but most probable that the baby was taken by dingos (maybe a pair), extracted expertly from the clothing and eaten within moments without a trace.<br /><br />Yet what is left behind is the question of why people defended dingos when they were found to be endangering children rather than killing the dingo to save the children, why because a woman's affect (expression) is so cold she is assumed to be guilty, and on and on.<br /><br />Haunting questions, with or without the film.\"\n",
      "* * * * * * * * * \n",
      "1245\n",
      "The Fallen Ones starts with archaeologist Matt Fletcher (Casper Van Dien) in the desert discovering the mummified remains of a 42 foot tall giant, now there's something you don't see everyday. Matt is working for property developer Morton (Robert Wagner) who wants to build a holiday resort on the land & he calls in fellow archaeologist Angela (Kristen Miller) for reasons I'm unsure of. Anyway they both try to figure out what they've got on they're hands when some of the team go missing, Morton calls in security guy Ammon (Navid Negahban) to handle the situation. Meanwhile ancient text translator the Rabbi Eli Schmidtt (Tom Bosley) translates some ancient text (as he would) & is shocked to learn of a evil prophecy in which these giants will rise up & take over the world for the Fallen One, or something like that. It's up to Matt to save the day & the whole planet...<br /><br />Written & directed by Kevin VanHook, who also has a small role in the film as the ancient warrior leader at the start, I personally thought The Fallen Ones was a terrible film & it's as simple & straight forward as that. There are so many things that are just plain bad about The Fallen Ones both on a technical & conceptual level, the script doesn't make a whole lot of sense & it doesn't really get going until the final 20 odd minutes by which time I had almost lost the will to live. The character's are awful & as clichéd as you like, the dialogue is bad as in very, very bad & the entire film is predictable, I mean it's not going to come as a surprise that Casper Van Dien is going to save the day is it? It's not a huge surprise that the mummified giant is going to come back to life either so why wait until over an hour into the film when most of the audience will be in some sort of comatose state. This is bad, very bad. You have been warned.<br /><br />Director VanHook doesn't impress, the fight scenes are absolutely awful & why dress your bad guys up in a horrible shade of purple? They look naff. To give it a bit of credit the special effects on the giant Mummy itself are actually good although there's not that many of them since he doesn't make an appearance for over an hour, there are also some normal sized Mummy's that look to have come straight from the set of The Mummy (1999), unfortunately these aren't used to any great effect & in fact are wasted as some comic relief. The mechanical Mummy was a pretty good idea but looked silly & there is no way on Earth that all those people inside could work in sync with each other to operate it, actually the more I think about the more ridiculous the idea is. Forget about any scares, tension or atmosphere & don't even think about any gore or violence because there isn't any.<br /><br />Technically The Fallen Ones isn't anything special & apart from the impressive giant Mummy effects there's little her to get excited about. The ghost CGI & water effects are terrible, it was made-for-TV & it's shows. The acting was poor, Wagner looks embarrassed & this is probably the only thing the likes of Dien & Bosley can get these days.<br /><br />The Fallen Ones is a bad film, there's no two ways about it as far as I'm concerned. Not recommended on any level or in any way, one to avoid.\n",
      "* * * * * * * * * \n",
      "1291\n",
      "First of all, this film can be divided into three segments. A promising opening, with the ambushing of some cavalry by the Cheyenne. This is followed by what can only be described as a long boring middle section, with the totally miscast Candice Bergen and \\Soldier Blue\\\" traveling together to reach the safety of an Army garrison. Miss Bergen spews forth inappropriate four letter words every time she opens her mouth, and looks like she just walked out of a 1970s Jack Nicholson movie. I mean she maintains zero interest, with zero believability. The third and final section involves the totally gratuitous slaughter of an Indian village. This is so obviously overdone to lay on the anti-war propaganda, that it comes across as simply long, outrageous, and contrived. Not recommended. - MERK................................ Jacobe (comment above) Here's an idea. Why don't you actually watch the movie you are commenting on, instead of chirping your liberal nonsense. This is not a political site, it is for reviewing films. - MERK\"\n",
      "* * * * * * * * * \n",
      "1373\n",
      "Dreyfuss plays a mob boss who lost his mind, but now he's \\fixed.\\\" Lane is his girl who's been messing around with his Number One (Goldblum), who's supposed to have something going with Lane's sister (Barkin).<br /><br />With what anyone could consider an all-star supporting cast (Burt Reynolds, Gabriel Byrne, Kyle MacLachlan and even an appearance by Richard Pryor) can't help this plot, as Dreyfuss proves he's not \\\"fixed\\\" and tries to kill just about everyone in sight.<br /><br />You know, it's not like you didn't know what was coming. The first ten minutes were nothing but guys trying to tell Goldblum what was in store for him when Dreyfuss gets out, but I'll save you all the trouble: skip this movie.<br /><br />The actual reason I picked this movie is because I've been on a Diane Lane kick lately and have been trying to see all her movies. The real let-down for me wasn't just the terrible plot, but also the fact that she doesn't show up until the last fifteen minutes of the movie (although we hear about her all through the movie). Even being a fan of over half of the cast can't help me enjoy this film. The parts where the suspense was supposed to mount found me laughing at what was actually going on.<br /><br />3 out of 10 stars.\"\n",
      "* * * * * * * * * \n",
      "1393\n",
      "(A possible spoiler or two) <br /><br /> \\Soul Survivors\\\" is quite possibly the worst theatrical released movie ever. Nothing makes sense at all, there's some plot about a girl who has strange visions of people who may or may not be dead. The entire movie is just a bunch of random shots of things that don't really tie together, by the end of the film. <br /><br /> Tha acting is non-existent, the camera work is jerky and the script is so confusing, it just makes the movie even harder to watch.<br /><br /> I kept waiting for something to tie the movie together but nothing came. Definitely the worst film of the year. -****1/2 stars.\"\n",
      "* * * * * * * * * \n",
      "1511\n",
      "This film is about a family trying to come to terms with the death of the mother/wife by moving to Genova, Italy.<br /><br />The plot of \\Genova\\\" sounds promising, but unfortunately it is empty and without focus. The film only consists of a collection of scenes depicting the daily life of the family, such as swimming, taking piano lessons or cooking eggs. Most of such scenes are redundant and tiresome, completely failing to engage viewers emotionally. The ending is very disappointing as it is not spectacular, moving or emotional. I can safely say that I am disappointed and bored by \\\"Genova\\\" The only thing good about the film is the sunny weather and the beauty of Genova. \\\"Genova\\\" can serve as an extended tourism advertisement for the city, but not as a film to be enjoyed.\"\n",
      "* * * * * * * * * \n",
      "1517\n",
      "I watched the Malayalam movie \\Boeing Boeing\\\" made in 1985 (which in turn is probably inspired by an English movie of same name) long back. The basic story of garam masala is the same - but it is told in a pathetic way, the classy jokes replaced by routine ones which are found in normal Hindi movies (probably the director did this to suit the taste of Hindi audience)... <br /><br />I haven't seen the English original. But had really enjoyed the Malayalam film (made by Priyadarshan himself)which was a side splitting comedy, back then. Of course the acting by Mohanlal,Mukesh and Sukumari (who did the cook's role) was so natural and spontaneous.<br /><br />Probably, I am too smitten by the Malayalam film that I cannot tolerate even the smaller flaws in its Hindi remake. But I still feel that Akshay Kumar and John Abraham have overacted. Paresh Rawal has done a decent job - but doesn't reach anywhere near Sukumari.<br /><br />But all in all its OK, if one compares it to other recent Hindi comedy movies.\"\n",
      "* * * * * * * * * \n",
      "1628\n",
      "It's sad when you can see what a movie was attempting to do, and it is quite obvious that it fell far far short of the mark. Film students should take this as a lesson and a warning. Would be graduate has an idea. He wants total control. So he writes, directs, produces, his cinematic masterpiece all by himself. Usually, his concept is far beyond his budget. Usually he writes an overblown script full of every tag line he can come up with. Usually, he is more interested in the grand sweep of the story rather than on the nitty gritty of working with actors on individual scenes. Usually, he ends up with a movie that is feeble in it's attempt to create miracles on a tiny budget. Usually, he ends up with a series of encounters (we cannot do justice by calling them scenes) that feel like they were written by a 12 year old. And usually he ends up with badly acted scenes that fail to grab the viewer. When you look at Judges from this perspective you can immediately tell it's just the usual fare.\n",
      "* * * * * * * * * \n",
      "2065\n",
      "the guy who wrote, directed and stared in this shocking piece of trash should really consider a carer change. Yes Rob Stefaniuk, i mean you! Seriously, who funded this crap? there are so many talented writers out there whom money could be better spent on. I think the idea is great but the acting, script and directing is just plain awful! The jokes are so not funny, I understand that they are supposed to be taking the mickey. BUT do it with style, this movie is screaming 1995 Saturday night live skits. Why, I say again why do studios give money to hacks like Rob Stefaniuk - NEVER GIVE A COMEDIAN THE Opportunity TO WRITE DIRECT AND STAR IN HIS OWN MOVIE. DUH!\n",
      "* * * * * * * * * \n",
      "2150\n",
      "i was disappointed. the film was a bit predictable and did not live up to the hype plastered all over the box. Having said that, the characters were well developed, the windego myth was used in a unique premise and the house was pretty spooky but it just missed for me. I kept waiting for that big AHHHHH or BOO! But it never came.<br /><br />Furthermore the movie was plagued with poor filming of poor special effects. Thus showing to much of a bad thing and not using atmosphere and viewer imagination to create the horror and suspense. Try movies like Session 9 or the Cube if your looking for a low-budget but well conceived horror movie.\n",
      "* * * * * * * * * \n",
      "2550\n",
      "As if there weren't enough of those floating around at the time already, we have here another lame GODFATHER clone from the director of IL CONSIGLIORI (1973) which I had watched earlier this year. The marquee-value name roped in this time is Telly Savalas who belatedly enters the proceedings and is first seen from behind, rather campily tending to his flowers and wearing a beret in the style of French painters! Apart from not looking minimally Sicilian, he sports no accent of any kind other than his familiar drawl. Antonio Sabato, then, makes for an unlikely gangster - apart from being a resistible leading man; his relationship with Savalas, which becomes paternal at the flick of an eye, is also unconvincing (especially since he subsequently becomes romantically involved with the latter's spirited teenage niece)! Besides, for a gangster flick, there's precious little action to speak of and none of it is in any way memorable (though the finale set in a clinic is well enough handled); furthermore, the score by Francesco De Masi is serviceable but nothing else. Incidentally, the bargain-basement DVD I rented starts off midway through the credits so that none of the cast members - or even the film's title - is ever listed!\n",
      "* * * * * * * * * \n",
      "2654\n",
      "We brought this film as a joke for a friend, and could of been our worst joke to play. The film is barely watchable, and the acting is dire. The worst child actor ever used and Hasslehoff giving a substandard performance. The plot is disgraceful and at points we was so bored we was wondering what the hell was going on. It tries to be gruesome in places but is just laughable.<br /><br />Just terrible\n",
      "* * * * * * * * * \n",
      "2860\n",
      "I am a big 1930's movie fan and will watch most anything that I see on Turner Classic Movies thats new for me. So I gave this a shot, after all it's the great Harold Lloyd who rivaled Chaplin as a great silent film comedian. I have watched much less of Lloyd's silent films then of Chaplins but I have to say I'm a much bigger Chaplin fan. Anyway this film fell so flat for me that I didn't finish it. I can understand why his sound career was so limited, he didn't get very good material to work with. After you've seen Chaplin, Abbott and Costello, The Three Stooges, Martin and Lewis, The Marx Brothers, and Laurel and Hardy do boxing spoofs (or violence in general), this one is very forgettable. I was also interested in watching Adolphe Menjou as I really enjoyed him in Paths Of Glory but his role here also did nothing special for me. Maybe they should have gotten into the boxing sooner because at least half the film (at least it seemed that way) is before he gets in a ring. I can tell there are a lot of Lloyd fans here and this wont be a popular review but I must rate this as compared to what else was out there at the time, 4 out of 10. Don't watch this with anyone your trying to get to like old movies as they may not watch another one with you again, very flat. For an alternative to anyone who really liked this or is looking for more little known comedies in general I recommend \\Kelly The Second\\\" made a few years earlier, another nobody becomes a boxer comedy with Patsy Kelly and in a supporting role Charles Chase. These have both been shown on the Turner Classic Movies channel.\"\n",
      "* * * * * * * * * \n",
      "2914\n",
      "Anyone who has seen 'Shine',Scott Hicks film of the heartbreaking yet ultimately joyful life of the pianist David Helfgotts; will I am sure realise that 'The SOLOIST' is very poor in comparison.It is as slow as a lullaby( I took five breaks answering emails just to wake up). The depiction of the homeless area way over the top and extremely self indulgent, on a par I fear with the awful beach battle depiction in Joe Wrights other disaster Attonment. .J Fox performance was an extremely poor example of acting and lacked credibility from the offset.Downey on the other hand; although struggling with a badly paced film, still manages to charm,9Is it me or is he turning into George Clooney in more ways than one?). Comparing both these well known so called 'STAR'actors though is unnecessary as the light that shines brightest as far as acting is concerned must be that of 'shine's' Geoeffry Rush who's brilliant performance definitely SHONE far brighter in my sky. With both 'Attonment' and 'The Soloist' the written word wins far more prizes for empathy of subject. Read the book and articles or wait for the DVD its bound to be in the bargain basement soon.\n",
      "* * * * * * * * * \n",
      "3062\n",
      "This movie is a good example of the extreme lack of good writers and directors in Hollywood. The fact that people were paid to make this piece of junk shows that there is a lack of original ideas and talent in the entertainment business. The idea that audiences paid to see this movie (and like an idiot I rented the film) is discouraging also.<br /><br />Obsessed teacher (3 years prior) kills teenager's family because he wants her. For no reason he kills the mother, father and brother. From the first five minutes you see the bad acting and direction. Years later, obsessed teacher breaks out of prison. HMM--usual bad writing--no one in the town he terrorized knows until the last minute. Obsessed teacher somehow becomes like a Navy SEAL and can sneak around, sniff out people and with a knife is super killer. Sure!!! Now obsessed teacher kills hotel maid for no reason, knifes bellhop for the fun of it, and starts to hunt down the teenager's friends. Now there is the perfect way to get the girl to love you. Obsessed teacher sneaks out of hotel---again it is stupid, ever cop would know his face--but he walks right by them. Now he kills two cops outside teenager's house and somehow sneaks into her bedroom and kills her boyfriend.<br /><br />There is not one single positive thing about this piece of garbage. If any other profession put out work of this low quality, they would be fired. Yet these idiots are making hundreds of thousands of dollars for writing and directing this trash.\n",
      "* * * * * * * * * \n",
      "3090\n",
      "I just saw this at the 2006 Vancouver international film festival. The synopsis in the festival guide sounded pretty good so we decided to check this one out. I'm sorry to say I was very disappointed.<br /><br />Besides being poorly written, it was boring. I won't take away from the actors as there is not much they could do with this bad script.<br /><br />First bite was cliché without being ironic, over the top seriousness without being funny. The movie would have been better had Hunt Hoe went with a campy horror feel. Instead he took himself to seriously and this resulted with a boring film. I can't recommend this film. It felt too long and all in all just plain weak.\n",
      "* * * * * * * * * \n",
      "3165\n",
      "The films of UPA are surprisingly well rated on IMDb despite the fact that the animation quality is light-years behind that of Looney Toons, Disney and MGM at their prime. Sadly, due to rising costs in making pretty cartoons with high frame-rates and lovely backgrounds, the UPA style (which debuted about 1950) began to dominate in the late 50s and 60s. After all, the films were dirt cheap to make and they'd received several Oscars to \\prove\\\" that the cartoons were now mainstream. So as a result, lousy animation was becoming the norm and this trend wasn't reversed until the 1980s.<br /><br />This UPA film is one of the early ones. The characters are very simply drawn (any simpler and they would have used stick figures) and the backgrounds were ugly--simple line drawings with colors added in a very slap-dash manner (often with a sponge and rarely completely filling the items).<br /><br />As for the story, it's a jive story with a strong jazz style attitude. Some will love this, others will just find it very, very loud. It's the traditional \\\"Frankie and Johnny\\\" story and because of the shootings and all, it's probably not a great film for the kids. Heck, because of the animation and jazz, it's not a particularly good film for me, either! Some will read my review and no doubt think I am a crank (which I am, to a degree). However, I love animated films and a little of this minimalistic UPA style goes a very, very long way and you can't seriously consider them great works of art--just very, very quickly made cartoons. Ignore the Oscars and try watching some classic cartoons or something--anything else!\"\n",
      "* * * * * * * * * \n",
      "3293\n",
      "What was the purpose of this film? I suggest it was to make a handful of actors and their producers and director a big payday for doing nothing. Even my favorite actor, Bruce Dern, couldn't keep my interest in this boring movie. A braindead ex-pugilist falls in with a weird woman and her relatives. He starts out as a fix-it man for the woman, and winds up beating a man and getting caught up in a kidnapping scheme. It was so confusing I can't even write a decent critique. If you see this one, my sweet, make sure it is after dark so you can go right to sleep.\n",
      "* * * * * * * * * \n",
      "3318\n",
      "Dear me. Where do I start? The dad isn't anywhere near old enough to be the girl's dad. He corpses on camera in the first 5 minutes of the film. The favoured exclamation in this film is \\Jesus Christ!!!\\\". Zombies are agile, stupid and few and far between. Motives are utterly incomprehensible and a narrative does not exist. People 'rush' to their destination in jeeps driven at 3 MPH. The world seems to be carrying on as normal yet these are supposed to be the end days. Breasts appear for the sake of breasts. Normally such an approach would provide some redemption but the rest of the film actually made me uninterested in breasts or the future of humanity. There's a dog for no reason and thin, orange blood that turns the stomach. The General and his catchphrase of \\\"Shut the f**k up!\\\" is the only redeeming feature. As for the rest, I sincerely hope to hear that they had done the decent thing and killed themselves.\"\n",
      "* * * * * * * * * \n",
      "3644\n",
      "This could be a cute movie for kids My grandson watched it once. he was watching it a second time I was watching some of it with him.<br /><br />When the little bear gets lost on the ice burg and he is in the water he is trying to get to a piece of ice it says \\Come back stupid ass fool\\\".<br /><br />I don't want my 3 year old grandson watching movies with words like this in it.<br /><br />That is why its rated for children. Should be child friendly. That is what I would expect. put out by warner brothers and G rated I would expect this to not have cuss words in it. The words don't even fit the movie in most places as it seems added later. And the movie drags out in many parts.\"\n",
      "* * * * * * * * * \n",
      "3988\n",
      "A boring movie about a boring town in the 50's. How can anyone think this is a classic? The producer pretty much ended his career by pushing his girlfriend, Cybil Shepard, into several movies that were way above her acting ability. I think this movie gives an insight to how bad Peter Bogdonovitch's future movies were going to be. Cybil Shepard's career took a dive after being in several movies that Peter Bogdonovich produced. It wasn't until \\Moonlighting\\\" that her career started to come back. I thought the acting was poor rendition of the, \\\"Graduate\\\". I have noticed that this movie hasn't been shown in the US. The only place I have watched it was overseas in Europe late at night.\"\n",
      "* * * * * * * * * \n",
      "4080\n",
      "George Brent is a reporter sent to interview an heiress. She is supposedly the heir to a face cream fortune. He interviews her on her yacht. They fall for each other in bathing costumes.<br /><br />It turns out (quite early) that she is not an heiress. She part of an advertising campaign for the cold cream.<br /><br />The movie follows the ups and downs of their romance.<br /><br />The supporting cast does little to buoy it up. Davis and Brent carry the picture. Though it's fairly predictable, it is also fairly entertaining. It's far from her best. But, especially considering its obscurity in her oeuvre, it's not one of her worst, either.\n",
      "* * * * * * * * * \n",
      "4270\n",
      "For those of you who've never heard of it (or seen it on A&E), Cracker is a brilliant British TV show about an overweight, chain-smoking, foulmouthed psychologist named Fitz who helps the Manchester police department get into the heads of violent criminals. It's considered to be one of the finest shows ever to come out of England (and that's saying something), and was tremendously successful in England and around the world back in 1993.<br /><br />Now, the original stars have re-teamed with the original writer to knock out one more 2-hour episode. I've loved this show ever since I'd first seen it, over a decade ago. The DVD box set holds a place of honor in my collection, and I can quote a good deal of Fitz's interrogation scenes practically word for word. The idea of Robbie Coltrane reteaming with Jimmy McGovern for another TV movie about Fitz filled me with absolute glee.<br /><br />I'll start with the good. One of the many things that impressed me about the original Cracker series was how quickly Fitz was defined as a character. Five minutes into the first episode  with his lecture (throwing the books into the air), his drinking, and his cussing of the guy after him on the gambling machine queue  and you knew, simply knew, who this character was. You could feel him \\clicking\\\" in your mind, the kind of click that only happens when a great actor gets a great role written by a great writer.<br /><br />Coltrane, of course, remained great throughout the show, but I always felt that some of the later episodes  those not written by McGovern  mistreated the character.<br /><br />So the good news is this: Fitz is back. As soon as you see him in this show  making incredibly inappropriate comments at his daughter's wedding  you'll feel that \\\"click\\\" once again. It's him: petulant one moment and truly sorry the next, always insightful, sincere to the point of tactlessness but brilliantly funny in the process. If you love this character as much as I do, you'll be delighted with how he is portrayed in the movie. And this extends to Judith and Mark: in fact, everything having to do with the Fitzs is handled perfectly.<br /><br />The problem I do have with this movie revolves around the crime Fitz is trying to solve. In standard Cracker fashion, we know exactly who the criminal is in the first five minutes  the suspense lies in seeing Fitz figure it out. In this case, we have a serial killer who is out for American blood. And the reason for this, unfortunately, is not due to any believable psychological trauma  rather, it seems that the murders are here simply to allow the writer to display his personal political beliefs.<br /><br />It's difficult for me to write this, as I truly believe that Jimmy McGovern is one of the greatest writers in the world. Nor do I have a problem with movies that are about current issues, or movies that take a political stand. But in the Cracker universe, we expect to see the characters behaving like human beings, not like caricatures. Instead, the Americans in this movie are all depicted in an entirely stereotypical fashion. They're know-nothing loudmouths who complain about everything, treat the locals like crap and cheat on their wives  one of them even manages to do all of the above within less than 5 minutes. I honestly thought I'd mistakenly switched channels or something.<br /><br />But it doesn't stop there. We get constant reminders of just how badly the war in Iraq is going  reminders that have nothing whatsoever to do with the story and appear practically out of nowhere. The killer is so busy ranting about how Bush is worse than Hitler that he almost forgets to get on with the killing; but more to the point, he is such a mouthpiece for the writer's political views that he forgets to act like a believable human being, and thus we  as an audience  don't buy his sudden transformation from a happy family man to a tortured serial-killing soul.<br /><br />I can't say that this ruined the show for me  it's was still good TV, better than almost everything else in the genre (mainly due to, once again, Coltrane). But its constant politicizing made it impossible for it to be as good as the real Cracker classics like \\\"To Be A Somebody\\\"  an episode that was just as \\\"issuey\\\", but one that was handled with far more subtlety and psychological depth.<br /><br />Two other small points: Panhandle not being around is a disappointment, but what's worse are her replacements. The entire police department  which for so long filled with such great characters - is now full of vanilla. Completely interchangeable cops who lack any and all personality (how you could drain Coupling's Richard Coyle of personality is beyond me, but it is indeed missing here).<br /><br />Also, there are couple of moments where the show lost its believability for me. One such instance revolves around Fitz having to narrow down the entire population of Manchester from 1 million to a hundred based on some very strange criteria (French windows? How does the computer know if I have French windows?)  he not only succeeds in doing this, but he succeeds in less than an hour. I don't think so.<br /><br />So, all in all, I was a little disappointed. It's recommended viewing, but remember to leave at least some of your expectations at the door. Still, if there's new series to come after this, it would all have been for the good: I'm convinced that McGovern can still write great stuff, and maybe now that he's got his politics out of his system he can go back to writing about people.\"\n",
      "* * * * * * * * * \n",
      "4325\n",
      "Perhaps one of the most overrated so-called horror classics ever made, Halloween does feature the memorable Michael Myers and some great acting by Jamie Lee Curtis.<br /><br />However, its rewatchability factor is very close to zero, as there is an unforgivable amount of time spent on dullness/culmination to the actual events.<br /><br />This is the sort of movie you can walk away from to microwave popcorn and not miss anything at all.<br /><br />How it spawned so many sequels, I will never comprehend.<br /><br />Thank God Rob Zombie is remaking this. And generally, I hate remakes.<br /><br />Surely he will more than compensate for all the random time-filling gaps with some quirky points of interest that the original severely lacks.<br /><br />This is a movie we feel we have to like, much like the way we're taught that we SHOULD enjoy Dickens.<br /><br />Don't assume this is a classic.\n",
      "* * * * * * * * * \n",
      "4376\n",
      "I saw this \\hot\\\" movie when it came out in 1986. It had a X rating for a brief scene involving oral sex but played in mainstream theatres (it was an \\\"art\\\" film). Supposedly it's the first film to ever show a respected actress in an explicit sex scene.<br /><br />What I saw was a boring tale about a high school boy (Federico Pitzalis) in love (understandably) with an older woman (Maruschka Detmers). As has been mentioned before Detmers is very beautiful with a good body BUT she also gave a very good performance. Pitzalis was (to put it mildly) pretty poor. It's no wonder he never made another movie. Still, despite the infamous sex scene (which is explicit but pretty brief), this a slow moving dull story which bored me silly. The good acting by Detmers only helped to a certain point. Mostly I was looking at my watch waiting patiently for it to end. If it didn't have that sequence this movie would have been forgotten long ago. Dull and slow. You can skip this one.\"\n",
      "* * * * * * * * * \n",
      "4409\n",
      "Special effects? Good.<br /><br />Script? Terrible. No plot. No depth. No meaning. This film rendered Superman as a meaningless hero, a hero with no archetype. In the original film, he represented America in the Cold War. Here, he represented nothing but a Hulk.<br /><br />Sure, the actors were fine. Kevin Spacey was a fine choice, among others.<br /><br />This still does not resolve the problem that this film had no depth whatsoever. I cannot see how anyone can come away with anything meaningful from this film, when Superman was, and is, daily created to be a meaningful hero in not only comics but also in people's minds. This was a real waste of money considering how many directions this film could have taken.<br /><br />Just a few instances: Lex Luthor could have been a villain of global corporatism, political domination, totalitarianism, and on and on and on. He was just another goofball Hackman incarnation.<br /><br />And Superman? For what did he stand in this film? Nothing but another hack \\savior\\\" figure.<br /><br />Wait until it comes to the dollar theater if you see it at all.\"\n",
      "* * * * * * * * * \n",
      "4682\n",
      "I understand there was some conflict between Leigh and the great Maggie Smith during the filming. Understandable when you put one of the world's greatest actresses of all time (Smith, of course) with one whose performances seem to get worse with each subsequent film.\n",
      "* * * * * * * * * \n",
      "4722\n",
      "I enjoy quality crapness, and this ranks up there with some of the finest. the cg is out of this world, or at least pre-dates our world, and the insanity of a 6 foot bloke in a rat outfit chasing after people is laughably bad. I quite enjoyed some of this, but the acting is so goddamn awful, and even the obligatory nude scene doesn't really have any baps out in it. just a complete waste of time if ever i saw one. I don't know who wasted more time, me watching this, or the poor saps who got dragged into making it in the faint hope that this will launch their acting careers. I can assure you, it wont. However, on a brighter note, I have managed to successfully do the 6 degrees of Kevin Bacon from this movie, so I think it was almost worthwhile watching the 91 minutes of it.\n",
      "* * * * * * * * * \n",
      "4823\n",
      "I picked up TRAN SCAN from the library and brought it home. We have considered taking a trip out east and thought it would give us a feel of what it was like. The film was a total waste of time, if I went out to buy it I would call it TRAN SCAM when I saw that it costs $49.<br /><br />The DVD ran for 8 minutes and showed a roller coaster ride across Canada with my stomach feeling ill as they went up and down and around curve with the film at high speed.<br /><br />There was a lot of footage they probably shot on this and you would think that they could have made a better product. If I would of done this project I would of provided more footage, paused on road signs to let people know where they were and linger in places to view the scenery. To make a film like this it should of been 60 to 90min. Oh yes the case said it was in stereo, the whole film was a hissing sound from sped up car sound, thet could of at least put some music to it.<br /><br />If you want a good cross Canada film watch The railrodder / National Film Board of Canada starring Buster keaton (the one of the last film he made) in this comical film Buster Keaton gets on to a railway trackspeeder in Nova Scotia and travels to British Columbia\n",
      "* * * * * * * * * \n",
      "4913\n",
      "Don't get me wrong, this is a terrible, clichéd film, but it is a delight for fans of Olivia Hussey - quite possibly the most intoxicating beauty ever to grace the silver screen. One poster stated that she was unpleasant to look at - I wonder what his ideal woman looks like - Paris Hil-slut? Blockbuster should really establish a sub-genre to this type of film, as the Fatal Attraction plot has become a genre unto itself. When will Blockbuster adopt the \\Adultry\\\" section? It will fit in quite nicely between the drama and action sections, right? This film revolves around Olivia Hussey, who spends a night of passion with an unstable yacht owner who may have murdered his ex-wife, who looks remarkably like Ms. Hussey. This ne'er-do-well proceeds to stalk Olivia and thus make her life a living-hell. I like Olivia Hussey, but I have no sympathy for characters in movies that cheat on their spouses, so I really wasn't rooting for Olivia to make it out o this stinker alive.<br /><br />VIOLENCE: $$ (There is a smattering of violence in the film. Don Murray and Anthony John Denison get involved in a fisticuffs when Denison says that he will not stop seeing Olivia, Murray's wife, because she is just too good in bed. Olivia also gets to handle a shooter and might get to squeeze off a round - I'll let you watch).<br /><br />NUDITY: $$ (Olivia is the queen of brief nudity and supplies a little here. She has a love scene with Anthony John Denison and also has a shower scene - shot at a distance).<br /><br />STORY: $ (We've seen this plot before - a hundred times over, and oftentimes done much better. The true culprit, when trying to decipher why this film was a dud, is William Riead. The man's dialogue is sophomoric and moronic. The man has no story-telling abilities and fails to build believable human reactions to the plot. These people, of the upper strata of society, talk like middle school kids - with a habit of sleeping during English class. I have placed Riead on the Never-to-be-Viewed-Again list).<br /><br />ACTING: $$$ (The acting wasn't \\\"phoned-in\\\" as the insiders say, but was hindered a great deal by Riead's juvenile script. Olivia Hussey resorts to calling Anthony Jonh Denison \\\"weird\\\" and \\\"crazy\\\" to his face when he begins to stalk her. Hussey, who is still beautiful, delivers the best performance here but Denison was equal to the task of portraying a demented, love-crazed stalker. Don Murray was basically just there - his character not fleshed out, and Edward Asner, a terrific actor when given something with substance, is ill-used in this film).\"\n",
      "* * * * * * * * * \n",
      "4952\n",
      "This 1970 hit film has not aged well, but frankly, it was not that good when it was released. Yet, it was a hugely popular success perhaps because the idea of fatalistic young love must have appealed to audiences saturated by constant TV coverage of the Vietnam War. The plot is pure drivel as it concerns Oliver Barrett IV, a privileged Harvard hockey player, who meets and falls in love with Jenny Cavelleri, an antagonistic Vassar music student proud of her working class background. His old-school father naturally disapproves of Jenny, and in a typical act of rebellion, that means the young couple gets married in one of those hippie-era, extemporaneous ceremonies. He lands his dream job in New York, but she gets unexpectedly ill and dies of her terminal disease. There is a veneer of then-contemporary film-making techniques displayed by director Arthur Hiller, but none of that can hide the old-fashioned, cliché-ridden story at its core. The inevitable ending left me particularly unmoved.<br /><br />Both Ryan O'Neal and Ali MacGraw became stars with this movie as Oliver and Jenny but inexplicably so since neither seems able to convey the depth or complexity required to make their characters compelling. At least the boyish O'Neal is sincere in his weakly defiant approach, but MacGraw is so wooden and smirky in behavior that it's hard to see what Oliver sees in Jenny beyond her sarcastic façade. John Marley (two years before finding the decapitated racehorse in his bed in \\The Godfather\\\") does better as Jenny's plainspoken baker father Phil, as does Ray Milland as the seemingly insensitive Barrett paterfamilias. The overly familiar Frances Lai music has almost become parody in itself over the years. The print quality on the DVD is good, though the only extra is a rather effusive commentary track by Hiller. The most interesting bit of trivia is that author Erich Segal (upon whose book this movie is based) conceived Oliver as a mix between two Harvard roommates he knew  Vice President Al Gore and actor Tommy Lee Jones, who happens to have a bit part in the movie as one of Oliver's roommates.\"\n",
      "* * * * * * * * * \n",
      "4956\n",
      "I go to UCSB and take some classes with the executive producer, Alison Anders. She's a superb teacher and director so anything she put her name on, I thought must be pretty good. This film as a selection at the Santa Barbara film festival seemed like a good choice.<br /><br />While this movie included some nice shots and cinematography, the lack of story and coherence really took away from anything the it was attempting to accomplish. My main problem was that this was someone's first film and you could obviously tell. Bad acting and an even worse screenplay stopped this film from getting off the ground. The soundtrack had some nice music that gave a sense of the main characters struggle to cope with the sadness that lead to his leaving and now returning the place he grew up. I just have to say that despite some of the better craft of the film, it's lack of story and performance really prevented it from being some good.\n",
      "* * * * * * * * * \n",
      "4965\n",
      "A truly dreadful film. I did not know initially that this was a Kiwi effort - but very soon I started to realize that all the characters were speaking with hardly disguised kiwi accents under the fake American ones. Why did it need to be set n America anyway? - it could have been set in NZ and then the actors could have used their normal voices. Surely someone in the production team could hear the dreadful attempts at speaking with American accents? A bad bad film. I am surprised it has lasted this long - how did it make it out of the can? It just seemed like a very poor attempt at a Segal/Willis type action man flick.A TOTAL WASTE OF MONEY! If there was any TAXPAYER money in this piece of trash, I would be leading a revolution to have all the money put back into the Treasury. I am still reeling (get it? pun, reeling!) at the absolute garbage I have just seen. Why did I continue to watch? Well, I am a movie fanatic and cant help ,myself!\n",
      "* * * * * * * * * \n",
      "5023\n",
      "There are so many puns to play on the title of the spectacularly bad Valentine that I don't know where to begin. I will say this though; here is a movie that makes me long for the complexity of the Valentine cards we used to give out in elementary school. You know, the ones with Batman exclaiming \\You're a super crime-fighting valentine!\\\"<br /><br />Valentine is a slasher movie without the slightest hint of irony, one of the few horror movies in recent years that ignores the influence of Scream. The villain is omniscient and nigh-invulnerable. The heroes are easily scared when people run around corners and grab them by the shoulders screaming \\\"HeyIjustleftmycoatbehind!\\\" The score is more overbearing than Norman Bates' mother.<br /><br />The flimsy plot follows several childhood friends, now grown up and extremely curvaceous. Since the film gives them nothing else to do, they stand around and wait until a masked stalker kills them one by one. This stalker appears to be former nerd Jeremy Melton, who was constantly rejected by women and beaten by men in high school. With Valentine's Day approaching, the women begin receiving scary cards foretelling their doom. Melton seems like the obvious suspect. Only problem is, as numerous characters warns, in thirteen years Melton could have changed his appearance to look buff and handsome. So (insert terrified gasp here) everyone is a suspect!<br /><br />Here's problem one. In order to have any sense of suspense while watching Valentine, you have to accept a reality in which a high school nerd is capable of becoming David Boreanaz. Nerds don't turn into Angel when they grown up, they turn into older, balder nerds. He's not a terrible actor, but the script, by no less than four writers, gives him and the rest of the cast nothing to do but scream and make out. Denise Richards (the bustiest actress in Hollywood never to star in Baywatch) is especially exploited; most shamefully in the blatant excuse to get her in a bathing suit just before a crucial suspense scene. Note to self: always bring a bathing suit to a Valentine's Day party. Just because it's February doesn't mean you might not feel like taking a little dip.<br /><br />The slasher in Valentine dresses in head-to-toe black with a Cherub's mask. Here's problem number two. The filmmakers clearly thought this would be a disturbing image to have on the head of someone who's whacking people in the face with hot irons. Plain and simple, it's not. Instead, it just made me wonder how a guy with a mask that covers his entire face, including his eyes and ears, can move so stealthily without bumping his shins on chairs or tables. Then again, given the things the Cupid Killer does, maybe he can teleport and his eyes are on his hands. <br /><br />Not only is the movie bad, it isn't even sure who the killer is; the final \\\"twist\\\" is more \\\"Huh?\\\" than \\\"Hah!\\\" When you're not scratching your head you're yawning, then groaning, then searching for the nearest exit. Do not watch this movie. Even if you're alone on Valentine's Day, find something, ANYTHING, else to do. You'll be glad you did.\"\n",
      "* * * * * * * * * \n",
      "5233\n",
      "This movie was o.k. but it could have been much better. There are some spooky moments but there aren't enough of them to make me ever want to see this movie again. There are some scenes you could fast forward through & not miss anything. The biggest flaw is that it is so predictable, & that is the reason why I rated it so low. It's watchable but don't expect anything great.\n",
      "* * * * * * * * * \n",
      "5238\n",
      "It's hard to praise this film much. The CGI for the dragon was well done, but lacked proper modelling for light and shadow. Also, the same footage is used endlessly of the dragon stomping through corridors which becomes slightly tedious.<br /><br />I was amazed to see \\Marcus Aurelius\\\" in the acting credits, wondering what an ex-Emperor of the Roman Empire was doing acting in this film! Like \\\"Whoopie Goldberg\\\" it must be an alias, and can one blame him for using one if he appears in this stinker.<br /><br />The story might been interesting, but the acting is flat, and direction is tedious. If you MUST watch this film, go around to your friend's house and get drunk while doing so - then it'll be enjoyable.\"\n",
      "* * * * * * * * * \n",
      "5543\n",
      "A Cinderella story made for adults who live in dreamland. The romance is very unrealistic, fluttery, lovey dovey, perfect etc. The Cinderella plot till the very end and Shahid Kapoor is the only reason for my stars. If you're looking for a dreamy romance with a twist, this is definitely you're movie, but for the rest of us real world people, I'd highly recommend saving your three hour watch time. Wake up people!<br /><br />Four out of the five people that saw the film with me would not recommend the film. We had a great time bashing majority of the unrealistic scenes. Maybe I'm missing something.. I just can't believe a movie like this can beat a classic like HDDCS!!\n",
      "* * * * * * * * * \n",
      "5622\n",
      "I'll be honest- the reason I rented this movie was because I am a huge fan of Kyle Chandler's (most notably from Early Edition). Since he usually plays the good guy, I wanted to see him as in a different role (out of curiosity). The plot itself also drew me in; a wanna-be hitman (Tony Greco- a.k.a. Mr. Chandler) must kill a person at random before he is trusted with the life- or, rather, the death- of a witness who will testify against someone in \\the family\\\". The movies was nothing like I expected. It was sick, I hated the end (if you saw it, you'd know why), and there were so many unnecessary parts. Basically- it was filthy, and made little sense. Yes, it was a mob movie, and yes the guns do go BOOM. But there's more to a movie than that. This film acted as if it didn't have the time to go into detail- just deal with it and understand it. The acting really made up for it- James Belushi was pretty amusing as \\\"The Rose\\\". Sheryl Lee made Angel seem as believable as she could get. She surprised me the most. And Kyle Chandler was equally convincing as an anxious newcomer to \\\"the family\\\". If only the script did justice to the actors.\"\n",
      "* * * * * * * * * \n",
      "5684\n",
      "I have only recently been able to catch up with the films of Marilyn Miller since they are not shown on TCM in the UK.I have been much intrigued over the years because this was one of the superstars of the 20s.What was she really like.To some stars of this era like Jolson some of the magic still shines through,but alas not for Miller.Her dancing seems awkward and poorly choreographed,her singing somewhat limited and as an actress she makes Ruby Keeler seem like Hepburn.Even worse in this film as the public had grown tired of musicals virtually all of the musical numbers have been deleted.So we are left with a comedy of that period with little real appeal.She was being paid $500000 for this!So i have only two conclusion.Either she was poorly served by the cinema or she had no talent at all.I think that the truth is nearer the later than the former.\n",
      "* * * * * * * * * \n",
      "5800\n",
      "Having read some good reviews about this film I thought it was about time I go and see it. Well I don't know why I bothered. Basically this family is entrusted with a clue that leads to a whole big stash of ancient treasure, hidden by the Knights Templar during the War of Independence. Apparently it had to be kept out of the hands of the British at all costs. Firstly, why did said Knights move the treasure from Europe to America? How did Nic Cages character figure out that 'Charlotte' was in fact a ship? How do they figure out all the clues and riddles in about a minute? And how could two people suddenly become master thieves and steal what is probably the best guarded bit of paper in the world? These are just some of the plot holes in this inane bit of Hollywood action gone wrong. Cage has been in some great action movies - 'Face-Off' and 'The Rock' - so why has he lowered himself to this? Is he getting too old?! His character is pretty annoying really - Somehow this 'ordinary' guy steals the Declaration of Independancd, outruns thieves with guns, escapes from the FBI and generally seems invincible. The whole film doesn't really make any sense and all in all it was quite a disappointment.\n",
      "* * * * * * * * * \n",
      "5870\n",
      "I think it's time John Rambo move on with his life and try to put Vietnam behind him. This series is getting old and Rambo is no longer a solider but a cold blooded killer. Ever time he turns up on the screen someone dies. Vietnam was not a fun place to be and frankly I am tired of Hollywood making it seem like it was. This is not the worst of the films concerning Vietnam, that honor goes to John Waynes Green Berets. In any case John Rambo carrying around a 50 cal Machine Gun taking on what seems to be half of the Viet Cong army plus a good many Russians is an insult to watch. What is worse is Rambos cheesy speech at the end...Please!! Oh yeah I heard they are making another one...\n",
      "* * * * * * * * * \n",
      "6038\n",
      "There is a DVD published in the UK in 2002 Code HRGD002 on the cover, no ASIN, VFC 19796 on the disk, no IFPI code in the inner rim.<br /><br />Probably a straight transfer from VHS. <br /><br />There is no much point is commenting an adult film. But this one contains a minimal plot, and the characters are believable. It was shown in the United States in normal cinemas.<br /><br />I've seen it In Pensylvannia way back in 1975.<br /><br />As such it deserves a place in an Encyclopedia of Movies. The DVD has no special features and no subtitles, and was probably made using a VHS tape as source\n",
      "* * * * * * * * * \n",
      "6145\n",
      "I am not a big fan of Rajnikant in the first place, but Baba was a huge disappointment. In between an awful storyline, the action and songs were only mediocre. The storyline becomes very preachy. Instead of running for office like NTR or MGR, Rajni almost appeared to be running as Tamil Nadu's next big guru. My wife tells me that since this film came out, Rajni swore off doing any more movies!<br /><br />We were lucky initially to have bought Babu (an oldie by Sivajiganeshan) online by accident when trying to buy this one....that was a great film, which made up for having bought this dud...except it makes Baba look even worse by comparison!<br /><br />Bryan\n",
      "* * * * * * * * * \n",
      "6245\n",
      "During the Civil War, there were many cases of divided loyalties; obviously, many occurred \\In the Border States\\\", where North met South by happenstance of geography. From the border, young father Owen Moore goes off to join the Union Army. Shortly, Confederate soldier Henry B. Walthall, separated from his regimen, wanders onto the enemy's property, desperate for water; he finds a supply where the Unionist's young daughter Gladys Egan sits. When the Yankee soldiers track him down, Little Gladys innocently helps the Confederate hide. Later, when he returns to kill her father, the little girl's kindness is remembered. A sweet, small story from director D.W. Griffith. Location footage and humanity are lovingly displayed. <br /><br />**** In the Border States (6/13/10) D.W. Griffith ~ Henry B. Walthall, Owen Moore, Gladys Egan\"\n",
      "* * * * * * * * * \n",
      "6284\n",
      "I got this in the DVD 10 pack CURSE OF THE DEAD. You gotta love those bargain packs. For even if they don't feature true remastering, restoration and all that hoo-ha, and the films are generally in full-frame pan and scan format, there's no denying that there are always a few gems included. And by \\gems\\\", I mean there's always some good crap to be seen, especially if the films are from the '70s as The Mansion of Madness is.<br /><br />My copy is called Mansion of Madness, but when the title screens roll it's Poe's Dr. Tarr's Torture Dungeon. Doesn't matter, really, as crap is crap is crap, no? Yes! But saying this film is completely worthless is not true at all. There are some funky elements here and there, and obviously the flick did have a decent budget.<br /><br />The opening title sequence is cool with its colored negative run through a cheap TV look. The dialogue is always hilarious. Near the beginning of the film, the horse and buggy driver gets out to move a dead tree stump in the middle of the road. \\\"WHAT STRENGTH!\\\" says Our Hero. Funny, then, that this dude should later not be able to fight off the wacky woodsmen when they come to make freaky fun. You'll completely forget that this guy was even in the movie until he crops up again later near the end. That's how memorable these characters are.<br /><br />The best part about Mansion of Madness, however, has to be the wacky music and screwball hijinks that the good guys have to endure. It's like bad cartoon music that a three year old would find enjoyable. And why all the weirdo slapstick, anyway? I'd say my fave moment had to be when the horse and buggy is ambushed by the forest freaks when they pull a stupid looking homemade ghost up by a stick in the middle of the road and make the buggy stop. What the hell? Oh yeah, there's plenty of boobies to be seen, too, for those of you that dig such things. Boobies, bad dialogue, and wacky music. That best sums of Mansion of Madness for me. It's well worth at least one viewing, and may be a lot better if you've had a few to drink or whatnot. I can't say I was ever bored watching it, but I can't deny that it's also a barrel of poop. Kinda like Magical Mystery Tour but with a plot, but not. Hmm.<br /><br />And Mr. Chicken PWNZ.\"\n",
      "* * * * * * * * * \n",
      "6293\n",
      "When a film has no fewer than FIVE different titles, it usually means several things and almost always means that the film has major flaws somewhere. Necromancy has major flaws and is just out and out bad. I saw the version on video called Rosemary's Disciples. Yes, I am sure it differs from other versions, but I am not inclined to think that in any way is any other version and the few more minutes it might have - going to be really any better. The story is perhaps the biggest problem: the film opens with Laurie waking up and her husband taking her to a town where he has a new job at a toy factory for occultists(yep, it gets bad this early!). The town is called Lillith and has some guy with a rifle on the bridge to make sure only those selected by the \\owner\\\" of the town are allowed in. Soon we find that everyone living in Lillith is a witch and all follow the directives of Mr. Cato - the head of this municipal coven who wants his dead son back(hence the name Necromancy). The people in the town do witch kind of stuff - have ceremonies, some like wearing a goat's head, and promiscuity abounds(not much really shown in this area), but none of these people are very good actors. Mr. Cato is played robustly by the figuratively and literally larger-than-life movie maverick Orson Welles. Welles is misused, but, make no mistake, he is the best thing in this movie. And that is really the saddest part of Necromancy as Welles gives a pretty poor and pedestrian performance with little directorial guidance. In one scene at a party, director Bert I Gordon keeps going back to Welles watching the action of the party using the exact same frames! It looked ridiculous. As did the scene that was repeatedly seen over and over again of a woman's arm centered in swirling flames after a car crash. It looked like the arm of a shop mannequin. The story is never fully utilized as we never really know what happens: many scenes are shot like dreams or hallucinations and never confirmed. This also applies to the corny, hokey ending. The lead Pamela Franklin is pert and pretty and has some talent. Other than her performance, real slim pickings from the rest of the cast sans Welles. The direction and story were both done by Gordon who obviously had little gas left in the engine. This is not a good movie in any way under any name.\"\n",
      "* * * * * * * * * \n",
      "6298\n",
      "From around the time Europe began fighting World War II, until the war's end, Hollywood (with significant prodding from the government) made tons of movies which were designed to try and get young men to enlist in the Army, by making the life of a serviceman appear \\cool.\\\" This is by far the sloppiest, implying that the life of a soldier is devoid of work, you get the best food, and you get to lie around all day listening to Ann Miller on the radio. I am far too young to have participated in WWII, but I think that there was more to it than that. There is the barest cat's whisker of a plot, and a bunch of musical numbers featuring some of the day's leading acts.<br /><br />I think that by 1943, even the most naive of civvies knew that there was more going on overseas than the wacky hijinks portrayed in this movie. While I am sure that it was meant to be viewed as escapist entertainment, I can't help but wonder if the family and loved ones of men fighting in the war, were amused or repulsed by this trivialization of their loved ones' sacrifice.\"\n",
      "* * * * * * * * * \n",
      "6438\n",
      "I thought I had seen this movie, twice in fact. Then I read all the other reviews, and they didn't quite match up. A man and three young students, two girls and a boy, go to this town to study alleged bigfoot sightings. I still feel pretty confident that this is the movie I saw, despite the discrepancies in the reviews. Therefore I'm putting my review back: If you like the occasional 'B' movie, as I do, then Return to Boggy Creek is the movie for you! Whether it's setting the sleep timer, and nodding off to your favorite movie-bomb, or just hanging out with friends. Boggy Creek, the mute button, and you've got a fun night of improv. Look out! Is the legend true? I think we just might find out, along with a not-so-stellar cast. Will there be any equipment malfunctions at particularly key moments in the film? Does our blonde, manly, young hero have any chest hair? Will the exceptionally high-tech Technicolor last the entire film? You'll have to watch to find out for yourself.\n",
      "* * * * * * * * * \n",
      "6469\n",
      "Normally, I have no problem with a movie or story with an ending that leaves you wondering to puzzle out what really happened, when it's done on purpose...<br /><br />But this movie really feels like they got all but the last 15 minutes done, then realized they had $5 left to finish on...<br /><br />I saw it on TBS... I recommend you not spend money on it either. If you catch it on TV, watch all but the last 15 minutes, then walk away and make your own ending in your mind.<br /><br />Really, the movie would have been better if they had simply got away, and come back with the State Poice of Feds only to find that the town and the car graveyard was gone, and by all appearances had never been there...<br /><br />\\Wish I had more thumbs, so I could give that movie 4 thumbs down!\\\"\"\n",
      "* * * * * * * * * \n",
      "6478\n",
      "If it were not for the \\Oh So Gourgous,\\\" Natassia Malthe, this B- movie would not have been worth one sector of my Tivo disk space! In what low rent, back lot warehouse was the supposed space port filmed in? \\\"Continuity People!\\\" It's a basic principle in real movie making! By night an alleged space port and by day (night and day on a space station?) a warehouse!??!? People Please! The only thing I will commend this movie for, is the wardrobe dept. for continuously, keeping Natassia in those tight shape revealing outfits! Even the women who saw this bomb had to appreciate the outfits that she obviously spent some time getting into, each day of filming! The Sci-fi channel would have been better off showing SpaceBalls! At least there would have been some real humor in watching something so unbelievable.<br /><br />P.S. Michael Ironside, please Fire Your Agent ASAP! You are so much better of an actor, to be even associated with this level of movie making.\"\n",
      "* * * * * * * * * \n",
      "6607\n",
      "This isn't cinema. It isn't talent. It isn't informative. It isn't scary. It isn't entertaining. It isn't anything at all.<br /><br />I got this because my cousin says, \\Diablo! COOL!\\\" Yeah, right. The only thing cool about this experience was the lone fact that I didn't buy it but rented it instead.<br /><br />It's shot like a bad soap opera. No wait. Soap operas at least LOOK professional...sorta. This? This looks like it was shot with someone's camcorder. It's horrid! Wretched! It sux.<br /><br />The cinematography is detestable! WHO IS this director anyway? I don't even care enough to look him up. He STINKS! The performances by these poor unsuspecting actors were far better than this crap-fest deserved.<br /><br />2.6/10 on the \\\"B\\\" scale. <br /><br />That registers about a 0.3/10 on the \\\"A\\\" scale from...<br /><br />the Fiend :.\"\n",
      "* * * * * * * * * \n",
      "6631\n",
      "I wish more movies were two hours long. On the other hand, I wish more American Civil War movies were MERELY two hours long. \\Gone with the Wind\\\", \\\"Gettysburg\\\" - that's about the length I've come to expect; although those two at least entertained for however many hours they lasted; and even \\\"Gettysburg\\\" lasted as long as it did because things HAPPENED in the course of it.<br /><br />By contrast Ang Lee's film is bloated and uneventful. It actually feels as if it takes much less than two hours. That wasn't a compliment. It's really no different to any other form of sensory deprivation: at the time it feels as though it will never end, afterwards it seems to have taken no time at all.<br /><br />The film gets off on the wrong foot, as Lee plays his interminable credits OVER the opening footage (bad mistake) in which we are introduced to some characters we take an instant dislike to and will later come to loathe. The central two are Jake, the son of German immigrants who are staunch supporters of Lincoln, and Jack, an equally staunch Southerner whose values Jake shares. (I had to re-read that sentence to make sure I hadn't written \\\"Jack\\\" instead of \\\"Jake\\\" at some point or vice versa.) The two go off to become \\\"bushwhackers\\\" - Southern militia who so strongly lust after revenge and violence that they can't even be bothered to join the official Southern army, which I presume they think is for sissies. I'm afraid Lee lost me right there. It's easy to feel for characters who make moral mistakes: if we have some independent reason to like them, or feel as if we know them in some way, then their moral flaws can make us care for them all the more. Not so here. We aren't properly introduced to Jake for at least an hour; when we are, it becomes clear he's a gormless pimple of a man, who isn't a confederate by choice so much as by habit - the kind of person who says and does what everyone around him says and does, whose psychology is purely immitative. The people he associates with are either just the same or positively evil in some uninteresting way. I found myself cheering whenever the Northern cavalry appeared on the screen. I thought: good - kill the rebels, end the damned war, let me go home.<br /><br />Aggravating this problem is the horrible, horrible dialogue. Everyone speaks in the same whining Southern accent. I've heard accents from all over the English-speaking world and this is the worst of them all. I don't care if Southerners really did talk like that, it's simply not fair to ask an audience to listen to it for two hours. And believe me, we do listen to it for the full two hours: Lee's picture is a talky one, largely because characters take so long to say what they mean in their ungrammatical, say-everything-three-times, folksy drawl. It would help if they talked faster, but not much. Can't these people find a more efficient language in which to communicate?<br /><br />In short: the film is little but a gallery of uniformly unattractive characters with no inner life, who talk in an offensively ugly mode of speech, who don't bathe often enough, to whom nothing of interest happens, despite their being involved in a war. Good points? Jewel was nice to look at, and so was the scenery. But I have complaints even here. The cinematography, nicely framed, looked as if someone had susbtituted colour film for black and white by mistake; and as for Jewel, we were teased with her body, but never actually allowed to gaze upon it, which I think is the least we were owed.\"\n",
      "* * * * * * * * * \n"
     ]
    },
    {
     "name": "stdout",
     "output_type": "stream",
     "text": [
      "6801\n",
      "I grew up on the 'Superman II' theatrical version (\\S2T\\\") and as a kid, I loved it more than Part I since not only did it contain more Superman and three Superman-type villains, it started off with a bang  the best Clark Kent to Superman transformations and rescue scenes. Kids no longer had to impatiently wait for Superman to appear on screen, as in part I. Now as an adult, I can see how the mighty had fallen with S2T (See: my review.) I've always heard of the back-story on how they prematurely and unjustifiably fired the original's director, Richard Donner from part II. (It must have been a rarity back then to film two separate movies simultaneously, now it's common: 'Back to the Future' and 'Matrix' 2 & 3 for example.) Unfortunately, after finally seeing the Richard Donner Cut (or, \\\"S2RD\\\") I still can't fully recommend it. Gone, was the great Superman change scene, the entire Paris rescue, as was the wonderful recap of part I in S2T's opening. In fact, they all but wrote the words: \\\"Previously on Superman",
      "\\\" in S2RD. The special effects weren't great in either Part I or S2T , but S2RD, they were mostly downright laughable  such as Lois falling from the Daily Planet window. I will admit, some new scenes worked and some they took out were welcomed departures, such as any scene in the \\\"honeymoon suite.\\\" Overall, if you grew up on S2T as I did, and loved it as a child  not nitpicking as I do as an adult, you should absolutely see S2RD as it's almost a brand new childhood experience with dozens of new scenes. (Spoiler alert) Unfortunately, the worst change comes last: gone was also the weird amnesia kiss from S2T replaced with the exact same ending as 'I.' This is not only a lazy, unoriginal copout, it doesn't make sense on why Clark would go back to that diner, if those events never actually happened. And will he continue to \\\"turn back time\\\" for every confrontation?\"\n",
      "* * * * * * * * * \n",
      "6805\n",
      "The soul of an ancient mummy is transferred to one of his followers so that he might punish everyone involved in the desecration of his tomb. The soul transference makes the young man age at a tremendous pace until he himself resembles a mummy. One by one, the blood is drained from those involved in the dig.<br /><br />To be as brief as possible, Pharaoh's Curse is quite the lackluster affair. While the movie does present a few good, original ideas (blood sucking mummy's, soul transference, interesting make-up effects, the arm ripping scene, etc.) and a few atmospheric moments, the direction and pace are the very definition of plodding. To make matters even worse, the first 15 of the film's relatively short 66 minute runtime consist of nothing much more than padding. I usually go for these slow moving mummy movies, but Pharaoh's Curse tests even my patients. The cast helps very little. With only one exception (Ziva Rodann is the lone bright spot  wish the movie could have focused more on her mysterious character), the cast is as dull as the screenplay. Finally, I don't know whose idea it was to put the mummy-looking servant in what appears to be pajamas, but it's a laughable, ridiculous look for a creature that supposed to instill fear in the audience.<br /><br />Despite my mostly negative comments on the Pharaoh's Curse, I'm going to rate it a 4/10. Not a good rating to be sure, but generous given all the problems I have with the movie.\n",
      "* * * * * * * * * \n",
      "7287\n",
      "Given the chance to write, direct and star in my own movie, I would probably choose something about robot women with guns. Anthony Hopkins, however, decided to make possibly the strangest movie anyone has ever seen. \\Slipstream\\\" is a movie that is so strange that even David Lynch would probably look at the person next to him and say 'What's going on?'.<br /><br />This is a movie where, in one scene, a man crosses the road towards a yellow car facing to the right which suddenly changes into a pink car facing to the left. This is a movie where two characters have a conversation interspersed with shots of random people laughing and insects climbing up walls. This is a movie where a man starts talking about \\\"Invasion Of The Bodysnatchers\\\" only for the actor of that particular movie to suddenly show up as himself (and then disappear into thin air). <br /><br />This is a movie that decides to throw the need for a coherent plot straight out of the window and use fifteen different edits whilst doing so, as well as changing from black and white to colour for seemingly no reason at all.<br /><br />I must, however, commend Mr Hopkins for his choice of actors in this movie (some of whom portray multiple characters). All of those involved throw themselves into their roles, even if they probably have no idea what they're actually doing. My favourite here was Christian Slater's thug in a hat who was impressively menacing whilst babbling nonsense and singing the American national anthem. <br /><br />Anthony Hopkins has been quoted saying that he did this movie as a joke and that's possibly the best way to sum up \\\"Slipstream\\\". It's a joke on the audience. You'll watch it from beginning to end, trying to understand what is going on and hoping that the answer will come, only to discover that the answer never actually does. What the punchline to this particular joke is, only Anthony Hopkins will ever know.<br /><br />I mentioned David Lynch earlier and I'm a big fan of that particular director. I would guess that Anthony Hopkins shares my love for the likes of \\\"Twin Peaks\\\", \\\"Blue Velvet\\\" and \\\"Lost Highway\\\". However, \\\"Slipstream\\\" isn't as satisfying as any of the movies of Lynch despite imitating many of his techniques (although I was surprised to discover that nobody talks backwards in \\\"Slipstream\\\"). It's far too chaotic and random - as another reviewer here pointed out, it's the movie version of Alzheimer's disease. No doubt there are a small number out there who are able to watch this and draw something from it. Unfortunately for the rest of us, \\\"Slipstream\\\" quickly becomes an annoying and confusing experience that was only made due to Hopkins' involvement.<br /><br />Watch at your own risk.\"\n",
      "* * * * * * * * * \n",
      "7434\n",
      "Mae Clarke will always be remembered as the girl whose face James Cagney showed a grapefruit into in the same year's THE PUBLIC ENEMY. She will not be remembered for this weird little story about a a hood's girl who finds that her past will always be with her.<br /><br />In some ways, this looks a bit antique for 1931, almost as if you are looking at 1928's famously inert LIGHTS OF NEW YORK. But don't be fooled. Although Ted Tetzlaff's photography is still in the big scenes, there's lots of movement, indicating distraction to the moviegoers in the set-ups to them. But in competition with the fast-paced stuff that it seems that everyone was doing at Warner's, this attempt to bring the woman's viewpoint into the genre as a tearjerker doesn't work, nor is Mae Clarke the actress to carry the effort.\n",
      "* * * * * * * * * \n",
      "7464\n",
      "Unwatchable. You can't even make it past the first three minutes. And this is coming from a huge Adam Sandler fan!!1\n",
      "* * * * * * * * * \n",
      "7518\n",
      "I'm not going to waste my time writing an essay and waste your time. I would like to say, however, that all those who are uptight about this movie even being made are being totally ridiculous. Johnnymacbest, you can't play that card, and I mean the nationalism patriotic card, to make people not watch this movie. this is a movie that expresses its free will in this country (oh yea i played that card)even though the director is German and deserves a slap on the wrist every time he reaches for a camera, but the world is full of controversy, and its the same thing you've heard before, like the GTA controversy. It's a comedy, laugh and be disgusted, not disgusted all together, its dark humor and obviously you don't have the heart to take it, the past is past, yes people remember those who were lost but its time to move on, that was !!!7!!! years ago. You can still watch this movie and have good moral values. <br /><br />Besides I'm insane, and who needs a soul?\n",
      "* * * * * * * * * \n",
      "7615\n",
      "I don't usually write a comment when there are so many others but this time I feel I have to. I have spoken of taste in another review, saying it's all in the eye of the beholder but when it comes to this film, if you like it, it simply means you have bad taste.<br /><br />I love films. I loved \\Isle of the Dead\\\" which is pretty much an unknown B&W film. I even liked \\\"Scream\\\" and \\\"Scary Movie\\\" I liked these films because they have, if not a lot, at least something good about them. I appreciate 99.9% of the films I've seen because they tell a story which I haven't heard before, and most directors only make films with a good storyline. Throughout this film I was thinking \\\"Where is this going?\\\" (even near the end) \\\"Where did they get these awful actors from\\\"? \\\"Was that supposed to be a joke?\\\" and suchlike. With the obvious twist looming I was sceptical, but hoped it would perhaps \\\"make\\\" the film and prove I hadn't wasted my time. I was sadly mistaken. The storyline was bad to begin with and the twist actually ruined any glimmer of hope there was. Here's a rundown: Storyline  much like the first film, which was alright, this one is slow and sparse with no audience relation to the characters or the situations. The situations are cringeworthy and shallow and completely boring and predictable. The twist was terrible, it didn't make me feel a thing, like excitement or WOW. Just \\\"My GOD.\\\" There was nothing in the bulk of the film that you could look back to and think \\\"Oooo wasn't that clever\\\" because it wasn't. In \\\"Fight Club\\\" there are flashbacks at the end showing bits where Tyler's true identity was cryptically shown, and when you watched it again you saw more, it really was a work of genius, how it was written, laid out and directed. This was a meaningless attempt at an awesome twist. I think it was \\\"wild things\\\" that had like a pretty poor double twist and I still liked the film because the rest was OK and it wasn't trying too hard to be a big twist. Its like the CI2 writer thought it was gonna be the best twist ever. But really, its just a bad story with a bad twist dumped on the end. The film ended almost immediately afterward, with the whole film void by Sebastian's whole story build up meaning nothing and a horrible half forced, paedophilic ending with a particularly young and innocent acting girl. Acting  the actors in this film are appalling. Almost as bad a \\\"Sunset Beach.\\\" - Extremely corny and badly performed. It's not even so bad it's good like \\\"Hunk\\\". The worst acting I thought came from Amy Adams who played Kathryn, it was a rigid, pathetic and badly thought out performance by her. Robin Dunne was also poor. I haven't seen \\\"American Psycho II\\\" yet, but no doubt his laid back \\\"cool\\\" style has ruined that film also.<br /><br />I can't even say it is a good film for teens, as its not. If my son or daughter liked this film I'd be ashamed. But they wouldn't anyway, as they would take into consideration all the things that make a good film, which this film has none of. Really. I'm disappointed that some have said \\\"you might not be in the age bracket for this film, and so dislike it\\\" I like all the films now that I liked as a teen and had very good taste. Also, do you really think that when you reach 20+ you suddenly don't like any teenish story lines? No. I liked \\\"Mean Girls\\\" and other generic teen films, and watch \\\"Beverly Hills 90210\\\" all the time. There's no excuse for poor directing, acting and screenplay I'm afraid. Besides, I was 16/17 when I first watched it. If anything, being older just makes you a better judge of a terrible film. I can't believe anyone can give it 10/10 either, one of my favourite films is \\\"Memento\\\" and I gave it 9 as I know there can be better. It is a shame for this site that people do that, give 10s flippantly, or don't get the films/show, and so give it 2.<br /><br />Anyone who liked this film really should vary their taste, and perhaps their lives, and with this realise that this is the worst film EVER made. (worse than \\\"Loch Ness\\\")<br /><br />If you aren't a teenager with bad taste, or simply don't have bad taste you will absolutely hate this film.\"\n",
      "* * * * * * * * * \n",
      "7619\n",
      "Fantastically putrid. I don't mean to imply above that only a few people should avoid \\Doc Savage.\\\" Almost every demographic group would be bored by this trivial, TV-movie-quality production. It's a little like the 60's \\\"Batman\\\" TV series, except it's not funny. Even accidentally. You're better off taking a nap.\"\n",
      "* * * * * * * * * \n",
      "7673\n",
      "When I go out to the video store to rent a flick I usually trust IMDb's views on a film and, until this one, had never seen a flick rated 7.0 or above on the site I did not enjoy.<br /><br />Sidney Lumet, a legendary director of some of the best films of the 20th century, really misstepped here by making one of the biggest mistakes a filmmaker can: filling a film's cast with thoroughly unlikeable characters with no real redeeming qualities whatsoever.<br /><br />I like films with flawed characters, but no matter how dark someone's personality is we all have a bit of light in there too, we're all shades of gray with some darker or brighter than others. Mr. Lumet crossed this line by filling this movie with totally unsympathetic and almost masochistic pitch-black characters.<br /><br />Ethan Hawke's Hank is a 30-something whining, immature, irresponsible man-child divorced from a marriage with a wife that hates him and a daughter who thinks he's a loser, which he very much is. His indecisiveness and willingness to let others do the dirty work for him because he's too cowardly to do it himself leads directly to their bank robbery plan falling apart and mother getting killed. By the time he stands up to his older brother at the end of the film, it's more pathetic than uplifting. Ethan Hawke plays his character well, but isn't given much to work with as he is portrayed as someone with a boot perpetually stamped on their face and he doesn't' particularly care that it's there.<br /><br />Speaking of which his character's wife is equally as bad. Just about every single shot of the film she's in is her verbally berating him for rent and child support money and further grinding in his already non-existent self-esteem with insults. Seriously, that's just about all the character does. Her harpy-like behavior borders on malevolent.<br /><br />Albert Finney plays their father Charles, and while Mr. Finney has been a great actor for many decades, he spends about 90% of this film with the same mouth open half-grimace on his face like he's suffering from the world's worst bout of constipation. For someone who's been an actor as long as Mr. Finney, you think he'd be more apt at emoting. Even though he doesn't show it much, his character is supposedly grief stricken and anger-filled. And when he smothers Andy at the film's conclusion it's akin to Dr. Frankenstein putting the monster he helped create out of it's own misery.<br /><br />Marisa Tomei isn't given much to do with her character. Stuck in an unhappy marriage with Andy and having an affair with his brother for some unfathomable reason. When Andy's world begins to spiral out of control she logically jumps ship, but it really doesn't make her any less selfish or self-serving than any other character in the film, but probably the one with the most common sense at least.<br /><br />And finally we come to Andy, played by the always good Philip Seymour Hoffman, is the only reason I rated this film a 3 instead of a 1. His performance of the heroin-addicted, embezzling financial executive who's \\perfect crime\\\" of robbing his parent's insured jewelry store goes awry is mesmerizing. His descent from calm master planner of a flawed scheme to unstable, deranged homicidal maniac is believable and tragic. Hoffman's character ends up being the film's chief villain, but it's hard to root against him given the alternatives are an emotionally castrated little brother and a father who's self-admitted poor early parenting led to his son's eventual psychosis and indirect, unintentional murder of his mother.<br /><br />Ultimately this film is really only worth watching for PSH's great performance and it's family train wreck nature. Just don't expect there to be any characters worth cheering for, because there really aren't.\"\n",
      "* * * * * * * * * \n",
      "7728\n",
      "This movie in away was super-clever. It's theme rhymes with every single horror movie ever made. Valentine makes ZERO attempt to be original. What is valentine anyway? It's a bunch of people giving each other the same lame messages that were given to the same people a year earlier. There is nothing original in Valentine. <br /><br />I only saw it once, and in that one viewing here are some of the films it ripped off. 1.Prom Night 2.Carrie 3.Scream 4.Any other horror movie in which somebody is killing somebody.<br /><br />I know there is more, but my mind was slowly turning into a puddle of silk so it couldn't grab them as fast as they came.<br /><br />Valentine had no chance of being a good movie. How come every horror movie has to have a \\suprise\\\" killer, people you don't care about because their emotions take a turn every other scene. One minute a nice girl turns into an evil B--ch, then she's an insecure woman, and so on and son on.<br /><br />Normally any horror movie (in my book) can be saved by gore, once again Valentine doesn't have this. It was as if they tried to make it PG-13 but failed, so they left the edit. <br /><br />Do not see this overly-inspired, rip-off unless you hate yourself, and you want to die.<br /><br />*1/2 (3) -J.Leonard Rollins-\"\n",
      "* * * * * * * * * \n",
      "7739\n",
      "I regret that I've seen this movie. Can't believe that the creator of Best Intentions and Pelle the Conqueror could make such a bleak and boring film. What a waste!\n",
      "* * * * * * * * * \n",
      "7789\n",
      "This was a big disappointment for me. I think this is the worst Mastroianni-movie ever made. Cosmatos tries too hard to make this movie a masterpiece and that makes this movie a typical \\art\\\"-movie. I give 4/10 for this movie.\"\n",
      "* * * * * * * * * \n",
      "7938\n",
      "Suppose you've been on a deserted island the last ten years. Haven't heard of Scream and left when Halloween part 1 entered the cinema. Then this movie would have been a blast and a completely new vision on the horror scene.<br /><br />At the moment, a 2.7 rating is on IMDb and it doesn't deserve a that low appreciation. Slashing all the way, like \\I know what you did\\\", and a who-is-it that when getting to the end convinced me of that who-and-why.<br /><br />No big surprise, just a nice flick to watch with a cola, popcorn and no urge to get a difficult plot, deep characters. If the video rental is out of the top titles, you can take it without a risk, but don't expect a masterwork. I've seen a lot worse.\"\n",
      "* * * * * * * * * \n",
      "8247\n",
      "This movie was bad. This movie was horrible. The acting was bad. The setting was unrealistic. The story was absurd: A comet that appears once in eons is set to appear one night. Most of the world's population decided to watch this comet. Then, the next morning everyone but a select few of people has been turned to dust from the comet's radiation. People's clothes are still intact, there are plants which are still alive, but the people were turned to dust. No bones, nothing. Thats ridiculous. How can radiation incinerate people but leave their clothes and other biological substances intact?<br /><br />Even better, the comet mutated some people into zombie flesh eating monsters. Their makeup would not have even looked frightening to a newborn child. The Insane Clown Posse scare me more...and they're supposed to look stupid.<br /><br />Then there were the survivors. People who had been surrounded by steel when the comet passed were spared from zombie-dom and death. How can steel block a comet's radiation that supposedly incinerates people in their tracks?<br /><br />Equally insulting is the 60's horror music playing in the background through parts of the movie, or the 80's hair rock which serves no purpose in the film and makes you want to shoot your television.<br /><br />The stupidest part of the movie, however, are the characters it focuses on: two Valley Girls and Chakotay from Star Trek: Voyager. These three characters were totally unrealistic. Who would go looting the day after an apocalypse with flesh eating mutants running everywhere? There were four 5 minute horror scenes in the entire movie, and most of them were dreams. In between these scenes is unsophisticated dialog which makes South Park seem intelligent. The silence in between the elementary dialog was painful. I could have made a better movie with four monkeys and a bag of Cheetos. Don't see this movie, ever.\n",
      "* * * * * * * * * \n",
      "8319\n",
      "I know that some films (I mean: European films), that are very bad films, are being regarded as great cinema by certain \\critics\\\", only because they're non-American. I saw the 8.1 IMDB score for this film and noticed the fact that this was being selected for certain big festivals. Don't let this fool you! Unless you're one of those people that likes mind-numbing films like this, and call it great art afterwards, skip it! The film contains one hilarious scene after another (a similar, Italian, film popped into my mind, the terrible PREFERISCO IL RUMORE DEL MARE (I prefer the sound of the sea)). The problem with these films is that they're not only boring, like some other strangely praised films, but that they almost play like camp. I mean, let's face it, the acting is horrible (I mean: soap opera-level), the story has not one surprise (this has been done endless times before, connecting several storylines: SHORT CUTS, MAGNOLIA, PLAYING BY HEART, only much better), not one realistic character in it (some true freak-seeing along the way, notice the hilarious zombie-like daughter), and so on and so on.<br /><br />As if that's not enough, the film is 135 min. (count it!) long, and at the end the director opens his can of sentimentality. After a film with such hilariously bad dialogue and scenes that made the public at the preview screening laugh at so much incompetence, well... This is an insult to cinema, and only receives high ratings because it happens to be in \\\"another\\\" language, in this case Spanish. Strange world we live in...3/10\"\n",
      "* * * * * * * * * \n",
      "8426\n",
      "This is quite possibly THE worst movie I have ever seen. Again I made the mistake of buying the movie because the synapse on the back sounded cool and the front cover looked pretty cool too (After buying this and the movie \\Malevolence\\\" which I reviewed on here as well, I have learned my lesson). I love horror movies that take place in the woods or in the desert or on a farm. This supposedly takes place in the woods of Texas but was probably filmed in the director's backyard. The production was probably the worst I ever seen. The actors were absolutely the WORST. The story didn't have anything to do with what the back cover said. I even tried to sell it to F.Y.E and some other \\\"mom and pop\\\" store that buys used DVDs and neither would take it. Thats how awful this poor miserable excuse for a movie was. I have seen some bad movies before (Troll 2 for example) but this definitely takes the cake. I didn't think there was a worse movie than \\\"Troll 2\\\". Boy was I wrong! Do not buy this movie unless someone hands it to you for free but even than your stuck with it unless you throw it out which is what I am about to do!!!!\"\n",
      "* * * * * * * * * \n",
      "8526\n",
      "OK, I knew this would be a back alley F-film (well below B-film standards) going into it, so I thought, \\Man, I could use a good laugh, so let's see some nether-beings kill each other.\\\" Well, what I got could have been found at your local \\\"love toy\\\" store. Random lesbian scenes, very little fighting, and no plot.<br /><br />For example, one scene in particular I remember (for its sheer stupidity only; I've seen better porn on ABC) is where the two main characters (I can't remember their names offhand...great movie, huh?) are driving along, as they mostly did, and the driver was tired of driving and stopped:<br /><br />Driver: \\\"Let's pull over, I'm tired. You want to take over?\\\" Passenger: \\\"Sure, I can drive for a while.\\\" (Once pulled over, the driver starts grabbing the passenger's boobs) Passenger: \\\"What are you doing? I'm not like that!\\\" Driver: \\\"It's OK, everyone does it sometime.\\\" Passenger: \\\"OK then.\\\" (Proceed to take off shirts, fondle, kiss, and perform fellatio)<br /><br />Now, last time I checked, horror films were not in the porn section of Hollywood Video (unless you're into S&M, then you go elsewhere), and it definitely shouldn't be in the mainstream videos at Blockbuster. Don't get me wrong; I'm definitely not one of those people who hate porn, but I only watch it when appropriate and definitely don't want to watch it if I'm looking for a movie in the mainstream stores, as this one I rented was at one of the two retailers I named (and probably at the other too if I went and looked).<br /><br />Worst movie ever, no one should rent it, and it should only be bought for a public burning ceremony. If I could give it a 0, I would, but I can only give it a * of 10.\"\n",
      "* * * * * * * * * \n",
      "8774\n",
      "I am one of the biggest fans of silent comedians and have probably reviewed more Buster Keaton films for IMDb than any other person. Every film he made from the beginning of his career to the early 30s with only two exceptions have I reviewed, so you can tell I am a major fan. It's because of this that I found this episode so painful and hard to watch. I loved this man's films and kept thinking \\Buster, how could you?!\\\". Well, now that I think about it, I guess I can see why Buster Keaton starred in this god-awful episode of THE TWILIGHT ZONE. He'd lost much of his fortune after a messy divorce in the early 1930s and his film career as a leading man was long passed as well. Now, in the 1960s, Keaton needed the money and loved his resurgence in popularity so he whored himself out to anyone willing to pay--appearing in Beach films and this mess of an episode of a great series.<br /><br />The biggest problem with the episode is that it is just terribly written and Buster deserved much better. The show is supposed to be funny but isn't and instead of a homage to silent films is just painful to watch--particularly with Keaton putting that stupid time travel helmet on as well as all the poorly executed slapstick. Do yourself a favor, SKIP THIS ONE--it's a pale imitation of the greatness that once was Keaton's career!!!\"\n",
      "* * * * * * * * * \n",
      "9001\n",
      "Seriously, I don't even know where to begin. It's like somebody gave a bazillion dollar budget to an autistic third-grader and said 'make me a movie about the secret service'. The editing is ridiculous, the cinematography was random at best, every single syllable of dialogue was completely retarded and the directing ... well, was there even a director there? Everything was just so pointless and lame and pointless...and random....and lame.<br /><br />Here's a SPOILER for you; this movie is the dumbest thing you'll ever see. <br /><br />However, if you liked this piece, you'll also enjoy; Deterrance, Dark Blue, and a partial frontal lobotomy.\n",
      "* * * * * * * * * \n",
      "9178\n",
      "Thank God! I didn't waste my money renting it but i downloaded it! This happens to be the worst movie i have ever seen in my whole life, f*****g visual effects, unnecessary gore and nudity! Far apart from other Zombie movies like Night of the Living Dead and others. There are lots of loop holes and mistakes in the movie. OK if you get time after reading this comment, please check out the director's(Ulli Lommel) profile. After seeing that i got a self explanation why the movie is like this, i mean every movie directed by Ulli Lommel gets a rating between 1 and 2. And now am not willing to search what kinda movies these are directed by him, but i can finish all this by saying one strong sentence. Even for fun or time pass or even at an extreme bored situation please DO NOT WATCH THIS MOVIE.\n",
      "* * * * * * * * * \n",
      "9208\n",
      "Written and acted by sincere amateurs, produced by some exploitation monger, this is dull and hard to watch.<br /><br />Not the worst movie ever, but at least schlock like _Plan 9 From Outer Space_ usually had a real actor or two. I'd recommend _A Thief In The Night_ only to hardcore ironists and hardcore Dispensationalists. I'm neither.<br /><br />Don't believe me? Watch it for free (albeit sourced from poor VHS) here: http://www.archive.org/details/Thief-In-The-Night<br /><br />Relevant links added mostly to reach IMDb's 10-line minimum: http://en.wikipedia.org/wiki/Dispensationalism http://www.dvdtalk.com/reviews/3199/thief-in-the-night-se-a/\n",
      "* * * * * * * * * \n",
      "9557\n",
      "Sistas in da hood. Looking for revenge and bling bling. Except da hood is a wild west town in the late 1800s. I do not remember any westerns like this when I was growing up. What would Randolph Scott say? If he saw Lil' Kim, he might say, \\Alright! I have to admit that I tuned into this just to see her. Bare midriffs and low cut blouses are not the staple of the usual cowboy flick, but these are the cowgirls, and they are fine.<br /><br />Now, don't go looking for any major story here, and the usual stuff of ghetto crime drama are here in a different setting. And, when's the last time you heard John Wayne call someone, \\\"Dawg\\\"? And, I don't remember the Earp brothers hugging and kissing before they marched to the OK Corral.<br /><br />I watch this on BET, so I missed the action that got it an R rating, but I doubt if I will buy the DVD to see it unless I can be assured it was Lil' Kim in that action.\"\n",
      "* * * * * * * * * \n",
      "9832\n",
      "Pretty crazy whodunit featuring an all black cast trying to figure out who murdered the philandering trumpet player who was just about to go to Hollywood to Make It Big. Was it his wife? His Girlfriend? His Would-Be-Girlfriend? Her Father? His Butler? The newspaper guy? Who knows? And who cares? The result of this is just a little underwhelming, and the actors here don't really get me in a mood to care one way or another finding out. Why snake venom as a weapon? Who knows? Who cares? The music in this is alright, but there's little of it, and most of it is pretty \\let's get this over with\\\" This isn't worthy of your time. There are better all-black casted movies out there.\"\n",
      "* * * * * * * * * \n",
      "9934\n",
      "Oh boy, where do I go with this one? Herendous acting, weak plot, stupid deaths, pointless nudity...<br /><br />This isn't entertainment...this is hell.<br /><br />Hell.<br /><br />Don't waste your money, time, or life on this pit of evil.<br /><br />It's just...god damn is this movie awful! Tom Savini, WHY?! Why would you waste your life on this crap? This movie not worth it. I'd rather snort crack and smash my head up against a wall than watch THIS...this sinful act again!<br /><br />Please take my advice and stay the f#@k away from this elephant turd of a film. No, you know what? I shouldn't even have to call this thing a film! Just stay AWAY!\n",
      "* * * * * * * * * \n",
      "10459\n",
      "I don't see enough TV game shows to understand the attraction of SHOW ME THE MONEY, but I suppose it holds some appeal for undemanding audiences. Ostensibly a quiz show, it offers contestants huge sums of money for answering a few simple questions. However, its quiz elements play only a small part in the proceedings, which I find tortuously complicated. For example, before answering a question, a contestant selects which question is to be asked by choosing from among random \\A,\\\" \\\"B,\\\" or \\\"C\\\" choices. Does this serve any purpose other than to slow the game down? It would be a lot quicker simply to start with \\\"A.\\\" Contestants can pass on questions, but must answer one of the three questions in each category.<br /><br />After responding to a question, the contestant is then asked to \\\"lock in\\\" the answer--another delaying tactic. The contestant's next task is to name which woman from about a dozen go-go dancers in cages is to unveil a card that indicates how much the question is worth. A correct answer adds the card's dollar figure to the contestant's running total; a wrong answer subtracts the same sum. This time-consuming step actually has some entertainment value, as it allows the audience to get a close look at the scantily clad and uniformly gorgeous dancers. Meanwhile, the contestant is reminded that an unlucky selection of the \\\"killer card\\\" will end the game instantly. This naturally makes the contestant sweat and causes further delays as the nervous contestant contemplates the sudden loss of the hundreds of thousands of dollars. My suspicion is that the possibility of sudden disaster is the show's chief audience appeal.<br /><br />Meanwhile, the whole process is slowed down even more by a lot of empty banter between host William Shatner and the contestant, along with occasional routines by the caged dancers. All these delays burn up so much time that it might be possible for audiences to forget what the original question is by the time the correct answer is revealed.<br /><br />A typical 30-minute episode of JEOPARDY often gets through as many as 60 questions. The first 30 minutes of SMTM that I watched got through only six questions (many of which pertained to other TV shows). No one in his right mind would watch this show because it's fun to play along by answering the questions at home. That leaves three possible reasons to watch the show.<br /><br />A. To see how a contestant responds to being on the verge of winning as much as one million dollars, only to lose everything in one stroke.<br /><br />B. To look at gorgeous young women performing sexually suggestive dance routines.<br /><br />C. To enjoy William Shatner's scintillating banter.<br /><br />My choice is \\\"B,\\\" but the women aren't on camera long enough to justify suffering through an hour of this show.\"\n",
      "* * * * * * * * * \n",
      "10502\n",
      "I found Tremors 4:The Legend Begins, to be dull and boring.All the action scenes were stupid.The so called \\GRABOIDS\\\" are reduced to the size of a modern day house cat, if not smaller.The acting was horrendous, and this film was just an unnecessary movie in the Tremor saga, because even though it tells the story of how the graboids were formed, the story is so dumb and useless.Also, if you want to tell a story WAY back in time, make sure you use the SAME ACTOR(Michael Gross), to be someone in the past, when he's someone in the present in the other Tremor movies.Geez...If you haven't seen this film, don't waste your time.Stick to Tremors, 1, 2, and 3, for a good time.This film however, make sure you're remote is sitting right next to you with the STOP button working for a quick retreat away from this nonsense.\"\n",
      "* * * * * * * * * \n",
      "10509\n",
      "HORRID!!<br /><br />The special effects make the TV version of \\Tremors\\\" look real!<br /><br />No one in the cast can act.<br /><br />Kind of like the '62 \\\"Voyage to the Bottom of the Sea\\\" meets the cartoon ocean going electric eel cartoons.\"\n",
      "* * * * * * * * * \n",
      "10790\n",
      "This show had pretty good stories, but bad dialog. The main character was especially annoying. It's quite obvious why this show was canceled, although, like most UPN shows, I never knew it even existed until it was in syndicated re-runs.<br /><br />Most of it's plots seemed to be copied from other shows and movies, leading me to think the producers didn't have an original idea in their heads. <br /><br />I haven't commented enough. You've got to have at least ten lines of text. The special effect were not bad for a 2001 show.<br /><br />The gnome was a nice character.\n",
      "* * * * * * * * * \n",
      "10824\n",
      "Don't get me wrong , I want to see marijuana legalized as much as the next guy. I shall digress now. The writing, though, was unrealistic. A PTA mom dealing drugs but adamant about her drugs getting into the hands of an underage person. Give me a break. The smugness of very pretty Mary Louise Parkers character was an insult to my intelligence. The characters were not at all likable. Basically, the plot lines went nowhere. I understand its only TV land . The hypocrisy was blatant. Mary Louise Parker is supposed to be a great mom and I am supposed to believe this.... WHY ???? I just got the feeling I was being preached by a show reeking of seediness. Its like saying its OK to cheat on your wife , but with someone of legal age status. OK not exactly the same thing , but I think you people get my point. That save the children stuff is wonderful for campaign trails , I guess, but it does not hold water in a cable sitcom about a suburbanite mom , as the local pot dealer.\n",
      "* * * * * * * * * \n",
      "10866\n",
      "This movie is all ultra-lightweight fluff, predictable from beginning to end. As a Don Knotts vehicle, \\The Incredible Mr. Limpet\\\" was much better, with Knott's character there not nearly as incompetent or ignorant. His performance there was toned down, with none of his trademark goggle-eyed stare, although that may have something to do with him being replaced for most of the movie by a cartoon fish. Knotts made a living of playing the likable imbecile, much as Bob Denver did. Neither really seemed to be able to break out to other types of roles, assuming they were simply typecast. It was probably because of the slouch, the wild stare and the high-pitched voice. John Ritter, whom Knotts worked with in \\\"Three's Company,\\\" was able to transcend his genre, branching out successfully into dramatic roles like \\\"The Dreamer of Oz,\\\" but the closest Knotts ever got was a small role in \\\"Pleasantville.\\\" Even Leslie Nielsen was a bad fit here, uncomfortably neither straight dramatic actor as he was at the time nor deadpan comedic actor as he later became in \\\"Airplane!\\\" and \\\"Police Squad.\\\"<br /><br />There's also no way the then-43 year-old Knotts could pass for a 35 year-old, as his character insisted he was. It was as ludicrously unbelievable as Tom Hanks at 38 playing the college-age Forrest Gump.<br /><br />The film was clearly made on a shoestring budget, very much looking like a hastily-filmed TV episode. It's especially evident in the \\\"exterior\\\" scenes of the \\\"town\\\" where Roy goes after he's fired. It's unlikely even a pre-schooler would be fooled by the Mayberry-like soundstage artificiality.<br /><br />Even viewing this strictly as a children's movie, it's very disappointing. It's not because it lacks action or special effects, although it does. The pace is much too slow, the situations repetitive. How many times can you watch Roy getting onto a bus? A comedy for kids should at least sometimes be madcap, with breakneck gags, otherwise you risk boring them (and any adults in the theater as well). Movies, even kid's movies, have improved quite a bit in the intervening decades. Even many contemporary comedies were better filmed and written. Disney's \\\"The Love Bug,\\\" for instance, at least had some interesting race action.\"\n",
      "* * * * * * * * * \n",
      "10970\n",
      "What a shame it is when a potentially captivating and refreshingly low-key story manages to latch onto your interest at the start and then gradually lets you down further and further until you're left scratching your mystified head by the time it reaches its overdone conclusion. Unfortunately, this is what happened to me by the end of WHITE NOISE.<br /><br />It wasn't Michael Keaton's fault; it was a pleasure to see him return as the star of a brand new movie once again, looking a bit wrinkled perhaps, but still managing to give a strong and sincere performance. As a man whose wife has recently died, he becomes obsessed with her wandering spirit in the afterlife (not a new idea), apparently getting contacted by her through that funky electrical fuzz business you see on your television screen when there's nothing being broadcast.<br /><br />The idea of spirits communicating via the airwaves is called EVP (Electronic Voice Phenomena) and there are a lot of people who actually believe in it for real, so I'm not going to make any comments about what I think of that, or them. Let me just say that I'm all for suspension of disbelief when it comes to buying into fantastic films like this, but what I can't tolerate is not understanding what the hell was supposed to be taking place, which is about where I was left stranded when the credits finally began to roll. Much static indeed.<br /><br />There are occasionally movies like this that have me completely baffled, but if a film fails to make itself clear for me, I tend to consider that to be the fault of the filmmaker, not my own (unless I watched it while I was too tired to focus or something). Well, for WHITE NOISE I was wide awake, bright-eyed and bushy-tailed -- so guess who's to blame?\n",
      "* * * * * * * * * \n",
      "10971\n",
      "This production has absolutely no storyline. The acting is embarrassing. The promising Dutch television Sophie Hilbrand star should not add this movie to her CV. Her acting is far from flawless and personally I think she has crossed boundary of professional decency; relating to the way she exposes herself in this movie. This movie contains too much unnecessary nudity, vulgar sexual scenes and rude language. It also shows a wrong image of the Netherlands (as most movies do). Do not bother to watch this movie: a waste of time, a waste of money and an embarrassing record for Hilbrand, who has proved to be better with her close on on the screen.\n",
      "* * * * * * * * * \n",
      "11117\n",
      "This had to be one of the worst films ever. When Kate shows up and Jed is with a bunch of guys and they all start clapping...so Hollywood. Another bad scene was when Kate was running her hands over the pavement it appeared that she was examining the texture of the pavement. Andie's acting is so bad in this film - I could not connect with them or feel there love for each other. The other 2 women however were very good and overshadowed Andie. Anyway this was such a campy movie. I usually like these type of films but I just couldn't get into this film. Too many unlikely situations and again Andie's acting didn't help the film. Also, she is all gums. Lancome must put her makeup on with a putty knife because she looks glamorous in the commericals.\n",
      "* * * * * * * * * \n",
      "11421\n",
      "Nothing in this film interested me. I thought the actors were asleep while they were performing. That's not laid-back Stanislofsky method, that's just walking-through and saying lines, I'm afraid. Kidman's performance is sad. The story is, however, mildly entertaining if you want to put up with the bad acting.\n",
      "* * * * * * * * * \n",
      "11467\n",
      "Everything in this film is bad , the story , the acting , the effects but its funny , funny , funny !!!Scott Valentine with the army uniform thats ten sizes too big is so bad with the permanent attempt at a scowl on his face as the leader of a special ops group its hilarious ! The ''terrorists'' are as scary and realistic as the ''raptors'' , this is so phoney and bad at everything it tries you have to laugh .The part where the giant T-REX who somehow snuck on board a ship and then somehow got below is blown up and you see the metal pole sticking up where its head was is the perfect ending .If your into bad films , this is the pot of gold , the mona lisa of b-b-bad !!!\n",
      "* * * * * * * * * \n",
      "11611\n",
      "Well, the artyfartyrati of Cannes may have liked this film but not me I am afraid. If you like the type of film where shots linger for so long that you wonder whether the actor has fallen asleep or the cameraman gone for lunch then it may be for you. A large part of it is like this with short sojourns into the realm of unpleasantness. I did not find it shocking nor disturbing as some other reviewers have - simply a little distasteful and pointless. The only reason I did not give this one star is that the acting is commendable ans the film is fairly well shot. The plot, however, has little to recommend. A large part of the film just shows a grumpy woman teaching or listening to piano, which might appeal to some people. But lest you think this is harmless enough be prepared for some snatches of pornography and sexual violence just to wake you up with a bad taste in your mouth. Not recommended.\n",
      "* * * * * * * * * \n",
      "11684\n",
      "We had STARZ free weekend and I switched on the station to see what was on . It was this movie Howling II: The acting was terrible but the eye candy was great. Sybil Danning and Marsha Brown as the afore mentioned eye candy. I was laughing a lot from the few scenes I saw.<br /><br />My friends wonder why I never want to go to Horror movies , If they saw this film they would know why. I would get thrown out for laughing so hard.<br /><br />Just a couple of trivia notes : Reb Brown who played Ben White had played Captain American in a made for TV movie Marsha Brown was Mick Jaggers inspiration for the song \\Brown Sugar\\\" Mick has great taste in women for sure.\"\n",
      "* * * * * * * * * \n",
      "11810\n",
      "I really do not have any clue as to why some people find the power rangers television show even remotely interesting at all. The costumes are completely ridiculous and the people playing in them also look completely foolish at the same time. There is absolutely anything remotely interesting about the power rangers. This is just a higher priced television commercial designed to sell extremely cheesy plastic garbage to the unsuspecting children around the world. From the notes, I can see that it's been banned in the country of New Zealand and from what I have seen, I can agree with their decision. Avoid this show at all costs, it's terrible and ridiculous.\n",
      "* * * * * * * * * \n",
      "11976\n",
      "Tell the truth I’m a bit stun to see all these positive review by so many people, which is also the main reason why I actually decide to see this movie. And after having seen it, I was really a disappointed, and this comes from the guy that loves this genre of movie.<br /><br />I’m surprise at this movie all completely – it is like a kid’s movie with nudity for absolutely no reason and it all involve little children cursing and swearing. I’m not at all righteous but this has really gone too far in my account.<br /><br />Synopsis: The story about two guys got send to the big brother program for their reckless behavior. There they met up with one kids with boobs obsession and the other is a medieval freak.<br /><br />Just the name it self is not really connected with the story at all. They are not being a role model and or do anything but to serve their time for what they have done. The story is very predictable (though expected) and the humor is lame. And haven’t we already seen the same characters (play by Mc Lovin’) in so many other movies (like Sasquatch Gang?). I think I laugh thrice and almost fell a sleep.<br /><br />Well the casting was alright after all he is the one that produce the screenplay. And the acting is so-so as expected when you’re watching this type of movie. And the direction, what do one expect? This is the same guy who brought us Wet Hot American Summer, and that movie also sucks. But somehow he always managed to bring in some star to attract his horrendous movie.<br /><br />Anyway I felt not total riff off but a completely waste of time. Only the naked scenes seem to be the best part in the movie. Can’t really see any point why I should recommend this to anyone.<br /><br />Pros: Elizabeth Bank? Two topless scenes.<br /><br />Cons: Not funny, dreadful story, nudity and kids do not mix together.<br /><br />Rating: 3.5/10 (Grade: F)\n",
      "* * * * * * * * * \n",
      "12396\n",
      "It's the worst movie I've ever seen. The action is so unclear, work of cameras is so poor, actors are so affected ... and this lamentable 5 minutes of Arnie on the screen. My advice from the bottom of my heart - don't watch it unless you like such a low class torture.\n",
      "* * * * * * * * * \n",
      "12473\n",
      "Its like if you took the general themes of The Usual Suspects and Fightclub, take away all their style and class and mixed them together with a lot of pretentious new wave \\i'm intellectual so my movie must be hard to make sense of\\\" film maker rubbish, mashed in a few extra styles for good measure, chopped off the ending, there you have Revolver.<br /><br />Yes, I did think about it for a little bit after watching, and yes it did kind of make sense, however that doesn't stop it being garbage.<br /><br />Waste of money. Waste of time.<br /><br />Up there as the worst Movie I have ever seen, with not even a bad movie novelty value to redeem it a little.\"\n",
      "* * * * * * * * * \n"
     ]
    },
    {
     "name": "stdout",
     "output_type": "stream",
     "text": [
      "12590\n",
      "This movie is so awful, it is hard to find the right words to describe it!<br /><br />At first the story is so ridiculous.A narrow-minded human can write a better plot! The actors are boring and untalented, perhaps they were compelled to play in this cheesy Film.<br /><br />The camera receptions of the National Forest are the only good in this whole movie. I should feel ashame, because I paid for this lousy Picture.<br /><br />Hopefully nobody makes a sequel or make a similar film with such a worse storyline :-)\n",
      "* * * * * * * * * \n",
      "12687\n",
      "'The Vampire Bat' is definitely of interest, being one of the early genre-setting horror films of the 1930's, but taken in isolation everything is a bit too creaky for any genuine praise.<br /><br />The film is set in a European village sometime in the 19th Century, where a series of murders are being attributed to vampirism by the suspicious locals. There is a very similar feel to James Whale's 'Frankenstein' and this is compounded by the introduction of Lionel Atwill's Dr Niemann character, complete with his misguided ideas for scientific advancement.<br /><br />The vampire theme is arbitrary and only used as a red-herring by having suspicion fall on bat-loving village simpleton Herman (Dwight Frye), thus providing the excuse for a torch-wielding mob to go on the rampage - as if they needed one.<br /><br />This is one of a trio of early horror films in which Lional Atwill and Fay Wray co-starred (also 'Doctor X' and 'The Mystery of the Wax Museum') and like their other collaborations the film suffers from ill-advised comic relief and a tendency to stray from horror to mainstream thriller elements. Taken in context though, 'The Vampire Bat' is still weak and derivative.<br /><br />All we are left with is a poor-quality Frankenstein imitation, with the vampire elements purely a device to hoodwink Dracula fans. But for the title the film would struggle to even be considered as a horror and it is worth noting that director Frank Strayer was doing the 'Blondie' films a few years later.\n",
      "* * * * * * * * * \n",
      "12730\n",
      "The only reason I am commenting is because I finally figured out why Dr. Cox was bald. Although we probably all realized it at the same time this week, Dr. Cox is bald because they showed these episodes in a different order than they filmed them. The latest episode when our favorite grumpy, Jesus-loving Nurse Roberts dies Dr. Cox shaves his head. The must have showed them out of order for some odd reason and forgot they slipped up the continuity. For shame, Scrubs. They've made mistakes like this before. I remember when Elliot is trying to date Scott Foley and her hair is wet 2 seconds before water hits her. I try not to notice these things, but my favorite show needs to step it up.\n",
      "* * * * * * * * * \n",
      "12806\n",
      "What does the \\ Executive producer \\\" do in a movie . If I remember correctly it's the person who raised the financial backing to make the movie . You might notice in a great number of movies starring Sean Connery that he is also the executive producer which meant Connery himself raised the money since he is a major player . Unfortunately it should also be pointed out that a great number of movies \\\" starring Sean Connery were solely made because he managed to raise the money since he's a major Hollywood player , it's usually an indication that when the credits read that the executive producer and the star of the movie are one and the same the movie itself is nothing more than a star vehicle with the story/screenplay not being up to scratch <br /><br />PROTOCOL follows the saga of one Sunny Davis a kooky bimboesque cocktail waitress who saves a visiting dignitary and as a reward gets made a top diplomat . Likely ? As things progress Ms Davis ( Who has problems being able to string two sentences together ) finds herself in more outlandish and less likely situations . When I say that PROTOCOL stars Goldie Hawn who is also the film's executive producer do you understand what I'm saying about the story/screenplay not being up to scratch ? Exactly\"\n",
      "* * * * * * * * * \n",
      "13219\n",
      "Dave (Devon Sawa) and his friends Sam (Jason Segel) and Jeff (Michael Maronna) have scammed their way through college. When creepy Ethan (Jason Schwartzman) discovers their secret, he blackmails them into helping him score with beautiful, good-hearted student Angela (James King).<br /><br />Stupid and incompetent \\comedy\\\" - a lot more groan-inducing than laugh-inducing. Movie tries appealing to its target audience with its disgusting gags - but NONE OF THEM WORK. What's more, it's full of worthless, unappealing characters - and Schwartzman's character is so repulsive he's a major turn-off. Movie even tries using 50's/60's sexpot/actress Mamie Van Doren in the movie's most outrageous scene. YUCK!!!<br /><br />Further bringing it down are its utter predictability and the waste (yet again) of veteran comedic actor Joe Flaherty's talent - when's this guy going to stop accepting every role that comes along and do something worthwhile?<br /><br />All in all, the only thing I liked was James (a.k.a. Jaime) King, who was very appealing - and deserved better.<br /><br />This gets no more than one out of ten from me.\"\n",
      "* * * * * * * * * \n",
      "13253\n",
      "It was a painful experience, the whole story is actually there so I won't go into that but the acting was horrible there is this part in the very beginning when the scientist brother goes to work he actually wears a white coat at home before leaving to work, I thought working with biohazard material meant that you should wear sterilized clothes in a controlled environment and the lab itself looks like a school lab there is this monitor on top a file cabinet that has nothing to do with the whole scene its just there to make the place look technical and a scientist is actually having breakfast in the lab and next to him is a biohazard labeled jar and his boss walks in on him and doesn't even tell him anything about it...not to mentioned bad acting very bad can't get any worst than that my advice don't watch and I thought nothing could be worse than house of the dead apparently Uwi Boll's movies look like classical Shakespeare compared to this!\n",
      "* * * * * * * * * \n",
      "13908\n",
      "Wenders was great with Million $ Hotel.I don't know how he came up with this film! The idea of giving the situation after spt11 and the view of American Society is hopeful,that makes it 2 out of ten.But this is not a movie.Is that the best someone can do with a great idea(the west-east clash).There are important things going on in middle east and it is just issued on the screen of a MAC* with the fingers of an Amerian girl who is actually at the level of stupidity(because she is just ignorant about the facts).The characters are not well shaped.And the most important thing is the idea that is given with religion is somehow funny to me.At the ending scene Lana says lets just be quiet and try to listen.And the background music says \\...I will pray\\\".The thing is not about religion actually.But it ends up with this.How you are gonna see the truth if you just close your eyes and pray.The lights are already shining on the truth.Its just that nobody wants to see it. ps: \\\"My home is not a place.It is people\\\"The only thing that gets 10 out of 10 is that sentence.But it is wasted behind this film making. (by the way; as \\\"someone\\\" mentioned below ,Americas finest young man are not finest,they are just the \\\"poor\\\" and the \\\"hopeless\\\" ones who sign up for the army in need of good paychecks which is not provided by the government ! )\"\n",
      "* * * * * * * * * \n",
      "14004\n",
      "Imagine the scenario - you are at the movie theater only because you are in Washington for the weekend and it's raining and you're finished with the Museums. You think you might go see the Sarah Marshall movie as the trailer look so so and you don't have to engage your brain. It's sold out. Options? - The Bank Job, In Bruges, The Leatherheads or Prom night. You've seen the Bank Job (suprisingly decent heist movie that) and In Bruges (again, pretty good) so you're down to two. You don't fancy watching Clooney or the nice one from the Office run around in 1930 football uniforms, so you go see Prom Night right? Wrong. You take the $8.50, walk up to a stranger in the street and ask him to punch you in the face for $8.50. It would be money better spent.<br /><br />It actually plays like more of a comedy than a horror/thriller or whatever it is supposed to be. If I was financing that movie and they showed me that as a final cut I wouldn't know whether to laugh or cry. Probably both. An insult to anyone's intelligence... my roommate was laughing out loud most of the movie, as for the acting, they might as well have cast robots (or maybe dogs) in the roles, they would have been more realistic. The detective has to be possibly the worst actor I have ever seen (Ben Affleck and Hayden Christansan (I hate his acting so much I don't care how you spell his name) you are relieved on your title(s)) <br /><br />So in summary 'not good'\n",
      "* * * * * * * * * \n",
      "14208\n",
      "I don't know who to blame, the timid writers or the clueless director. It seemed to be one of those movies where so much was paid to the stars (Angie, Charlie, Denise, Rosanna and Jon) that there wasn't enough left to really make a movie. This could have been very entertaining, but there was a veil of timidity, even cowardice, that hung over each scene. Since it got an R rating anyway why was the ubiquitous bubble bath scene shot with a 70-year-old woman and not Angie Harmon? Why does Sheen sleepwalk through potentially hot relationships WITH TWO OF THE MOST BEAUTIFUL AND SEXY ACTRESSES in the world? If they were only looking for laughs why not cast Whoopi Goldberg and Judy Tenuta instead? This was so predictable I was surprised to find that the director wasn't a five year old. What a waste, not just for the viewers but for the actors as well.\n",
      "* * * * * * * * * \n",
      "14254\n",
      "Well, as Goethe once said, there really isn't any point in trying to pass a negative judgement that aspires to be objective on \\something that has had a great effect\\\". \\\"La Maman et La Putain\\\" has surely passed into history as an influence on much of what's been done in France and elsewhere in the past thirty years and no one interested in the history of film, certainly, should be dissuaded from watching it. To express a purely subjective judgement, however, I feel compelled to disagree with almost every other review posted here and say to people: \\\"Don't watch it; it's a waste of hours of your time that will just leave you feeling rather sick and angry.\\\" And by that I don't mean \\\"sick and angry\\\" about \\\"the human condition\\\" or anything so general and profound as that, because that is exactly the line that most critics have adopted in their fulsome praise of the film - \\\"an ordeal to watch in its ruthless dissection of our emotional cowardice and cruelty\\\" and so on - and, if it really managed to put across a universally or even broadly relevant message of this sort, then the director would have good reason to be satisfied with himself, however pessimistic his conclusions may be. My beef with the film is rather that I don't see this hours-long record of empty vanity and petty treachery as being justified or excused by any GENERALLY relevant message at all. All three main characters are deeply morally unattractive individuals: Alexandre to the greatest degree, of course, because we see by far the most of him and because he seldom shuts up for more than thirty seconds; Marie perhaps to the least degree, because we see the least of her. Alexandre's affected and pretentious monologues have a kind of amusement value, of course, but the amusement wears thin as one comes more and more clearly to realize that Jean-Pierre Léaud is most likely not even acting and that, with absurd remarks like \\\"un homme beau comme un film de Nicholas Ray\\\", he really was just reproducing word-for-word opinions that were accepted as authentic and profound by the milieu in which he, along with the director Eustache, had been living for about ten years by the time of the making of the film. I suppose if the tone of relentless superficiality and triviality had been sustained throughout 100% of the film, it might have worked as a long sardonic comedy about a particularly shallow, worthless and despicable post-'68 milieu. What made, however, this viewer at least extremely angry with the director was his granting of at least one lengthy scene each to Alexandre and Veronika in which we are clearly expected to empathize with and feel for them as if they shared a moral universe with us. If a man can get away with living in the flat of and professing to love one woman, sleeping (mostly in this very flat) with another, and running around Paris proposing marriage to yet a third, well, I suppose I can wish him the best of luck in the dog-eat-dog world he's chosen to create for himself. What I can't, however, in all conscience do is listen even for a moment to maudlin monologues from him in which he speaks about his \\\"anxiety\\\" and his \\\"despair\\\". The same goes double for the even more despicable Veronika, whom we are shown barging drunk into the apartment and even the bed shared by Marie and Alexandre and behaving there with an infantile inconsistency tantamount to the most savage and heartless cruelty. As I say, if \\\"La Maman et La Putain\\\" is intended to be nothing more nor other than a portrait of Alexandre, Veronika and Marie, three individuals whom any even halfway decent person would never admit into their company let alone their home, then I suppose there is a kind of legitimacy in praising the director for being \\\"unflinching\\\" (though why one should even feel like \\\"flinching\\\" once one had consciously opted to create such thoroughly repellent characters to filmically observe I can't imagine). The problem, however, is that the director is clearly convinced - and appears to have succeeded in convincing generations of critics - that Alexander, Veronika and Marie are somehow representative of human beings in general and of the limits of human beings' emotional capabilities. This latter idea, however, is arrant and offensive nonsense. There may indeed be an inherent fallibility and tendency to tragedy in human relations in general and sexual relations in particular. But the nature and degree of this fallibility and tendency to tragedy can only possibly be determined by people who make a sincere and serious effort to make such relations work. It surely needs no cinematic or authorial genius to convey to us the information that a man who behaves like Alexandre is going to end up hated, miserable, and alone, or that women who insist on expecting love from a man like Alexandre are going to end up disappointed and bitter. Watch \\\"La Maman et La Putain\\\" if you're historically interested in what passed for culture and human interaction in a certain post-'68 Parisian milieu which was probably, unfortunately, not restricted to just a few particularly anti-social types like these. But please don't make the mistake of believing that what is recorded here has any general relevance for humanity in the way that a film by Jean Renoir or Martin Scorsese might be argued to have.\"\n",
      "* * * * * * * * * \n",
      "14330\n",
      "We gave up at the point where George Clooney's character has his finger-nails extracted. We were not squeamish - having sat through an hour of this drivel we just knew what it felt like. To say this film was incomprehensible, boring, pretentious twaddle would be to over-praise it! How did people manage to sit through this confusing, slow, depressing pseud's corner of a film, let alone nominate it for an Oscar? Clooney looked as ill as we felt watching him. What was he thinking? Oh .. and what was with those subtitles? - did we just have a dud DVD or was the original film done like that - sentences left hanging in mid-air? The film was hard enough to follow without that as well. I pity the cast, who obviously did their best with the material available.\n",
      "* * * * * * * * * \n",
      "14364\n",
      "In Cold Blood was one of several 60s films that created a new vision of violence in the Hollywood film industry. Capote coined the phrase \\nonfiction novel\\\" to describe the book on which this film is based, and the spirit of that form was carried over into the film script, which he co-wrote. Despite the fact that we were well into the era of color film, Richard Brooks elected to present this film in black and white to underscore both the starkness of the landscape and the bleakness of the story. This is the first problem with the TV remake --color changes the tone of the story. In addition, the confinement of shooting a film for TV makes reduces the options of how the shots are framed and focused. As a result, we lose the dramatic clash which makes the second part of the original film (police interviews, trial, imprisonment, and execution) so claustrophobic. On the small screen, it's just another version of Law and Order spin-offs. <br /><br />Hollywood's search for scripts continuously takes it back to movies that were successful in another age. Usually, that's a mistake, and this is no exception.<br /><br />All of the actors are competent. The script is OK. The directing doesn't get in the way. It's just that the movie doesn't work as well as the original precision instrument. It doesn't hook the viewer into the ambivalence toward Smith and Hickock that the original film provokes. At the end of the TV version, we are left with the feeling: \\\"Ho hum, who cares?\\\"<br /><br />See the original first, on as large a screen as you can, then watch the TV version simply to understand why the first one was such an important film in 1967.<br /><br />Wouldn't hurt to also go on line and read a bit about Capote and the original book. It will help you to understand the extraordinary effort he put into the material, and also some of the controversy surrounding both the book and the movie.<br /><br />I actually only gave this a 4 because I save the bottom 3 rankings for true bombs--the kind that enrage you about having been sucked into spending an\"\n",
      "* * * * * * * * * \n",
      "14377\n",
      "I saw this movie a few months ago in the town which appeared as Greendale in the movie, which is the only reason I went to see it. Another local who was there just forwarded to me an email announcement of a repeat showing because the first had sold out and people were turned away. His editorial comment in his forward is a good summary:<br /><br />\\Yuk.\\\"<br /><br />Unless you're a Neil Young fan or live in/near \\\"Greendale\\\" (if the latter you know the real name), skip this movie. It's mostly an ego trip for the filmmaker. It has no discernible plot, the music is merely OK, and too much of the lyrics are unintelligible making it impossible to follow what little shreds of plot there may be.<br /><br />I don't need to put in a spoiler warning because there are no surprises to give away.<br /><br />I'd give this a 1.5/10, but that's just for the amusement value of seeing the locales made into a movie. It wasn't worth the $6. I could rent a video camera and drive around \\\"Greendale\\\" and make a better movie myself.<br /><br />If you want to see a *good* environmental-message movie with no plot, go rent Koyaanisqatsi.\"\n",
      "* * * * * * * * * \n",
      "14384\n",
      "Rosario Dawson stars as a girl who is date raped and then begins a decent into darkness until given a chance at revenge. While its clear why Dawson took the role, its a chance to show her acting chops and to make a small independent, decidedly un-Hollywood film, its also clear that aside from stunning good looks, Dawson seems out of place in the role. Forgive me I simply couldn't find her. Thats not a mistake, thats how I felt, I had no idea where she was. Yes I know she's on the screen but even though I spent the better part of two hours looking at her she left no impression on me whats so ever. I blame the script for this since other than the ending, not a whole heck of a lot that happened on screen seemed to make any real sense. The people seemed to be more posture than real and what happens didn't seem to fit together. Forgive me for being vague but nothing in this film, other than the end (which I would love to talk about but can't cause it would spoil it), and the image of Rosario Dawson as nothing more than an image, stayed with me.What can I say, this may click with you, it may not, for me it's time I can't get back. For Rosario Dawson fans only, though be warned there's several real reasons why this is NC17. (And Rosario- please, you're a better actress, pick better scripts)\n",
      "* * * * * * * * * \n",
      "14491\n",
      "Some good movies keep you in front of the TV, and you are dying to see the result.<br /><br />This movie does not have highs and lows. It simply describes a young girl's family life in Africa. People come and go, the weather and the background are all the same.<br /><br />\n",
      "* * * * * * * * * \n",
      "14501\n",
      "Jane Russell proved to be a delightful musical-comedy performer in the similarly titled \\Gentlemen Prefer Blondes\\\"",
      " but, sadly, this film squanders those skills. There is a budget, and nice Paris photography, but the film just doesn't work. Ms. Russell seems to be playing Marilyn Monroe. That leaves nobody to adequately play Jane Russell. Some of the other players are WAY out of their element.<br /><br />There are several embarrassing scenes; most of all, be warned: there is a musical number where boneheaded African cannibals \\\"cook\\\" the brunettes in a pot, after Alan Young sings in a gorilla suit.<br /><br />This is an interesting, at times embarrassing, waste of resources. <br /><br />*** Gentlemen Marry Brunettes (10/29/55) Richard Sale ~ Jane Russell, Jeanne Crain, Alan Young, Scott Brady\"\n",
      "* * * * * * * * * \n",
      "14507\n",
      "I like end-of-days movies. I like B-movies. I was hoping I would like this movie.<br /><br />I could ignore the poor effects, the often atrocious music, the cringe-inducing lines. I could ignore the unexplained events, and the fact that the movie constantly relies on deus ex machina is excusable, given the subject matter. I could ignore the fact that the people who fight hunger and try to reach world peace are the bad guys. None of these things kill the movie. What kills this movie is that it's just plain and simple boring. Nothing actually happens; almost all scenes in the movie are designed to push the movie creators' morals on the viewers, at the cost of actually having a coherent story, or any kind of suspense.<br /><br />If you're looking for an entertaining B-movie, look elsewhere. This movie is just boring.\n",
      "* * * * * * * * * \n",
      "14516\n",
      "As a former Kalamazoo resident with a fondness for the town I was looking forward to seeing this movie. But, what a disappointment! Although the acting and the production values aren't bad, the script is awful, the plot is unrealistic, and the theme is disturbing.<br /><br />The main message of this film is that Women are nothing without husbands and children. I can hardly believe how regressive it is in it's view of women. Has the writer been living under a rock? <br /><br />Although I enjoyed seeing my beloved city on the big screen, I wouldn't suggest this movie to anyone. It's terrible. It's an embarrassment to the city it's named after.\n",
      "* * * * * * * * * \n",
      "14580\n",
      "This is really a very bad movie. Why? First of all, the story is bad. It is an artificial story, combining all sorts of things together that make no sense. It just seems a wrong experiment. Secondly, the actors cannot play in a realistic manner. They cannot even talk as an actor should. Why did I buy this movie? And what must I do with it now?\n",
      "* * * * * * * * * \n",
      "14659\n",
      "Okay, you have:<br /><br />Penelope Keith as Miss Herringbone-Tweed, B.B.E. (Backbone of England.) She's killed off in the first scene - that's right, folks; this show has no backbone!<br /><br />Peter O'Toole as Ol' Colonel Cricket from The First War and now the emblazered Lord of the Manor.<br /><br />Joanna Lumley as the ensweatered Lady of the Manor, 20 years younger than the colonel and 20 years past her own prime but still glamourous (Brit spelling, not mine) enough to have a toy-boy on the side. It's alright, they have Col. Cricket's full knowledge and consent (they guy even comes 'round for Christmas!) Still, she's considerate of the colonel enough to have said toy-boy her own age (what a gal!)<br /><br />David McCallum as said toy-boy, equally as pointlessly glamourous as his squeeze. Pilcher couldn't come up with any cover for him within the story, so she gave him a hush-hush job at the Circus.<br /><br />and finally:<br /><br />Susan Hampshire as Miss Polonia Teacups, Venerable Headmistress of the Venerable Girls' Boarding-School, serving tea in her office with a dash of deep, poignant advice for life in the outside world just before graduation. Her best bit of advice: \\I've only been to Nancherrow (the local Stately Home of England) once. I thought it was very beautiful but, somehow, not part of the real world.\\\" Well, we can't say they didn't warn us.<br /><br />Ah, Susan - time was, your character would have been running the whole show. They don't write 'em like that any more. Our loss, not yours.<br /><br />So - with a cast and setting like this, you have the re-makings of \\\"Brideshead Revisited,\\\" right?<br /><br />Wrong! They took these 1-dimensional supporting roles because they paid so well. After all, acting is one of the oldest temp-jobs there is (YOU name another!)<br /><br />First warning sign: lots and lots of backlighting. They get around it by shooting outdoors - \\\"hey, it's just the sunlight!\\\"<br /><br />Second warning sign: Leading Lady cries a lot. When not crying, her eyes are moist. That's the law of romance novels: Leading Lady is \\\"dewy-eyed.\\\"<br /><br />Henceforth, Leading Lady shall be known as L.L.<br /><br />Third warning sign: L.L. actually has stars in her eyes when she's in love. Still, I'll give Emily Mortimer an award just for having to act with that spotlight in her eyes (I wonder . did they use contacts?)<br /><br />And lastly, fourth warning sign: no on-screen female character is \\\"Mrs.\\\" She's either \\\"Miss\\\" or \\\"Lady.\\\"<br /><br />When all was said and done, I still couldn't tell you who was pursuing whom and why. I couldn't even tell you what was said and done.<br /><br />To sum up: they all live through World War II without anything happening to them at all.<br /><br />OK, at the end, L.L. finds she's lost her parents to the Japanese prison camps and baby sis comes home catatonic. Meanwhile (there's always a \\\"meanwhile,\\\") some young guy L.L. had a crush on (when, I don't know) comes home from some wartime tough spot and is found living on the street by Lady of the Manor (must be some street if SHE's going to find him there.) Both war casualties are whisked away to recover at Nancherrow (SOMEBODY has to be \\\"whisked away\\\" SOMEWHERE in these romance stories!)<br /><br />Great drama.\"\n",
      "* * * * * * * * * \n",
      "14668\n",
      "The more I analyze this film, the worse it becomes. First of all, why a motivational speaker? That part was just stupid. I mean, why would a megalomaniac trying to control the world rely on a motivational speaker? Is Alexander Stone really that disorganized? First he can't decide what he wants to do to control the world, so he looks to the Bible for ideas. Many of these ideas, I might add, really have no reliability(For example, the part of the \\The houses of Ishmael and Isaac shall scream out in terror\\\" could have already happened. It could have been have been the synagogues burned during Krystalnacht and the mosques could very well have been the mosques blown up in Baghdad or something.) And Gillen Lane's family! They had no part except to provide a family values platfrom and dab their eyes with water! I might add that since Casper van Dien/Gillen Lane is only in his twenties(or that's the impression that I had)and has a ten year child, he had his child during high school. Yeah, there goes TBN's family values. Also, why did this film have to be so damn propaganda-like? I'll repeat what an earlier reviewer said. The Indiana Jones flicks use Christian mythology as a plot dvice and manipulate it well so that we are intoxicated. This film doesn't do that. The beginnig starts off well, with Michael Ironsides playing a priest who murders a scholar off some sort and steals the dead guy's Omega Code. Then when confronted by two men who he is obviously afraid of, the two prophets tell him \\\"Tell your master that we are here!\\\". Dominic(Ironsides) replies \\\"He already knows\\\" and points to a small surveillance camera. That part sent chills up my spine. Had only it gone on like that one scene I would have loved this film. I'll give Michael York credit: he does a fine job of acting out his character, as does Michael Ironsides. But the good guys are horrible. I've already went on about Lane's family<br /><br />. Now that I'm over the acting, I'll get on to plot. This is obviously a Baptist film, since our beloved Pope of the Vatican is portrayed as an oaf. The world domination plot I liked and found plausible and subtle, as were the action sequences were also thrilling and well-done. Also another diatribe against the Vatican, their leaders are seen as dogmatically minded, since Gillen explains to the Pope that it's not the end of the world, but the beginning of a new one Also, the Vatican (or Israelis)says their going to secede from the World Union aince they used the Omega Code to control the world. Whoever it was, they wouldn't just secede, they'd send over commandoes and kill them. This is the equivalent of America knowing about the KGB going to kill the President and simply saying \\\"We're not going to talk to you any more!\\\". Come on! I did enjoy the scenes where we see bombers headed towards Israel and see them again on the monitor. Mediocre in short.\"\n",
      "* * * * * * * * * \n",
      "14800\n",
      "At a panel discussion that I attended after viewing this film, the filmmakers stated that one should look at this not as a movie but a provoker of thought. Well, the only thoughts that were provoked from me were of the time wasted watching the movie. The gimmicks of the film (documentary style, futuristic setting) served as distractions of what was supposed to be a thoughtful examination of the abortion debate. This film illustrates the problem when people try to use film as a platform for their political views - usually a very boring movie that preaches to the choir.\n",
      "* * * * * * * * * \n",
      "15010\n",
      "A stuttering plot, uninteresting characters and sub-par (to say the least) dialogue plagues this TV production that could hardly have been interesting even with a billion dollar production budget.<br /><br />The characters aren't believable, in their motives, actions or their professed occupations. The plot reads like a bad Dungeons and Dragons(TM) hack but with plasma rifles and force fields. There are severe continuity issues and the degree of pointless interaction between the characters has this author, at least, wincing. <br /><br />Avoid it like the plague. Watch any episode of Dark Angel and you will have better acting, dialogue and plot. Yuck.\n",
      "* * * * * * * * * \n",
      "15012\n",
      "When evaluating documentaries that focus a relatively small group of Ugly ultra right wing and conservative groups like this in the USA you must consider the following. The United States of America with its population of 270 million and its complex history as an aspiring democracy and its hopes and desires to uphold Human Rights that it has its failings and downside. It is of course expected that extreme right wing groups and ultra conservative groups exist in sizable numbers however relative to the size of its population they are very small and isolated . On a per capita basis Europe, Britain and even Australia have similar right wing groups in fact on a per-capta basis the actual size of Neo-Nazi groups in Australia is actually higher than in the United States of America. It is for the above reasons that it is unjustifiable to demean and vilify the American people and their level of debate in Educated American Society by very fraudulently and deceptively presenting this ultra-right wing bunch of psychopaths as being representative of American Society. By doing so Greenstreet, deliberately chose small and isolated groups at opposite ends of the spectrum to construct an image of America that is an outrageous and deliberate sensationalist lie. This film is clearly designed to inflame and pander to the views of people who harbor this subconscious and morbid hate the American people and way of life under the guise of spurist fashionable and cliché idealist left wing ideology. This film was made for profit not for furthering the truth about American Society and the Human condition. Greenstreet can make documentaries that focus on ultra right wing conspiracies, the Military Industrial complex but fail miserably to present an intelligent and balanced factual debate let alone alternative solutions to the failings of a vibrant democracy. Movie Show is exposed as Anti American by its support for this trash. SENSATIONALISM at its worst anti -USA garbage shameful.\n",
      "* * * * * * * * * \n",
      "15196\n",
      "Honestly, this is easily in the top 5 of the worst movies I have ever seen. Partly, because it takes itself so seriously, as opposed to regular light hearted trash, this movies wants you to be emotionally involved, to feel for the characters, and to care about the alleged conspiracy. None of this ever even comes close to happening.<br /><br />****MILD SPOILERS******<br /><br />There are 3 main reasons why this movie is so terrible: 1.) Incoherent and totally non-sensical plot. 2.) Annoying style-over-substance \\MTV\\\" camerawork. 3.) Moronic characters and plot holes.<br /><br />Allow me to elaborate.<br /><br />1.) Apparently, when this movies was being made, they couldn't decide whether to make a movie about church conspiracies, the stigmata, or possession. So, guess what? They combined them! An aetheist gets possessed by a dead person, who then makes her exhibit the stigmata so as to expose a church conspiracy. How a regular person is able to transcend death and possess another human being through his rosary is never explained, nor even talked about. Now, instead of just saying what he wants to say, he gives her the Stigmata. WHY? Why not just spit it out? Instead, we get treated to scenes of screaming things in harsh voices, carving cryptic messages on cars, and writing messages on walls. Apparently this priest was also a violent guy, because the possessed young lady also wigs out on one o f the characters, while talking in that cliched, harsh, \\\"possessed\\\" voice that we all have heard countless times. This also starts to tie into my second complaint, because whenever the young lady gets the stigmata, she also defies the laws of gravity by floating into the air, and tossing everything and everybody around her as if they were in an earthquake? Why does this happen? Who knows!?! My guess is that the director thought it looked \\\"cool\\\".<br /><br />2.) This movies contains dozens of shots, in slow motion, of course, of birds showing up out of nowhere and flying off, and most annoyingly, of water dripping. This woman's apartment is constantly dripping water! CONSTANTLY! Logically, the place would probably fall apart with this many holes. To sum up this complaint, towards the end, and for absolutely no reason, the camera cuts to shots of water dripping, in slow motion, in reverse!! WHY!?! I have no idea! It has no relevance to anything, and once again, I'm betting it's because the director thought it looked \\\"cool\\\".<br /><br />3.) One of the main characters says he became a priest to explain away holes in science. This doesn't make sense to me. I would think that going to church would be enough, but no, he has to go through the entire rigamarole of becoming a priest. I just don't buy it. Secondly, there are lots of plot holes, a few of which I will elaborate on below. For starters, when she first gets the stigmata, the scene ends with her laying unconscious, bleeding. Next, she's in the hospital. Who called the ambulance? Another one is towards the end, when the previously mentioned \\\"scientific priest\\\" character is talking to the spirit who is possessing the girl. He says, \\\"Take me as your messenger!\\\" Not a word for word quote, but you get the idea. His response? \\\"You have no faith, only doubt!\\\" So, because of this, he possesses an aetheist! An aetheist has no faith, far less then any scientific priest! And then, there's the fact that the object of this movie's conspiracy, this Lost Gospel (of St. Thomas, I believe) is available at local bookstores. The characters are willing to kill to supress this document, but you could walk down to a bookstore and buy it. Maybe this is supposed to take place in an alternate history, where it isn't wide known, but the movie never tries to tell us this, or to even hint that this is an alternate happening of that document's uncovering.<br /><br />In closing, this movie is terrible to a spectacular degree. It is my arch-nemesis, which I feel the need to insult every chance I get. I loathe it. Final Grade: F\"\n",
      "* * * * * * * * * \n",
      "15267\n",
      "This thing is really awfull. There´s no charachter with weight, they´re all floating around in the BG´s. The Motion Capture is a fine toy, but this movie demostrates that you really need people who knows animation to do an animated film. THE MACHINE CAN´T DO ANYTHING WELL BY ITSELF. If you see it as a bizarre film, you´ll have fun finding mistakes of continuity... IN A 3D MOVIE!!! It´s funny to watch the princess dress move around like a thing with diferent phisics. You need animators and 3D animators, not data-entries whom know 3D programs. Note the junctions, like the elbows, how they lost volume and get deformed. The person who made the charachter design (a very good one) sufered for sure when he/she watched them move, ´cos you can´t say they come to life.\n",
      "* * * * * * * * * \n",
      "15318\n",
      "I figured the whole joke of the movie would be to see some rich white guy acting like Chris Rock, and then see Chris Rock react to people's reactions. Instead you just see Chris Rock being himself and people not understanding him. There are maybe 2 scenes in the entire movie where they use their gimmick. This should have been a lot better.\n",
      "* * * * * * * * * \n",
      "15371\n",
      "I have yet to read a negative professional review of this movie. I guess I must have missed something. The beginning is intriguing, the three main characters meet late at night in an otherwise empty bar and entertain each other with invented stories. That's the best part. After the three go their separate ways, the film splits into three threads. That's when boredom sets in. Certainly, the thread with the Felliniesque babushkas who make dolls out of chewed bread is at first an eye opening curiosity. Unfortunately, the director beat this one to death, even injecting a wild plot line that leads nowhere in particular. Bottom line: a two-hour plot-thin listlessness. If you suffer from insomnia, view it in bed and you will have a good night sleep.\n",
      "* * * * * * * * * \n",
      "15603\n",
      "there are three kinds of bad films - the cheap, the boring, and the tasteless. the only really bad movies are boring and tasteless. <br /><br />boring films are just, well, boring - if you don't leave quickly enough, you fall asleep.<br /><br />tasteless films actually have their defenders; but the fact remains that they are masturbatory aids for very sick people.<br /><br />only the cheap bad films are really funny, because the filmmakers wanted to make their films so desperately, they way-over-reached beyond their abilities and available resources.<br /><br />Bo Derek is just naturally boring and tasteless; fortunately, fate and a lack of funds and skill redeem her by making her seem cheap as well. this film is hilarious and it may well be the last really funny-bad film ever made.<br /><br />i first saw this in a theater, may god forgive me; i was laughing so hard i was rolling off my seat, and so too with most of the rest of the audience.<br /><br />it's clear that Derek and her husband-promoter, conceived of this film as, partly, a satire; unfortunately, the dereks clearly lacked any of the necessary resources to pull that off; consequently, the 'satirical' element comes off as some school-girl's impression of some gay young man's impression of frank gorshin's impression of the riddler in batman trying to pretend he's robin - it doesn't fly over our heads, it has no clue where any human head might be.<br /><br />on the other hand, there are some supposedly serious moments in this film - it is supposed to be an action film, remember - that are so astoundingly cheesy, one wonders if someone squirted spoiled milk in one's eye.<br /><br />as for Derek's infamous tendency to reveal her breasts - i can't imagine a less erotic nudity photographic display, she is so weird looking with those broad shoulders, i can't imagine what any one ever saw in her.<br /><br />as for the plot - such as it is - well, it isn't; Derek chases around Africa, and god alone knows why. then her father - Harris - pretends to act in some maniacal puppet-show, and then of course there's the hunk'o'Tarzan that seems to have wondered in from advertisement without knowing that the subject's changed - probably because he hasn't seen a script - apparently no one has.<br /><br />negligible camera work, shoddy editing - if it weren't for the 3-way with the chimp, the film would be unbearable -<br /><br />as it is, it's a real hoot.\n",
      "* * * * * * * * * \n",
      "15679\n",
      "Jungle Fever is too highly stylized, stereotyped, and comes across as essentially dishonest. Wesley Snipes was wrong for the lead and there was no chemistry between him and Annabella Sciorra. Even though there's plenty of talent in this movie, it's mostly wasted because the parts are reduced to little more than decorative cameos. Also, instead of simply showing racism for the ugly and stupid thing it is, Spike Lee chooses to wave it around like a flag in a most whining and irritating manner. I made it through most of the film but I couldn't quite finish it, and that, for me, rarely happens.\n",
      "* * * * * * * * * \n",
      "15702\n",
      "In fact, it never was. I'm not sure why Billy Crystal wanted to recreate a 1940s screwball comedy. What a vacuous shambles! None of these people come close to a Cary Grant, Spencer Tracy, Katherine Hepburn, etc, and anyway, today's audience isn't as receptive to this facile muck. Writing is trivial. The hackneyed plot is razor thin and obvious. The chemistry between the leading characters is non-existent. It's interesting that Julia Roberts seems to think she's a reincarnation of some big star from the \\golden age of Hollywood\\\", whenever that may be. It's an effect she tries and fails to attain yet again with Richard Gere in Runaway Bride.\"\n",
      "* * * * * * * * * \n",
      "15786\n",
      "BE WARNED. This movie is such a mess. It's a catastrophe. Don't waste your time with this one. I warned you!<br /><br />The acting, story, dialogue, music... basically everything is so over the top, it's absolutely annoying and ridiculous. It made me want to throw up (if the dialogue/acting/story wasn't doing it, it's everyone being shot crooked). You'll feel like you're watching a comedy. The problem is, the parts that are supposedly funny isn't even funny. The acting, story, cinematography, you can feel everything is just trying WAAAAY too hard -- but it never succeeds. Practically every shot is canted, but so what?! This movie just feels like a student film. No wonder they shot this in HD because it would be a waste to spend more money to shoot this on film.<br /><br />If you're easily amused or like poor acting, writing, editing, directing, full of clichés, everything that's forced in your face, oh and did I mention poor acting? (well, actually, it's not all the actor's fault - it's the director!) then I guess you'll like this movie.<br /><br />I had to watch this for a class. I would have turned it off right away if I could. If you still can't tell by now, I HATED this movie. It made me want to throw up and get my time back... at least I didn't have to pay for this garbage.<br /><br />Jeff Goldblum, you know... the guy from Jurassic Park/Independence Day, is in this movie but he sure went downhill from then -- accepting roles for movies like this catastrophe.\n",
      "* * * * * * * * * \n",
      "15810\n",
      "You could say that the actors will make a movie, but this clearly proves that statement wrong. Most of the characters in this film lack anything to hold on to. They play the part of cardboard cut outs being moved about in predictable and uninteresting ways. The story is very simple. It could be summed up in a few words, but I'll hold back in case anyone reading does want to see this film.<br /><br />I had to fast forward the parts where Jack showed us how to be an obnoxious eater. I'd have to say that 70% of this film revolved around cooking, eating, or getting ready to eat. Quite frankly, I'd rather not spend my time watching Jack chew noisily with an open mouth. Personally, I could have done without the footwear references and jokes that pepper the first half of the film too.<br /><br />Outside of my own personal dementia, the film really lacked anything worth it's time. There were countless scenes and camera shots that felt like it was dragging. When something happens, the reactions of the characters are vague and dry.<br /><br />Best not to look this one up.\n",
      "* * * * * * * * * \n",
      "15952\n",
      "I rented this film thinking it was the sobbingly sad 1959 version I saw as a kid. It was not. I was therefore very disappointed with what I felt was marginal acting, poor character development, and most of all, failure to highlight the relationship between the boy and his dog. In this version... the \\Dog of Flanders\\\" is just a cute \\\"aside\\\" to the movie. Get the 1959 version!\"\n",
      "* * * * * * * * * \n",
      "16023\n",
      "It seems like this is the only film that John Saxon ever directed, and that he had the good sense to stop after that and stay in front of the camera. This movie is a dog, from start to finish, and it's dull and wooden with nothing much going for it. A Viet Nam war hero takes a job working for a mob boss, gets a bit too friendly with the wife and then the wife is killed by the mob boss himself & the war hero framed and sent to prison, death row, specifically. Now, this particular prison has been experimenting on inmates and is testing some formula that will turn men into the ultimate killing machine (a zombie). Of course, everything goes wrong and then there's all these infected people trapped in the prison, some of whom are turning into zombies and the rest who suddenly just don't want to be there anymore. This just goes on and on and on with nothing particularly much to show or say for itself, and I stopped it before the end, which seemed like it was coming a few times but no, it was apparently only getting set to take off on a different and equally dull path. If one watched to the end they may well become a zombie themselves, so don't risk it. 2 out of 10.\n",
      "* * * * * * * * * \n",
      "16304\n",
      "I really wanted to like this film, but the story is ridicules. I don't want to spoil this film, - don't worry right from the begin you know something bad is going to happen - but here's an example of how sloppy this film was put together. The Cowboy and \\Twig\\\" ride up the ridge. The Cowboy has a handle bar mustache. The Cowboy and \\\"Twig\\\" get into a shoot out and race half way down the ridge. The Cowboy is clean shaven through out the rest of the film. Sometime between the gun fight and the ride down the mountain the cowboy has had time to shave, in dark, on the back of a horse.<br /><br />To be fair, the acting by the four main characters is solid.\"\n",
      "* * * * * * * * * \n",
      "16307\n",
      "The Choke starts as a rock band known as The Choke prepare for a gig at a nightclub called 'Club 905' owned & run by Guy Johnson (Andrew Parker). Lead singer Dylan (Sean Cook) & guitar player Mike (Jason McKee) plan to tell the other band members, bass player London (Brooke Bailey) & drummer Nancy (Tom Olson), that they are both going solo & their services won't be needed any longer. Once at the club Dylan prepares but Mike doesn't show up & the gig turns into a disaster. Then just as the band think things couldn't get any worse they find a dead body in the cellar, that all the doors have been locked so they can't get out & that they can't trust anyone as a mysterious killer begins picking them off one-by-one...<br /><br />Produced & directed by Juan A. Mas The Choke is a standard by-the-numbers teen slasher that really doesn't have anything going for it. The script by Jessica Dolan & Susannah Lowber (not too many horror films out there penned by ladies...) has some surprisingly good character's in it & some nifty dialogue but while it's much better than a lot of modern shot on a camcorder type horror in that respect it's so slow & boring that even a few interesting character's can't come anywhere close to saving it. As one would expect all the usual teen slasher clichés are used, from the isolated location the victims can't escape from, the cast of good looking teenagers who keep splitting up, a few murders & a really poor twist ending that tries to mimic something like Scream (1996) & be surprising but doesn't make a whole lot of sense when you think about it logically (they couldn't have done some of the things they were supposed to) & to make matters even worse I guessed who the killer was fairly early on & even though I don't want to boast I was spot on. Then there's the fact that the makers of The Choke felt that it's audience would be entertained by showing endless (well it feels endless while watching it) scenes of teenagers walking around dark corridors doing nothing in particular, I am sorry but there is only so many scenes like this that I can take before it starts to become tedious. The kill count is low, at first they all decide to stick together (good idea) but then they all just randomly decide to split up & go their separate ways (bad idea when there's a killer on the loose), the pace is lethargic, the kill scenes are unimaginative & to top it all off the twist ending is poor.<br /><br />Director Mas does alright, the film looks OK for the most part although there are the odd occasions where he uses some annoying post production editing technique like slow motion or frame skipping. The gore levels aren't really up to scratch, there's some blood splatter, a guy with a hole in his chest, a few dead bodies & someone impaled on some metal poles. Most of the kills happen off screen with the axe kill at the end a good example of the film not actually showing anything. Since the film is about a rock band there's quite a rock orientated soundtrack with some truly horrible, horrible rock songs used on it. I am sorry rock fans but to my ears this crap is just noise pollution. It's not scary, there's no real atmosphere & the lack of blood & gore is just inexcusable when the rest of the film is so bad.<br /><br />With a supposed budget of about $1,000,000 The Choke is well made with reasonable production values, it looks cheap to be sure but not as cheap as many low budget horror films look. Shot in a place called Spokane in Washington apparently. The acting is one of the films strongest points as it's generally pretty good all round, I mean no-one is going to win an Oscar but it ain't half bad.<br /><br />The Choke is a throughly routine Scream style teen slasher that has one of the weakest twist endings ever & a criminal lack of blood, gore, violence, nudity & dead bodies. I mean if a slasher hasn't got any sex or gore then what's the point? Those are the only things that the average slasher is worth watching for, right?\n",
      "* * * * * * * * * \n",
      "16317\n",
      "Uh oh! Another gay film. This time it's showing the black side. Bet your last dollar it's gonna have an unhappy ending! But WHY? With only less than a half dozen exceptions, ALL gay films have to end in death or an \\addio\\\" finale. It's like all the European Film Noir releases in the 40's, 50's, 60's, and 70's. The lead...male or female must die or ride off alone into oblivion. Why in God's name must writers, directors, and producers have the audience leave the theatre feeling depressed? After all, it's supposed to be gay...not glum. Maybe the category should be changed to a 'glum' film. A large percentage of gay relationships DO last and the couples DO ride off together into the sunset! No matter who writes or produces, he only shows the down side of gay life and gives the incorrect impression of gay lifestyle. This movie just proves my point. If you rent the DVD, take an antidepressant, for here comes another 'gay' film! This is WRONG!\"\n",
      "* * * * * * * * * \n",
      "16399\n",
      "This movie has beautiful scenery. Unfortunately it has no plot. In order to have a plot there must be a conflict. This movie had none. It spent two hours painting a beautiful scene and failed to ever place any activity in it. The picture tries to be artistic but fails to pay attentions to the fundamentals of story telling.<br /><br />If you love Montana scenery and fly fishing you will find some value in this film just don't expect a story. There isn't one.\n",
      "* * * * * * * * * \n",
      "16557\n",
      "My first review of 2010 is \\Into The Blue 2: The Reef\\\". The story is about two divers played by Chris Carmack and Laura Vandervoort who love to explore hidden treasures at a bottom of a local reef. One day after a day of exploring they are approached by a couple played by David Anders and Marsha Thomason. They tell the young divers that they want to hire them to explore the reef and find a rare artifact about Columbus' hidden treasure that is reported at the bottom of the reef.<br /><br />Next day the four dive to the bottom of the reef and of coarse after a whole day of diving they find nothing. A few more days past and the two hired divers found out that they a part of a major deadly plot in which they can't escape otherwise they will be killed. They were hired to find two big containers. One contains a nuclear reactor and the other contains a core.<br /><br />The movie also has a back story about another person (brother of the lead character) trying to patch things up with his girlfriend, I reckon this part of the story was a waste of time, this also includes a very steamy sex scene between the couple which to me is a complete waste and wasn't needed to be shown.<br /><br />However apart from that, this movie does have some good underwater photography and the colors blend in well which is why it receives 4 stars. Into The Blue 2 is a sequel only by name. None of the original actors or characters return, it has a dumb plot, stupid characters and a boring climax.\"\n",
      "* * * * * * * * * \n",
      "16562\n",
      "I have a piece of advice for the people who made this movie too, if you're gonna make a movie like this be sure you got the f/x to back it up. Also don't get a bunch of z list actors to play in it. Another thing, just about all of us have seen Jurassic Park, so don't blatantly copy it. All in all this movie sucked, f/x sucked, acting sucked, story unoriginal. Let's talk about the acting for just a second, the Carradine guy who's career peaked in 1984 when he did \\Revenge of the Nerds\\\" (which was actually a great comedy). He's not exactly z list, he can act. He just should have said no to this s--t bag. He should have did what Mark Hamill did after \\\"Return of the Jedi\\\" and go quietly into the night. He made his mark as a \\\"Nerd\\\" and that should have been that. I understand he has bills to pay, but that hardly excuses this s--t bag. Have I called this movie that yet? O.K. I just wanted to be sure. If I sound a little hostile, I apologize. I just wasted 2hrs of my life I could have spent doing something productive like watching paint peel, and I feel cheated. I'll close on that note. Thank you for your time.\"\n",
      "* * * * * * * * * \n",
      "16573\n",
      "DeNiro is a master...one of my favourites. And I love GOOD sports movies {not into baseball so much, but hey, its sports movies, right?. I was expecting MUCH more for this movie. It seems to start out well: DeNiro is what I expected, Snipes {whom I don't really like} is very good as the spoiled star. Barkin's role, to me, was OK. She's a good actress, but seemed out of place in this role. To me, they always seemed to rush the scenes, and then it drags a bit in places. It just seemed tio me to be so uneven! Considering the cast and the plot, it could have been so much better. I rated it a '4', and I was being generous ~ I'm a tough one with numbers!\n",
      "* * * * * * * * * \n",
      "16810\n",
      "This movie is truly boring. It was banned in Chinese cinema and i can see why. It's not because it's critical of the communist regime but simply because the movie is of such low quality. I would never want to pay money to watch this. I love movies from Chen Kaige and Zhang Yimou and i am disappointed such a poor movie could come out of China. It totally seems to ignore the audience and the director seems to have made the movie for himself. The shots of a person standing there doing nothing for up to a minute are hilarious and there's plenty of them. The cinematography and video quality are unbelievably bad. I looked this film up on the Net and it seems like people actually like this film. The only explanation i have for this is that some film buffs think that if a film is not in English it is automatically good. I can't see any reason why people would like this. this is not an art film it's of waste of celluloid.(That's if they actually shot it on film , which they didn't)\n",
      "* * * * * * * * * \n",
      "16856\n",
      "Man, this was hilarious. It should be under COMEDY. Or STUPID. It would have made realizing what a pile of stank this was much easier. Seriously? I want anyone associated with this movie tased, effective immediately. For everyone who is thinking of watching this \\movie\\\", let''s go over a few plot points. Oh, wait. There aren't any. There is literally no plot. I think Casper Van Dien was bored, and he decided to film something with some random someones, and miraculously, it somehow got on videotape. This movie is literally the worst movie of all time. Don't believe me? Go watch it. Do it, man. I dare you. But be prepared to gouge your eyes out. If you can sit through this without blowing a cow, you are very strong and courageous.\"\n",
      "* * * * * * * * * \n",
      "17269\n",
      "So I rented this from Netflix because somebody gave me Roger Ebert's book \\I hated, hated, hated this movie\\\" and he gave this one a rare zero-star rating in the book and said at the end of his original review \\\"Mad Dog Time should be cut up to provide free ukulele picks for the poor\\\". So I figured from Ebert saying that I would see if it was really as bad as he said it was. I know most society says not to listen to critics and to judge for yourself but I could not express how much I hated this piece of junk like Ebert did and never since Ebert's review of Rob Reiner's \\\"North\\\" where he said he hated that movie ten times had I ever heard such a brilliant hatred movie review. Here we have Richard Dreyfuss as a gangster which I don't think it would be terrible to see Dreyfuss as a gangster if the screenplay for this movie were written well. But above all the other things that were awful about this \\\"movie\\\" I can certainly tell you the script was not written well at all. While the movie starts off with Jeff Goldblum saying that he enjoyed watching Dreyfuss's girlfriend while Dreyfuss was at a criminal hospital the movie starts off with some decent dialog after the opening credits. But after that first 4 or 5 minutes the other 85 minutes just consists of dumb characters talking pointless garbage for 30 seconds then someone gets shot. Then there are a whole bunch of jokes about Dreyfuss being mentally ill. Haha. Not funny. Then we get an unpleasant and unfunny scene parodying Frank Sinatra's \\\"My Way\\\" sang by Gabriel Byrne apparently to insult Dreyfuss. Of course because the screenplay was written on the level of a sixth grader Dreyfuss shoots Byrne over five times and Byrne just will not die. Are we as the audience supposed to even care or find that mildly funny? I can certainly tell you I did not care or find that funny. Not only am I disappointed in Dreyfuss (who I admire much as an actor) for producing and starring in this tripe but I am also extremely disappointed in Jeff Goldblum because this was released the same year that \\\"Independence Day\\\" was the top grossing film of the year and ultimately one of the most successful films in history. Did Goldblum feel that \\\"Independence Day\\\" would be a flop and then just take the next role that was offered to him to make some money if \\\"Independence Day\\\" were a bomb? What did an Oscar winner and the star of two of the biggest money making films in history find remotely enjoyable about this? The opening sequence of \\\"Mad Dog Time\\\" says that the movie is set on another planet. I only wish now that I have wasted 93 minutes watching this trash that it would have stayed and opened in theaters on the planet where it supposedly takes place so that way everyone on this planet would never here of this ridiculous waste of 93 minutes out of my life that I will never get back. Ebert saying the movie should have been cut up is not good enough I am afraid. Every copy of \\\"Mad Dog Time\\\" should have gasoline poured all over it and be lit on fire. I have yet to top a worst movie I have ever seen because this one has won it's honor as the worst movie ever.\"\n",
      "* * * * * * * * * \n",
      "17331\n",
      "The movie is boring, the characters and scenarios are unrealistic, unbelievable, the action is hilarious. This movie is a big mess. It almost seems like when the action music kicks in, the most impressive stunt is running. Either voice is dubbed over with Mr. McGregor or steven sang too much and it changed his voice. There is way too much dialog in this movie, and extremely bad acting on everyones behalf. The movie is great sleep therapy. The fighting is laughable. The eye shape shift effect on the evil designer drug addict females was decent. The main villain was a joke and his character was poorly developed. The main villain was used to explain the story through interrogation, he would just throw random plots in such as (spoiler) \\CTX (his designer drug)is going to be in the water supply\\\" which is never addressed in the conclusion or even mentioned again in the movie. This movie is highly recommended to pass.\"\n",
      "* * * * * * * * * \n",
      "17604\n",
      "What the heck was this. Somebody obviously read Stephen King and Sartre in the same semester. We get existential angst mixed in with cheap horror. There were moments that were disturbing but each one was canceled out by horrible music, CGI, or acting.<br /><br />The problem with weird narratives like this is that it feels lazy. Even David Lynch's work feels like that at times, and just like his interesting shows and movies it runs far far too long. And sadly this is only 98 minutes.<br /><br />The cast was attractive, and that is about the limit to this. I suppose it touches on feelings of adolescents and the fear of loneliness we all have, but just doesn't make the characters likable enough for us to care about their fates...whatever they were. The final scene leaves the whole thing ambiguous.\n",
      "* * * * * * * * * \n"
     ]
    },
    {
     "name": "stdout",
     "output_type": "stream",
     "text": [
      "17890\n",
      "It is obviously illegal. Pedophiles pray on stuff like this. How did they get away with making such a movie? This movie is all summed up in one word, SICK. Where do people get off making, and watching these kinds of films. As I was watching the movie I didn't actually think they would allow this kid that is say maybe 12 if that actually sleep with this woman. Sorry if this is a spoiler to you but I would have rater not seen this. Where has the sanity of these people gone? Maybe the makers of this movie are pedophiles? Our society today is filled with all types of sexual predators that pray upon children, yet film makers make these types of movies that do nothing but provoke this type of behavior. I noticed that on a previous comment someone asked if there was a version where it showed them naked. This is a kid here, and someone is asking something like this? What is wrong with this picture?\n",
      "* * * * * * * * * \n",
      "17965\n",
      "I will be short...This film is an embarrassment to everyone except its cinematographer. The very fact that it is a critique of the sex tourism industry seems valid until we are \\treated\\\" to a lingering dance scene. The plot is ridiculous no one except the most ardent fan of BAD horror will get anything out of it. And for the love of God please stop saying this film is a tale of innocence lost or even of female empowerment because it is quite clearly not (childish fumbling lesbians, what the hell?). this was by far the worst film at the Edinburgh festival (that i saw anyway), someone even collapsed halfway through the film probably because they couldn't take any more of it. this may seem like an overly critical rant but i genuinely cannot find a redeeming feature of this film except for perhaps if you take it as pure comedy. In short this film is best watched on a cocktail of class A drugs.\"\n",
      "* * * * * * * * * \n",
      "17992\n",
      "I would put this at the top of my list of films in the category of unwatchable trash! There are films that are bad, but the worst kind are the ones that are unwatchable but you are suppose to like them because they are supposed to be good for you! The sex sequences, so shocking in its day, couldn't even arouse a rabbit. The so called controversial politics is strictly high school sophomore amateur night Marxism. The film is self-consciously arty in the worst sense of the term. The photography is in a harsh grainy black and white. Some scenes are out of focus or taken from the wrong angle. Even the sound is bad! And some people call this art?<br /><br />\n",
      "* * * * * * * * * \n",
      "18096\n",
      "OK i will admit, it started out very pleasing and good, but then it just dropped downhill, i cannot believe Sarah Michelle Gellar could have even finished reading the script after about 5 minutes into the movie, the only reason i actually sat through the whole movie, was i wanted to see the twist at the ned, and to my surprise, well, folks i cannot even tell you if there ven was one, because the end just leaves you confused, and then the credit role, i was like what the hell? this did not deserve a theater run, i am sorry, but it didn't i mean it was horrible, the only reaso i gave it a 4 is because it had a few jumpy parts...thats it! you can watch it, im not telling you not to, hey you might even like it or even love it! but if you hate it, don't say i didn't warn you!\n",
      "* * * * * * * * * \n",
      "18176\n",
      "This was the worst film i have seen for a long time. <br /><br />Not only that it has nearly nothing to do with the other American Pie movies, the story is obvious, flat and absolutely not funny. <br /><br />The girls are nice though, but spending your time watching a cheap soft porno would possibly be greater than watching this film.<br /><br />This film seems to be a very bad made sex ad, made for an audience that is not older than 12.<br /><br />I never visited an American college, but i would seriously doubt that anyone who did could really laugh about any of the scenes.<br /><br />Save your time, do something else.\n",
      "* * * * * * * * * \n",
      "18413\n",
      "this is not just a bad film, it's one of the worst films ever. it's so bad that i found it to be quite enjoyable. the acting, oh my god, the script, you gotta be kiddin'. how can you imagine the writer coming up with things like: - a kid who makes fireworks in school, fireworks SO powerfull, that when someone gets hit by it, they fly a hundred yards backwards and explode. -a girl is trapped in the celler, the killer is trying to break open the door. she gets a drill, but the wire isn't long enough. she first makes an extension cord, oh the horror, and then, when she's done, she drills through the door and drills through the head of the killer. WOW - and there are plenty more examples like that. oh yeah, and what happened to George Kennedy, he used to be great (Thunderbolt and Lightfoot/Cool hand Luke)\n",
      "* * * * * * * * * \n",
      "18513\n",
      "I will admit that I have seen maybe five minutes of \\Jerry Springer\\\". I don't consider myself a snob, but I really think that I am above watching what's on his show. You should try to elevate yourself above that too.<br /><br />I saw this movie as part of a social studies event I was conducting. I was told that this movie really had little to do with Springer himself, rather it centered on the lives of those who would appear on \\\"Springer.\\\" Handled better, this movie might have actually been a fascinating look at how pathetic these people's lives actually are. I will admit, I felt a twinge of empathy for Connie (Molly Hagan). This is all she has in life. How sad that she feels she must go on Jerry's show in order to resolve this.<br /><br />I really feel sorry for Molly Hagan appearing in this. Have you noticed that after this movie, she has mainly been relegated to \\\"B\\\" roles on TV? I will say this about Hagan. She is an extremely beautiful and intelligent woman. I have no doubt that she is very earnest in her acting and she tries to play her roles with a lot of empathy. The problem is that Hagan can't carry a scene on her own. She just doesn't have what it takes to do a lead role. Her best work will always be Angel on \\\"Herman's Head\\\" (a show that was not great, but its heart was in the right place) and when she guested on \\\"Seinfeld\\\" as Sister Roberta.\"\n",
      "* * * * * * * * * \n",
      "18519\n",
      "A concept with potential, and it was fun to see these two holiday icons together, but...<br /><br />Rudolph's glowing nose didn't require the \\explanation\\\" offered in this film - much like The Force in the Star Wars films didn't need the explanation of \\\"medichlorians in the bloodstream.\\\" But mainly, the film left me cold because of Winterbolt's over-complicated plot to destroy Santa. He's got the power to put suggestions into people's minds, so why does he do things in such a roundabout way? Breaking the magic of Rudolph's nose, framing Rudolph, threatening to melt the Frosty family...The comedically exaggerated plots of Pinky and the Brain and \\\"Phineas and Ferb's\\\" Dr. Doofenshmirtz (which are done that way on purpose and played for laughs) seem simple and straightforward compared to Winterbolt's, which we're expected to take somewhat seriously.<br /><br />There is a particularly (and amusingly) strange moment when a character throws her two guns at the bad guy, like boomerangs. I understand if they don't want to have guns being shot in a family film, but then why have guns in the first place?\"\n",
      "* * * * * * * * * \n",
      "18626\n",
      "Gwyneth Paltrow is absolutely great in this movie, but the story is, unfortunately, half-baked, and David Schwimmer's energy is sort of like cold mush. When he closes his mouth and gets serious for a moment or two there is a rush of what-might-have-been. Who thought 25-year-old kiddies would be entertaining?\n",
      "* * * * * * * * * \n",
      "18632\n",
      "No wonder this was released straight to DVD here in Australia, no redeeming features what so ever. The dialog was hokey, the acting, awful and the script sucked!! Whoever thought it would be a good idea to do a sequel or follow up to the far superior John Badham film, Wargames from the 80s, well they must of been on something cause it was a bad idea!! Amanda Walsh was good in it as the eye candy/love interest, while Matt Lanter was good as the other main lead- that is about it. I would not recommend Wargames: The Dead Code to anyone, check out Hackers or the original Wargames film- both are better than this piece of crap!!\n",
      "* * * * * * * * * \n",
      "18722\n",
      "While it contains facts that are not widely reported, it is not exactly the truth. They took a lot of liberties in rearranging events, excluding people, and using sets that do not meet the facts of their lives in the 30's. There were more than just Bonnie, Clyde, and W.D. in the gang at various times, and those people had as much to do with the facts as those included. Buck and Blanche went to convince Clyde to go straight much earlier than the one shootout, and in fact got drawn back into crime. Some of the events that were portrayed in daylight actually took place at night. Bonnie's wound was much more severe and never healed right. It was so bad she had to be carried around by someone until it healed up, and even then it stiffened up so she walked stiffly. Clyde also walked with a limp because while in prison he cut off a big toe. I know, I'm being nit picky, and it was a TV movie, but even without these factual errors in this \\TRUE\\\" story, the movie moves too fast from event to event and comes across more as several separate snapshots of their lives, rather than being a cohesive flowing story.<br /><br />I'd recommend reading a book or seeing a documentary if you want to get closer to the truth.\"\n",
      "* * * * * * * * * \n",
      "18770\n",
      "There is simply no use in trying to glorify any part of this film.<br /><br />It was straight up trash. At the very beginning you might think that you are in for a visually stunning piece of cinematography... and then shortly thereafter you are hit with a large sack (burlap) of FAIL! The fighting is barely martial, the acting is teetering on the edge of par, and the music is not worth describing. There is only enough of a story to have created an excuse for this film to have been made. The decisions that the characters make and the way that they deal with the situations is weak, and did nothing but frustrate me. I think that the only reason this film came about was to act as a bit of fan service by using Yumiko Shaku.\n",
      "* * * * * * * * * \n",
      "19106\n",
      "The Lady in Cement is a veritable course on social anthropology of the late 60's. The writing, not the acting, is at center stage. Did I say - pure camp! Prepare to be offended if you are female or gay. Broad and dame are standard terms and gay baiting and bashing are represented for what they were in the day (camp- wise). Most of the lines are tossed off although there are wonderful performances by a very few outstanding character actors. The action scenes are mundane but it is fun to see Dan Blocker play a tough guy who likes bashing toughs. And Lanie Kazan and Racquel Welsh are at the voluptuous peak of their careers. Amazing to note they were both 28 years old and Mr. Sinatra was 53. The musical score, wait . . . was there a score? Well, you get the point. Watch it with friends who want a good laugh. it's full of them.\n",
      "* * * * * * * * * \n",
      "19112\n",
      "A young scientist Harry Harrison is continuing his late father's scientific research into limb regeneration with flying colours, but his interferingly dominate mother and her doctor lover want to sell off the serum. When he finds out, there is an accident involving Harry losing an arm. So, he tries out the serum and what eventuates is a genetically deranged arm that has a mind of its own.<br /><br />Oh we've seen this oh so many times before, but what lifts this very campy and quite rubbery shonky junk is the performance of movie icons Elke Sommer and Oliver Reed. Actually it's not a bad flick by Fangoria films; just there are better ones out there, which are similar in vein. \\Servered Ties\\\" simply lacks it own distinctive style. The oddball nature and unpleasant splatter resembled \\\"Re-animator\\\" and even a touch of slapstick stuck out like something from \\\"Evil Dead 2\\\".<br /><br />The comic story is truly whacked out with it's black humour, but it can get melodramatic and a bit in dry in the fun factor. Surprises do crop up, especially the flick's final outcome. Which is well accepted, as I thought it could have copped out with something more accessible. For a low-budget production the FX makeup can look rigid and very goofy, but there's some grotesque moments that will make you smile than actually cringe. Even a brush of sexual tension streamlines the story, thanks to Elke Sommer's sternly juicy performance as the mother. Oliver Reed is quite humorously deadpan in a wicked sense and he pulls it off extremely well. They were both immensely diverting as the couple you loved to hate. Billy Morrisette is delightful in a erratic performance as Harry. Director Damon Santostefano briskly paces the film and orchestrates some stylish scenes of gripping and bamboozling horror.<br /><br />Yeah it's juvenile and basically silly nonsense, but you got to hand it to it for some undemanding entertainment.\"\n",
      "* * * * * * * * * \n",
      "19214\n",
      "My friend's mom used to work at a video store and got to preview movies before they came out, so when she brought home The Convent, a horror movie, i couldn't wait to watch it. Given that it's supposed to be scary but is actually downright hilarious, I can say that in some weird way, I like this movie. <br /><br />yes, the acting is bad, and yes, it's the cheapest movie i've ever seen, but it's so damn funny! \\WHAT, ARE YOU SMOKING CA-RACK?!\\\" i didn't know this movie even was ever released... i figured it was too bad... <br /><br />Yeah, so... overall the movie is pretty bad (you gotta admit that much at least) but I promise you, you will get a good laugh out of it.<br /><br />*this movie kinda sucks but it's good for a laugh... especially that guy that holds the 'dagger of despair'.. THE DAGGER OF DESPAAAAAAIR!\"\n",
      "* * * * * * * * * \n",
      "19235\n",
      "And I mean ultra light. This film features four giant stars, about three and a half jokes and nothing beyond that.<br /><br />There really isn't too much to say about this stinker, other than that although it has a couple of really good bits, most of it isn't very funny. Nor does it work at all as a romance. How about as a romantic comedy? Not on your life. Most of the dialogue is way too flat to be sophisticated, much less amusing.<br /><br />What's really ashame is the premise is not bad at all. This movie could have been so much more, especially with all the recent focus on some of the bogus ways in which films are promoted, complete with phony quotes from critics. The film uncovers the un-mined territory of the press junket -- those all expense paid trips for journalists who almost always write nice reviews. But instead of exploring what should have been a motherlode of jokes, it devotes all of about three minutes to this territory and moves on in pursuit of the film's lame romance.<br /><br />The same with Catherine Zeta-Jones' character -- the whinny, self centered movie star. Zeta-Jones does a good job with what she's given, but she's given practically nothing. It's all homogenized junk that looks very pale in comparison with some of the things we've heard about stars over the years.<br /><br />In the end, it is hard to understand what made Zeta-Jones, Julia Roberts, John Cusack and Billy Crystal sign aboard this doomed ship, which sinks like a rerun of \\The Love Boat.\\\" In fact, as the old joke goes, they should have forgotten the script and filmed the deal. It would probably make a better story. So, go ahead and tell us, filmmakers, what do you have on these stars that got them to appear in this?\"\n",
      "* * * * * * * * * \n",
      "19285\n",
      "I guess I've seen worse films, but that may be becuz I'm so jaded by how standard these bad horror movies are. The killer monster thing is really really bad, basically its a guy in some kind of green body suit. There is much worse acting as far as B movie go, but don't think for a second this was anything stellar, hell no. It actually did have a plot with substance, but was still pretty stupid. Basically its just a bad low budget horror movie. But at least its not as bad as titanic, that movie sucks balls, this one just sucks. The blood looks really fake in this movie. Thats one complaint I have about all the horror of the new millinium, low grade gore, looks stupid. A good gruesome death scene with really fake blood is so stupid. At least there was a nice shower scene\n",
      "* * * * * * * * * \n",
      "19426\n",
      "Words fail me.<br /><br />And that isn't common.<br /><br />Done properly this could have been great, funny spoof B-movie sci-fi, but sadly, it was not to be. Rarely in the field of drama have so many competent actors struggled so vainly with such a dogs-breakfast of a script. I can only endorse the previous reviewer's comments - go clean the bathroom. In fact do ANYTHING except watch this film.<br /><br />Positives: Lucy Beeman's nose. Negatives: Everything else.<br /><br />Most apposite line: \\This isn't going anywhere\\\".<br /><br />If only every plastic surgeon could meet with such a fate.\"\n",
      "* * * * * * * * * \n",
      "19862\n",
      "I am completely appalled to see that the average rating for this movie is 5.2/10 For what affects me, it is definitely one of the worst movies I have ever seen and I still keep wondering why I watched it until the end. First of all, the plot is totally hopeless, and the acting truly awful. I think that any totally unknown actress would have been better for the role than Susan Lucci; concerning Mr. Kamar Del's Reyes, I think it would have been a better choice for him to remain in his \\Valley of the Dolls\\\". To sum up, it is total waste of time(and i'm trying to stay polite...) to avoid at any cost. My rating is 1 and I still think it is well paid, but since we cannot give a O....\"\n",
      "* * * * * * * * * \n"
     ]
    }
   ],
   "source": [
    "# false positives\n",
    "\n",
    "print(\"Examples of false positives:\")\n",
    "\n",
    "import random, time\n",
    "\n",
    "for i in range(0, len(ols_predictions)):\n",
    "    if (ols_predictions[i] == 1):\n",
    "        if (X_raw_train.iloc[i]['sentiment'] == 0):\n",
    "            if (random.uniform(0, 1) < 0.05): # to print only 5% of the false positives\n",
    "                print(i)\n",
    "                print(X_raw_train.iloc[i]['review'])\n",
    "                print('* * * * * * * * * ')\n"
   ]
  },
  {
   "cell_type": "markdown",
   "metadata": {},
   "source": [
    "---\n",
    "\n",
    "# <span style=\"color:red\">WARNING: Don't look at test set performance too much!</span>\n",
    "\n",
    "---\n",
    "\n",
    "The following cells show performance on your test set. Do not look at this too often! "
   ]
  },
  {
   "cell_type": "markdown",
   "metadata": {},
   "source": [
    "# Look at performance on the test set"
   ]
  },
  {
   "cell_type": "markdown",
   "metadata": {},
   "source": [
    "### MODEL: ordinary least squares"
   ]
  },
  {
   "cell_type": "code",
   "execution_count": 116,
   "metadata": {},
   "outputs": [
    {
     "name": "stdout",
     "output_type": "stream",
     "text": [
      "{'Pos': 2491, 'Neg': 2509, 'TP': 794, 'TN': 1626, 'FP': 883, 'FN': 1697, 'Accuracy': 0.484, 'Precision': 0.47346451997614786, 'Recall': 0.31874749096748295, 'desc': 'ols_test'}\n"
     ]
    }
   ],
   "source": [
    "ols_performance_test = BinaryClassificationPerformance(ols.predict(X_test), y_test, 'ols_test')\n",
    "ols_performance_test.compute_measures()\n",
    "print(ols_performance_test.performance_measures)"
   ]
  },
  {
   "cell_type": "code",
   "execution_count": null,
   "metadata": {},
   "outputs": [],
   "source": []
  },
  {
   "cell_type": "markdown",
   "metadata": {},
   "source": [
    "### MODEL: SVM, linear"
   ]
  },
  {
   "cell_type": "code",
   "execution_count": 117,
   "metadata": {},
   "outputs": [
    {
     "name": "stdout",
     "output_type": "stream",
     "text": [
      "{'Pos': 2491, 'Neg': 2509, 'TP': 2032, 'TN': 2043, 'FP': 466, 'FN': 459, 'Accuracy': 0.815, 'Precision': 0.8134507606084868, 'Recall': 0.8157366519470093, 'desc': 'svm_test'}\n"
     ]
    }
   ],
   "source": [
    "svm_performance_test = BinaryClassificationPerformance(svm.predict(X_test), y_test, 'svm_test')\n",
    "svm_performance_test.compute_measures()\n",
    "print(svm_performance_test.performance_measures)"
   ]
  },
  {
   "cell_type": "markdown",
   "metadata": {},
   "source": [
    "### MODEL: logistic regression"
   ]
  },
  {
   "cell_type": "code",
   "execution_count": 118,
   "metadata": {},
   "outputs": [
    {
     "name": "stdout",
     "output_type": "stream",
     "text": [
      "{'Pos': 2491, 'Neg': 2509, 'TP': 2049, 'TN': 2069, 'FP': 440, 'FN': 442, 'Accuracy': 0.8236, 'Precision': 0.823222177581358, 'Recall': 0.8225612203934163, 'desc': 'lgs_test'}\n"
     ]
    }
   ],
   "source": [
    "lgs_performance_test = BinaryClassificationPerformance(lgs.predict(X_test), y_test, 'lgs_test')\n",
    "lgs_performance_test.compute_measures()\n",
    "print(lgs_performance_test.performance_measures)"
   ]
  },
  {
   "cell_type": "markdown",
   "metadata": {},
   "source": [
    "### MODEL: Naive Bayes"
   ]
  },
  {
   "cell_type": "code",
   "execution_count": 119,
   "metadata": {},
   "outputs": [
    {
     "name": "stdout",
     "output_type": "stream",
     "text": [
      "{'Pos': 2491, 'Neg': 2509, 'TP': 1764, 'TN': 2274, 'FP': 235, 'FN': 727, 'Accuracy': 0.8076, 'Precision': 0.8824412206103052, 'Recall': 0.7081493376154155, 'desc': 'nbs_test'}\n"
     ]
    }
   ],
   "source": [
    "nbs_performance_test = BinaryClassificationPerformance(nbs.predict(X_test), y_test, 'nbs_test')\n",
    "nbs_performance_test.compute_measures()\n",
    "print(nbs_performance_test.performance_measures)"
   ]
  },
  {
   "cell_type": "markdown",
   "metadata": {},
   "source": [
    "### MODEL: Perceptron"
   ]
  },
  {
   "cell_type": "code",
   "execution_count": 120,
   "metadata": {},
   "outputs": [
    {
     "name": "stdout",
     "output_type": "stream",
     "text": [
      "{'Pos': 2491, 'Neg': 2509, 'TP': 2043, 'TN': 2028, 'FP': 481, 'FN': 448, 'Accuracy': 0.8142, 'Precision': 0.8094294770206022, 'Recall': 0.8201525491770373, 'desc': 'prc_test'}\n"
     ]
    }
   ],
   "source": [
    "prc_performance_test = BinaryClassificationPerformance(prc.predict(X_test), y_test, 'prc_test')\n",
    "prc_performance_test.compute_measures()\n",
    "print(prc_performance_test.performance_measures)"
   ]
  },
  {
   "cell_type": "markdown",
   "metadata": {},
   "source": [
    "### MODEL: Ridge Regression Classifier"
   ]
  },
  {
   "cell_type": "code",
   "execution_count": 121,
   "metadata": {},
   "outputs": [
    {
     "name": "stdout",
     "output_type": "stream",
     "text": [
      "{'Pos': 2491, 'Neg': 2509, 'TP': 2306, 'TN': 2057, 'FP': 452, 'FN': 185, 'Accuracy': 0.8726, 'Precision': 0.836113125453227, 'Recall': 0.9257326374949819, 'desc': 'rdg_test'}\n"
     ]
    }
   ],
   "source": [
    "rdg_performance_test = BinaryClassificationPerformance(rdg.predict(X_test), y_test, 'rdg_test')\n",
    "rdg_performance_test.compute_measures()\n",
    "print(rdg_performance_test.performance_measures)"
   ]
  },
  {
   "cell_type": "markdown",
   "metadata": {},
   "source": [
    "### MODEL: Random Forest Classifier"
   ]
  },
  {
   "cell_type": "code",
   "execution_count": 122,
   "metadata": {},
   "outputs": [
    {
     "name": "stdout",
     "output_type": "stream",
     "text": [
      "{'Pos': 2491, 'Neg': 2509, 'TP': 2077, 'TN': 1192, 'FP': 1317, 'FN': 414, 'Accuracy': 0.6538, 'Precision': 0.6119622863877431, 'Recall': 0.8338016860698515, 'desc': 'rdf_test'}\n"
     ]
    }
   ],
   "source": [
    "rdf_performance_test = BinaryClassificationPerformance(rdf.predict(X_test), y_test, 'rdf_test')\n",
    "rdf_performance_test.compute_measures()\n",
    "print(rdf_performance_test.performance_measures)"
   ]
  },
  {
   "cell_type": "markdown",
   "metadata": {},
   "source": [
    "### ROC plot to compare performance of various models and fits"
   ]
  },
  {
   "cell_type": "code",
   "execution_count": 123,
   "metadata": {},
   "outputs": [
    {
     "data": {
      "image/png": "[encoded data removed]",
      "text/plain": [
       "<Figure size 432x288 with 1 Axes>"
      ]
     },
     "metadata": {
      "needs_background": "light"
     },
     "output_type": "display_data"
    }
   ],
   "source": [
    "fits = [ols_performance_test, svm_performance_test, lgs_performance_test, nbs_performance_test, prc_performance_test, rdg_performance_test, rdf_performance_test]\n",
    "\n",
    "for fit in fits:\n",
    "    plt.plot(fit.performance_measures['FP'] / fit.performance_measures['Neg'], \n",
    "             fit.performance_measures['TP'] / fit.performance_measures['Pos'], 'bo')\n",
    "    plt.text(fit.performance_measures['FP'] / fit.performance_measures['Neg'], \n",
    "             fit.performance_measures['TP'] / fit.performance_measures['Pos'], fit.desc)\n",
    "plt.axis([0, 1, 0, 1])\n",
    "plt.title('ROC plot: test set')\n",
    "plt.xlabel('False positive rate')\n",
    "plt.ylabel('True positive rate')\n",
    "plt.show()"
   ]
  },
  {
   "cell_type": "markdown",
   "metadata": {},
   "source": [
    "---\n",
    "\n",
    "# <span style=\"color:red\">SUBMISSION</span>\n",
    "\n",
    "---"
   ]
  },
  {
   "cell_type": "code",
   "execution_count": null,
   "metadata": {},
   "outputs": [],
   "source": [
    "# read in test data for submission\n",
    "# OK CHANGE FILE PATH and my_random_seed number (any integer other than 74 will do): \n",
    "raw_data, X_test_submission = process_raw_data(fn='/users/kinetic.tricia/moviereviews_test.tsv', my_random_seed=49, test=True)\n",
    "print(\"Number of rows in the submission test set (should be 25,000): \")"
   ]
  },
  {
   "cell_type": "markdown",
   "metadata": {},
   "source": [
    "---\n",
    "\n",
    "Choose a <span style=\"color:red\">*single*</span> model for your submission. In this code, I am choosing the Ordinary Least Squares model fit, which is in the `ols` object. But you should choose the model that is performing the best for you! "
   ]
  },
  {
   "cell_type": "code",
   "execution_count": null,
   "metadata": {},
   "outputs": [],
   "source": [
    "# store the id from the raw data\n",
    "my_submission = pd.DataFrame(raw_data[\"id\"])\n",
    "# concatenate predictions to the id\n",
    "my_submission[\"prediction\"] = ols.predict(X_test_submission)\n",
    "# look at the proportion of positive predictions\n",
    "print(my_submission['prediction'].mean())"
   ]
  },
  {
   "cell_type": "code",
   "execution_count": null,
   "metadata": {},
   "outputs": [],
   "source": [
    "raw_data.head()"
   ]
  },
  {
   "cell_type": "code",
   "execution_count": null,
   "metadata": {},
   "outputs": [],
   "source": [
    "my_submission.head()"
   ]
  },
  {
   "cell_type": "code",
   "execution_count": null,
   "metadata": {},
   "outputs": [],
   "source": [
    "my_submission.shape"
   ]
  },
  {
   "cell_type": "code",
   "execution_count": null,
   "metadata": {},
   "outputs": [],
   "source": [
    "# export submission file as pdf\n",
    "# CHANGE FILE PATH: \n",
    "my_submission.to_csv('/users/kinetic.tricia/moviereviews_submission.csv', index=False)"
   ]
  },
  {
   "cell_type": "markdown",
   "metadata": {},
   "source": [
    "# Submit to Canvas: 1) the CSV file that was written in the previous cell and 2) the url to the repository (GitHub or other) that contains your code and documentation"
   ]
  }
 ],
 "metadata": {
  "kernelspec": {
   "display_name": "Python 3 (ipykernel)",
   "language": "python",
   "name": "python3"
  },
  "language_info": {
   "codemirror_mode": {
    "name": "ipython",
    "version": 3
   },
   "file_extension": ".py",
   "mimetype": "text/x-python",
   "name": "python",
   "nbconvert_exporter": "python",
   "pygments_lexer": "ipython3",
   "version": "3.9.7"
  }
 },
 "nbformat": 4,
 "nbformat_minor": 2
}
