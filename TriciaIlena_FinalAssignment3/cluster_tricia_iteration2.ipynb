{
 "cells": [
  {
   "cell_type": "code",
   "execution_count": 1,
   "metadata": {},
   "outputs": [],
   "source": [
    "import numpy as np\n",
    "import pandas as pd\n",
    "import matplotlib.pyplot as plt\n",
    "%matplotlib inline\n",
    "from sklearn.feature_extraction.text import CountVectorizer\n",
    "from scipy.sparse import csr_matrix, hstack\n",
    "from sklearn.feature_extraction.text import TfidfTransformer\n",
    "from scipy.sparse import csr_matrix, hstack\n",
    "from sklearn.preprocessing import StandardScaler\n",
    "from sklearn.model_selection import train_test_split\n",
    "from sklearn.feature_extraction.text import CountVectorizer"
   ]
  },
  {
   "cell_type": "markdown",
   "metadata": {},
   "source": [
    "## read and describe the metadata"
   ]
  },
  {
   "cell_type": "code",
   "execution_count": 2,
   "metadata": {},
   "outputs": [],
   "source": [
    "fpn_csv = '/users/kinetic.tricia/final_assignment_3/option_2/cluster_images.csv'\n",
    "data = pd.read_csv(fpn_csv, encoding='ISO-8859-1')"
   ]
  },
  {
   "cell_type": "code",
   "execution_count": 3,
   "metadata": {},
   "outputs": [
    {
     "data": {
      "text/plain": [
       "['s_no',\n",
       " 'artist',\n",
       " 'title',\n",
       " 'art_movement',\n",
       " 'museum_venue',\n",
       " 'country_of_origin',\n",
       " 'has_text',\n",
       " 'primary_medium',\n",
       " 'medium',\n",
       " 'work_size',\n",
       " 'date',\n",
       " 'representation',\n",
       " 'representation_semi',\n",
       " 'kinetic',\n",
       " 'map',\n",
       " 'map2',\n",
       " 'spatial_dimension',\n",
       " 'spatial_dimension2',\n",
       " 'pl',\n",
       " 'si',\n",
       " 'va',\n",
       " 'te',\n",
       " 'co',\n",
       " 'or',\n",
       " 'sh',\n",
       " 'reflection',\n",
       " 'po',\n",
       " 'li',\n",
       " 'ar',\n",
       " 'notes']"
      ]
     },
     "execution_count": 3,
     "metadata": {},
     "output_type": "execute_result"
    }
   ],
   "source": [
    "# get column names\n",
    "list(data)"
   ]
  },
  {
   "cell_type": "code",
   "execution_count": 4,
   "metadata": {},
   "outputs": [
    {
     "data": {
      "text/html": [
       "<div>\n",
       "<style scoped>\n",
       "    .dataframe tbody tr th:only-of-type {\n",
       "        vertical-align: middle;\n",
       "    }\n",
       "\n",
       "    .dataframe tbody tr th {\n",
       "        vertical-align: top;\n",
       "    }\n",
       "\n",
       "    .dataframe thead th {\n",
       "        text-align: right;\n",
       "    }\n",
       "</style>\n",
       "<table border=\"1\" class=\"dataframe\">\n",
       "  <thead>\n",
       "    <tr style=\"text-align: right;\">\n",
       "      <th></th>\n",
       "      <th>s_no</th>\n",
       "      <th>artist</th>\n",
       "      <th>title</th>\n",
       "      <th>art_movement</th>\n",
       "      <th>museum_venue</th>\n",
       "      <th>country_of_origin</th>\n",
       "      <th>has_text</th>\n",
       "      <th>primary_medium</th>\n",
       "      <th>medium</th>\n",
       "      <th>work_size</th>\n",
       "      <th>...</th>\n",
       "      <th>va</th>\n",
       "      <th>te</th>\n",
       "      <th>co</th>\n",
       "      <th>or</th>\n",
       "      <th>sh</th>\n",
       "      <th>reflection</th>\n",
       "      <th>po</th>\n",
       "      <th>li</th>\n",
       "      <th>ar</th>\n",
       "      <th>notes</th>\n",
       "    </tr>\n",
       "  </thead>\n",
       "  <tbody>\n",
       "    <tr>\n",
       "      <th>0</th>\n",
       "      <td>2</td>\n",
       "      <td>Giorgio de Chirico</td>\n",
       "      <td>The Uncertainty of the Poet</td>\n",
       "      <td>surrealism</td>\n",
       "      <td>Tate</td>\n",
       "      <td>Italy</td>\n",
       "      <td>False</td>\n",
       "      <td>painting</td>\n",
       "      <td>painting, oil on canvas</td>\n",
       "      <td>106 x 94 cm</td>\n",
       "      <td>...</td>\n",
       "      <td>3</td>\n",
       "      <td>0</td>\n",
       "      <td>0</td>\n",
       "      <td>4</td>\n",
       "      <td>3</td>\n",
       "      <td>False</td>\n",
       "      <td>0</td>\n",
       "      <td>0</td>\n",
       "      <td>5</td>\n",
       "      <td>distorted perspective, shadow, signification o...</td>\n",
       "    </tr>\n",
       "    <tr>\n",
       "      <th>1</th>\n",
       "      <td>3</td>\n",
       "      <td>Giovanni Anselmo</td>\n",
       "      <td>Direction</td>\n",
       "      <td>arte povera</td>\n",
       "      <td>Tate</td>\n",
       "      <td>Italy</td>\n",
       "      <td>False</td>\n",
       "      <td>sculpture</td>\n",
       "      <td>sculpture, fabric, glass &amp; metal</td>\n",
       "      <td>24 x 420 x 335 cm</td>\n",
       "      <td>...</td>\n",
       "      <td>1</td>\n",
       "      <td>3</td>\n",
       "      <td>0</td>\n",
       "      <td>3</td>\n",
       "      <td>2</td>\n",
       "      <td>False</td>\n",
       "      <td>0</td>\n",
       "      <td>0</td>\n",
       "      <td>5</td>\n",
       "      <td>hard to understand the viewpoint, sense of for...</td>\n",
       "    </tr>\n",
       "    <tr>\n",
       "      <th>2</th>\n",
       "      <td>4</td>\n",
       "      <td>Milton Avery</td>\n",
       "      <td>Yellow Sky</td>\n",
       "      <td>modernism</td>\n",
       "      <td>Tate</td>\n",
       "      <td>America</td>\n",
       "      <td>False</td>\n",
       "      <td>painting</td>\n",
       "      <td>painting, oil on canvas</td>\n",
       "      <td>156 x 184 cm</td>\n",
       "      <td>...</td>\n",
       "      <td>2</td>\n",
       "      <td>4</td>\n",
       "      <td>4</td>\n",
       "      <td>2</td>\n",
       "      <td>4</td>\n",
       "      <td>False</td>\n",
       "      <td>0</td>\n",
       "      <td>0</td>\n",
       "      <td>5</td>\n",
       "      <td>flatish, textured shapes &amp; specific colors-lin...</td>\n",
       "    </tr>\n",
       "    <tr>\n",
       "      <th>3</th>\n",
       "      <td>5</td>\n",
       "      <td>Gillian Avery</td>\n",
       "      <td>Distillation</td>\n",
       "      <td>abstraction</td>\n",
       "      <td>Tate</td>\n",
       "      <td>UK</td>\n",
       "      <td>False</td>\n",
       "      <td>painting</td>\n",
       "      <td>painting, oil, household paint on hardboard</td>\n",
       "      <td>213 x 152 cm</td>\n",
       "      <td>...</td>\n",
       "      <td>1</td>\n",
       "      <td>2</td>\n",
       "      <td>0</td>\n",
       "      <td>2</td>\n",
       "      <td>4</td>\n",
       "      <td>False</td>\n",
       "      <td>0</td>\n",
       "      <td>0</td>\n",
       "      <td>5</td>\n",
       "      <td>shapes, layers, paint handlng/texture, orienta...</td>\n",
       "    </tr>\n",
       "    <tr>\n",
       "      <th>4</th>\n",
       "      <td>6</td>\n",
       "      <td>Joseph (Jef) Banc</td>\n",
       "      <td>Pair-Bearing Matrix</td>\n",
       "      <td>abstraction</td>\n",
       "      <td>Tate</td>\n",
       "      <td>France</td>\n",
       "      <td>False</td>\n",
       "      <td>painting</td>\n",
       "      <td>painting, mixed media on canvas</td>\n",
       "      <td>73 x 60 cm</td>\n",
       "      <td>...</td>\n",
       "      <td>1</td>\n",
       "      <td>4</td>\n",
       "      <td>1</td>\n",
       "      <td>0</td>\n",
       "      <td>4</td>\n",
       "      <td>False</td>\n",
       "      <td>0</td>\n",
       "      <td>0</td>\n",
       "      <td>5</td>\n",
       "      <td>ambiguity through abstraction, odd shape, v te...</td>\n",
       "    </tr>\n",
       "  </tbody>\n",
       "</table>\n",
       "<p>5 rows × 30 columns</p>\n",
       "</div>"
      ],
      "text/plain": [
       "   s_no              artist                         title art_movement  \\\n",
       "0     2  Giorgio de Chirico  The Uncertainty of the Poet    surrealism   \n",
       "1     3    Giovanni Anselmo                     Direction  arte povera   \n",
       "2     4        Milton Avery                   Yellow Sky     modernism   \n",
       "3     5       Gillian Avery                  Distillation  abstraction   \n",
       "4     6   Joseph (Jef) Banc          Pair-Bearing Matrix   abstraction   \n",
       "\n",
       "  museum_venue country_of_origin  has_text primary_medium  \\\n",
       "0         Tate             Italy     False       painting   \n",
       "1         Tate             Italy     False      sculpture   \n",
       "2         Tate           America     False       painting   \n",
       "3         Tate                UK     False       painting   \n",
       "4         Tate            France     False       painting   \n",
       "\n",
       "                                        medium          work_size  ... va  te  \\\n",
       "0                      painting, oil on canvas        106 x 94 cm  ...  3   0   \n",
       "1             sculpture, fabric, glass & metal  24 x 420 x 335 cm  ...  1   3   \n",
       "2                      painting, oil on canvas       156 x 184 cm  ...  2   4   \n",
       "3  painting, oil, household paint on hardboard       213 x 152 cm  ...  1   2   \n",
       "4              painting, mixed media on canvas         73 x 60 cm  ...  1   4   \n",
       "\n",
       "   co  or  sh  reflection  po  li  ar  \\\n",
       "0   0   4   3       False   0   0   5   \n",
       "1   0   3   2       False   0   0   5   \n",
       "2   4   2   4       False   0   0   5   \n",
       "3   0   2   4       False   0   0   5   \n",
       "4   1   0   4       False   0   0   5   \n",
       "\n",
       "                                               notes  \n",
       "0  distorted perspective, shadow, signification o...  \n",
       "1  hard to understand the viewpoint, sense of for...  \n",
       "2  flatish, textured shapes & specific colors-lin...  \n",
       "3  shapes, layers, paint handlng/texture, orienta...  \n",
       "4  ambiguity through abstraction, odd shape, v te...  \n",
       "\n",
       "[5 rows x 30 columns]"
      ]
     },
     "execution_count": 4,
     "metadata": {},
     "output_type": "execute_result"
    }
   ],
   "source": [
    "data.head()"
   ]
  },
  {
   "cell_type": "markdown",
   "metadata": {},
   "source": [
    "## create a subset of the columns you will use to fit KMeans\n",
    "\n",
    "Here, I am **arbitrarily** choosing the seven [visual variables defined by Bertin](https://infovis-wiki.net/wiki/Visual_Variables). Variable descriptions [here](https://github.com/visualizedata/ml/blob/master/ML_assignment_3/option_2/contents-of-cluster_images.csv). \n",
    "\n",
    "You should choose the columns that you decide will best define the clusters. You may need to make transformations on existing variables. "
   ]
  },
  {
   "cell_type": "code",
   "execution_count": 5,
   "metadata": {},
   "outputs": [],
   "source": [
    "X = data[['pl', 'si', 'va', 'te', 'co', 'sh', 'or']]\n",
    "Y = data[['notes', 'country_of_origin', 'medium', 'reflection', 'art_movement', 'artist']]"
   ]
  },
  {
   "cell_type": "code",
   "execution_count": 6,
   "metadata": {},
   "outputs": [],
   "source": [
    "def process_raw_data():\n",
    "    \n",
    "    fitted_transformations = []\n",
    "\n",
    "    #if (not test): # fit_transform()\n",
    "    cv = CountVectorizer()\n",
    "    Y_cv = cv.fit_transform(Y)\n",
    "    fitted_transformations.append(cv)\n",
    "    print(\"Shape of CountVectorizer Y:\")\n",
    "    print(Y_cv.shape)\n",
    "    #else: # transform() \n",
    "     #   Y_cv = fitted_transformations[0].transform(Y)\n",
    "     #   print(\"Shape of CountVectorizer Y:\")\n",
    "     #   print(Y_cv.shape)\n",
    "       \n",
    "   # http://scikit-learn.org/stable/modules/generated/sklearn.feature_extraction.text.TfidfTransformer.html\n",
    "   # if (not test):\n",
    "    transformer = TfidfTransformer()\n",
    "    Y_tfidf = transformer.fit_transform(Y_cv)\n",
    "    fitted_transformations.append(transformer)\n",
    "    #else:\n",
    "    #Y_tfidf = fitted_transformations[1].transform(Y_cv)    \n",
    "    #    \n",
    "    X_quant_features_csr = csr_matrix(X)\n",
    "    XY_combined = hstack([Y_tfidf, X_quant_features_csr])\n",
    "    XY_matrix = csr_matrix(XY_combined) # convert to sparse matrix\n",
    "    print(\"Size of combined bag of words and new quantitative variables matrix:\")\n",
    "    print(XY_matrix.shape)\n",
    "    \n",
    "   # if (not test):\n",
    "    sc = StandardScaler(with_mean=False)\n",
    "    XY = sc.fit_transform(XY_matrix)\n",
    "    fitted_transformations.append(sc)\n",
    "    print(XY.shape)\n",
    "    #else:\n",
    "     #   XY = fitted_transformations[2].transform(XY_matrix)\n",
    "      #  print(XY.shape)\n",
    "    \n",
    "    return XY"
   ]
  },
  {
   "cell_type": "code",
   "execution_count": 9,
   "metadata": {},
   "outputs": [
    {
     "name": "stdout",
     "output_type": "stream",
     "text": [
      "Shape of CountVectorizer Y:\n",
      "(6, 6)\n"
     ]
    },
    {
     "ename": "ValueError",
     "evalue": "Mismatching dimensions along axis 0: {404, 6}",
     "output_type": "error",
     "traceback": [
      "\u001b[0;31m---------------------------------------------------------------------------\u001b[0m",
      "\u001b[0;31mValueError\u001b[0m                                Traceback (most recent call last)",
      "\u001b[0;32m/var/folders/vb/l12vsz_x3d99cszqztjxpvb80000gn/T/ipykernel_82202/2880116856.py\u001b[0m in \u001b[0;36m<module>\u001b[0;34m\u001b[0m\n\u001b[0;32m----> 1\u001b[0;31m \u001b[0mXY_final\u001b[0m \u001b[0;34m=\u001b[0m \u001b[0mprocess_raw_data\u001b[0m\u001b[0;34m(\u001b[0m\u001b[0;34m)\u001b[0m\u001b[0;34m\u001b[0m\u001b[0;34m\u001b[0m\u001b[0m\n\u001b[0m",
      "\u001b[0;32m/var/folders/vb/l12vsz_x3d99cszqztjxpvb80000gn/T/ipykernel_82202/1190385704.py\u001b[0m in \u001b[0;36mprocess_raw_data\u001b[0;34m()\u001b[0m\n\u001b[1;32m     23\u001b[0m     \u001b[0;31m#\u001b[0m\u001b[0;34m\u001b[0m\u001b[0;34m\u001b[0m\u001b[0m\n\u001b[1;32m     24\u001b[0m     \u001b[0mX_quant_features_csr\u001b[0m \u001b[0;34m=\u001b[0m \u001b[0mcsr_matrix\u001b[0m\u001b[0;34m(\u001b[0m\u001b[0mX\u001b[0m\u001b[0;34m)\u001b[0m\u001b[0;34m\u001b[0m\u001b[0;34m\u001b[0m\u001b[0m\n\u001b[0;32m---> 25\u001b[0;31m     \u001b[0mXY_combined\u001b[0m \u001b[0;34m=\u001b[0m \u001b[0mhstack\u001b[0m\u001b[0;34m(\u001b[0m\u001b[0;34m[\u001b[0m\u001b[0mY_tfidf\u001b[0m\u001b[0;34m,\u001b[0m \u001b[0mX_quant_features_csr\u001b[0m\u001b[0;34m]\u001b[0m\u001b[0;34m)\u001b[0m\u001b[0;34m\u001b[0m\u001b[0;34m\u001b[0m\u001b[0m\n\u001b[0m\u001b[1;32m     26\u001b[0m     \u001b[0mXY_matrix\u001b[0m \u001b[0;34m=\u001b[0m \u001b[0mcsr_matrix\u001b[0m\u001b[0;34m(\u001b[0m\u001b[0mXY_combined\u001b[0m\u001b[0;34m)\u001b[0m \u001b[0;31m# convert to sparse matrix\u001b[0m\u001b[0;34m\u001b[0m\u001b[0;34m\u001b[0m\u001b[0m\n\u001b[1;32m     27\u001b[0m     \u001b[0mprint\u001b[0m\u001b[0;34m(\u001b[0m\u001b[0;34m\"Size of combined bag of words and new quantitative variables matrix:\"\u001b[0m\u001b[0;34m)\u001b[0m\u001b[0;34m\u001b[0m\u001b[0;34m\u001b[0m\u001b[0m\n",
      "\u001b[0;32m/opt/anaconda3/lib/python3.9/site-packages/scipy/sparse/_construct.py\u001b[0m in \u001b[0;36mhstack\u001b[0;34m(blocks, format, dtype)\u001b[0m\n\u001b[1;32m    523\u001b[0m \u001b[0;34m\u001b[0m\u001b[0m\n\u001b[1;32m    524\u001b[0m     \"\"\"\n\u001b[0;32m--> 525\u001b[0;31m     \u001b[0;32mreturn\u001b[0m \u001b[0mbmat\u001b[0m\u001b[0;34m(\u001b[0m\u001b[0;34m[\u001b[0m\u001b[0mblocks\u001b[0m\u001b[0;34m]\u001b[0m\u001b[0;34m,\u001b[0m \u001b[0mformat\u001b[0m\u001b[0;34m=\u001b[0m\u001b[0mformat\u001b[0m\u001b[0;34m,\u001b[0m \u001b[0mdtype\u001b[0m\u001b[0;34m=\u001b[0m\u001b[0mdtype\u001b[0m\u001b[0;34m)\u001b[0m\u001b[0;34m\u001b[0m\u001b[0;34m\u001b[0m\u001b[0m\n\u001b[0m\u001b[1;32m    526\u001b[0m \u001b[0;34m\u001b[0m\u001b[0m\n\u001b[1;32m    527\u001b[0m \u001b[0;34m\u001b[0m\u001b[0m\n",
      "\u001b[0;32m/opt/anaconda3/lib/python3.9/site-packages/scipy/sparse/_construct.py\u001b[0m in \u001b[0;36mbmat\u001b[0;34m(blocks, format, dtype)\u001b[0m\n\u001b[1;32m    615\u001b[0m         \u001b[0;32mif\u001b[0m \u001b[0mN\u001b[0m \u001b[0;34m>\u001b[0m \u001b[0;36m1\u001b[0m\u001b[0;34m:\u001b[0m\u001b[0;34m\u001b[0m\u001b[0;34m\u001b[0m\u001b[0m\n\u001b[1;32m    616\u001b[0m             \u001b[0;31m# stack along columns (axis 1):\u001b[0m\u001b[0;34m\u001b[0m\u001b[0;34m\u001b[0m\u001b[0m\n\u001b[0;32m--> 617\u001b[0;31m             blocks = [[_stack_along_minor_axis(blocks[b, :], 1)]\n\u001b[0m\u001b[1;32m    618\u001b[0m                       for b in range(M)]   # must have shape: (M, 1)\n\u001b[1;32m    619\u001b[0m             \u001b[0mblocks\u001b[0m \u001b[0;34m=\u001b[0m \u001b[0mnp\u001b[0m\u001b[0;34m.\u001b[0m\u001b[0masarray\u001b[0m\u001b[0;34m(\u001b[0m\u001b[0mblocks\u001b[0m\u001b[0;34m,\u001b[0m \u001b[0mdtype\u001b[0m\u001b[0;34m=\u001b[0m\u001b[0;34m'object'\u001b[0m\u001b[0;34m)\u001b[0m\u001b[0;34m\u001b[0m\u001b[0;34m\u001b[0m\u001b[0m\n",
      "\u001b[0;32m/opt/anaconda3/lib/python3.9/site-packages/scipy/sparse/_construct.py\u001b[0m in \u001b[0;36m<listcomp>\u001b[0;34m(.0)\u001b[0m\n\u001b[1;32m    615\u001b[0m         \u001b[0;32mif\u001b[0m \u001b[0mN\u001b[0m \u001b[0;34m>\u001b[0m \u001b[0;36m1\u001b[0m\u001b[0;34m:\u001b[0m\u001b[0;34m\u001b[0m\u001b[0;34m\u001b[0m\u001b[0m\n\u001b[1;32m    616\u001b[0m             \u001b[0;31m# stack along columns (axis 1):\u001b[0m\u001b[0;34m\u001b[0m\u001b[0;34m\u001b[0m\u001b[0m\n\u001b[0;32m--> 617\u001b[0;31m             blocks = [[_stack_along_minor_axis(blocks[b, :], 1)]\n\u001b[0m\u001b[1;32m    618\u001b[0m                       for b in range(M)]   # must have shape: (M, 1)\n\u001b[1;32m    619\u001b[0m             \u001b[0mblocks\u001b[0m \u001b[0;34m=\u001b[0m \u001b[0mnp\u001b[0m\u001b[0;34m.\u001b[0m\u001b[0masarray\u001b[0m\u001b[0;34m(\u001b[0m\u001b[0mblocks\u001b[0m\u001b[0;34m,\u001b[0m \u001b[0mdtype\u001b[0m\u001b[0;34m=\u001b[0m\u001b[0;34m'object'\u001b[0m\u001b[0;34m)\u001b[0m\u001b[0;34m\u001b[0m\u001b[0;34m\u001b[0m\u001b[0m\n",
      "\u001b[0;32m/opt/anaconda3/lib/python3.9/site-packages/scipy/sparse/_construct.py\u001b[0m in \u001b[0;36m_stack_along_minor_axis\u001b[0;34m(blocks, axis)\u001b[0m\n\u001b[1;32m    459\u001b[0m     \u001b[0mother_axis_dims\u001b[0m \u001b[0;34m=\u001b[0m \u001b[0mset\u001b[0m\u001b[0;34m(\u001b[0m\u001b[0mb\u001b[0m\u001b[0;34m.\u001b[0m\u001b[0mshape\u001b[0m\u001b[0;34m[\u001b[0m\u001b[0mother_axis\u001b[0m\u001b[0;34m]\u001b[0m \u001b[0;32mfor\u001b[0m \u001b[0mb\u001b[0m \u001b[0;32min\u001b[0m \u001b[0mblocks\u001b[0m\u001b[0;34m)\u001b[0m\u001b[0;34m\u001b[0m\u001b[0;34m\u001b[0m\u001b[0m\n\u001b[1;32m    460\u001b[0m     \u001b[0;32mif\u001b[0m \u001b[0mlen\u001b[0m\u001b[0;34m(\u001b[0m\u001b[0mother_axis_dims\u001b[0m\u001b[0;34m)\u001b[0m \u001b[0;34m>\u001b[0m \u001b[0;36m1\u001b[0m\u001b[0;34m:\u001b[0m\u001b[0;34m\u001b[0m\u001b[0;34m\u001b[0m\u001b[0m\n\u001b[0;32m--> 461\u001b[0;31m         raise ValueError(f'Mismatching dimensions along axis {other_axis}: '\n\u001b[0m\u001b[1;32m    462\u001b[0m                          f'{other_axis_dims}')\n\u001b[1;32m    463\u001b[0m     \u001b[0mconstant_dim\u001b[0m\u001b[0;34m,\u001b[0m \u001b[0;34m=\u001b[0m \u001b[0mother_axis_dims\u001b[0m\u001b[0;34m\u001b[0m\u001b[0;34m\u001b[0m\u001b[0m\n",
      "\u001b[0;31mValueError\u001b[0m: Mismatching dimensions along axis 0: {404, 6}"
     ]
    }
   ],
   "source": [
    "XY_final = process_raw_data()"
   ]
  },
  {
   "cell_type": "markdown",
   "metadata": {},
   "source": [
    "# KMeans"
   ]
  },
  {
   "cell_type": "code",
   "execution_count": 10,
   "metadata": {},
   "outputs": [],
   "source": [
    "from sklearn.cluster import KMeans"
   ]
  },
  {
   "cell_type": "markdown",
   "metadata": {},
   "source": [
    "## plot inertia scores by number of clusters"
   ]
  },
  {
   "cell_type": "code",
   "execution_count": 11,
   "metadata": {},
   "outputs": [
    {
     "ename": "NameError",
     "evalue": "name 'XY_final' is not defined",
     "output_type": "error",
     "traceback": [
      "\u001b[0;31m---------------------------------------------------------------------------\u001b[0m",
      "\u001b[0;31mNameError\u001b[0m                                 Traceback (most recent call last)",
      "\u001b[0;32m/var/folders/vb/l12vsz_x3d99cszqztjxpvb80000gn/T/ipykernel_82202/2994732149.py\u001b[0m in \u001b[0;36m<module>\u001b[0;34m\u001b[0m\n\u001b[1;32m      7\u001b[0m \u001b[0;32mfor\u001b[0m \u001b[0mi\u001b[0m \u001b[0;32min\u001b[0m \u001b[0mrange\u001b[0m\u001b[0;34m(\u001b[0m\u001b[0;36m1\u001b[0m\u001b[0;34m,\u001b[0m \u001b[0;36m101\u001b[0m\u001b[0;34m)\u001b[0m\u001b[0;34m:\u001b[0m\u001b[0;34m\u001b[0m\u001b[0;34m\u001b[0m\u001b[0m\n\u001b[1;32m      8\u001b[0m     \u001b[0mkm\u001b[0m \u001b[0;34m=\u001b[0m \u001b[0mKMeans\u001b[0m\u001b[0;34m(\u001b[0m\u001b[0mn_clusters\u001b[0m\u001b[0;34m=\u001b[0m\u001b[0mi\u001b[0m\u001b[0;34m,\u001b[0m \u001b[0mn_init\u001b[0m\u001b[0;34m=\u001b[0m\u001b[0;34m'auto'\u001b[0m\u001b[0;34m)\u001b[0m\u001b[0;34m\u001b[0m\u001b[0;34m\u001b[0m\u001b[0m\n\u001b[0;32m----> 9\u001b[0;31m     \u001b[0mkm\u001b[0m\u001b[0;34m.\u001b[0m\u001b[0mfit\u001b[0m\u001b[0;34m(\u001b[0m\u001b[0mXY_final\u001b[0m\u001b[0;34m)\u001b[0m\u001b[0;34m\u001b[0m\u001b[0;34m\u001b[0m\u001b[0m\n\u001b[0m\u001b[1;32m     10\u001b[0m \u001b[0;34m\u001b[0m\u001b[0m\n\u001b[1;32m     11\u001b[0m     \u001b[0mdistortions\u001b[0m\u001b[0;34m.\u001b[0m\u001b[0mappend\u001b[0m\u001b[0;34m(\u001b[0m\u001b[0mkm\u001b[0m\u001b[0;34m.\u001b[0m\u001b[0minertia_\u001b[0m\u001b[0;34m)\u001b[0m\u001b[0;34m\u001b[0m\u001b[0;34m\u001b[0m\u001b[0m\n",
      "\u001b[0;31mNameError\u001b[0m: name 'XY_final' is not defined"
     ]
    }
   ],
   "source": [
    "# first attempt at fitting K means to view change in Inertia\n",
    "\n",
    "# container to store inertia scores over iterations\n",
    "distortions = []\n",
    "\n",
    "# fit KMeans iteratively to begin to assess the appropriate number of clusters\n",
    "for i in range(1, 101):\n",
    "    km = KMeans(n_clusters=i, n_init='auto')\n",
    "    km.fit(XY_final)\n",
    "    \n",
    "    distortions.append(km.inertia_)\n",
    "print(km)\n",
    "    \n",
    "# vizualize change in inertia\n",
    "plt.plot(range(1, 101), distortions, marker='o')\n",
    "plt.xlabel('Number of clusters')\n",
    "plt.ylabel('Inertia')\n",
    "plt.show()"
   ]
  },
  {
   "cell_type": "markdown",
   "metadata": {},
   "source": [
    "## create silhouette plots to assess various specifications for `n_clusters` in `KMeans`"
   ]
  },
  {
   "cell_type": "code",
   "execution_count": null,
   "metadata": {},
   "outputs": [],
   "source": [
    "# modify this list to include the numbers of clusters you want to see\n",
    "# I have *arbitrarily* chosen these values\n",
    "range_n_clusters = [13, 14, 15, 16, 17, 18, 19, 20]"
   ]
  },
  {
   "cell_type": "code",
   "execution_count": null,
   "metadata": {},
   "outputs": [],
   "source": [
    "# modified from: http://scikit-learn.org/stable/auto_examples/cluster/plot_kmeans_silhouette_analysis.html\n",
    "\n",
    "from sklearn.metrics import silhouette_samples, silhouette_score\n",
    "import matplotlib.cm as cm\n",
    "import random\n",
    "\n",
    "for n_clusters in range_n_clusters:\n",
    "    # Create a subplot\n",
    "    fig, (ax1) = plt.subplots(1, 1)\n",
    "    fig.set_size_inches(9, 17)\n",
    "\n",
    "    # The silhouette coefficient can range from -1, 1 but in this example all lie within [-0.1, 1]\n",
    "    ax1.set_xlim([-0.1, 1])\n",
    "    # The (n_clusters+1)*10 is for inserting blank space between silhouette plots of individual clusters, to demarcate them clearly.\n",
    "    ax1.set_ylim([0, len(X) + (n_clusters + 1) * 10])\n",
    "\n",
    "    # Initialize the clusterer with n_clusters value and a random generator seed of 10 for reproducibility.\n",
    "    clusterer = KMeans(n_clusters=n_clusters, random_state=10)\n",
    "    cluster_labels = clusterer.fit_predict(X)\n",
    "\n",
    "    # The silhouette_score gives the average value for all the samples.\n",
    "    silhouette_avg = silhouette_score(X, cluster_labels)\n",
    "    print(\"For n_clusters =\", n_clusters, \"The average silhouette_score is :\", silhouette_avg)\n",
    "\n",
    "    # Compute the silhouette scores for each sample\n",
    "    sample_silhouette_values = silhouette_samples(X, cluster_labels)\n",
    "\n",
    "    y_lower = 10\n",
    "    for i in range(n_clusters):\n",
    "        # Aggregate the silhouette scores for samples belonging to cluster i, and sort them\n",
    "        ith_cluster_silhouette_values = \\\n",
    "            sample_silhouette_values[cluster_labels == i]\n",
    "\n",
    "        ith_cluster_silhouette_values.sort()\n",
    "\n",
    "        size_cluster_i = ith_cluster_silhouette_values.shape[0]\n",
    "        y_upper = y_lower + size_cluster_i\n",
    "\n",
    "        # select a random color for this cluster\n",
    "        r = lambda: random.randint(0,255)\n",
    "        color = '#%02X%02X%02X' % (r(),r(),r())\n",
    "        ax1.fill_betweenx(np.arange(y_lower, y_upper),\n",
    "                          0, ith_cluster_silhouette_values,\n",
    "                          facecolor=color, edgecolor=color, alpha=0.7)\n",
    "\n",
    "        # Label the silhouette plots with their cluster numbers at the middle\n",
    "        ax1.text(-0.05, y_lower + 0.5 * size_cluster_i, str(i))\n",
    "\n",
    "        # Compute the new y_lower for next plot\n",
    "        y_lower = y_upper + 10  # 10 for the 0 samples\n",
    "\n",
    "    ax1.set_title(\"The silhouette plot for the various clusters.\")\n",
    "    ax1.set_xlabel(\"The silhouette coefficient values\")\n",
    "    ax1.set_ylabel(\"Cluster label\")\n",
    "\n",
    "    # The vertical line for average silhouette score of all the values\n",
    "    ax1.axvline(x=silhouette_avg, color=\"red\", linestyle=\"--\")\n",
    "\n",
    "    ax1.set_yticks([])  # Clear the yaxis labels / ticks\n",
    "    ax1.set_xticks([-0.1, 0, 0.2, 0.4, 0.6, 0.8, 1])\n",
    "\n",
    "    plt.suptitle((\"Silhouette analysis for KMeans clustering on sample data \"\n",
    "                  \"with n_clusters = %d\" % n_clusters),\n",
    "                 fontsize=14, fontweight='bold')\n",
    "\n",
    "    plt.show()"
   ]
  },
  {
   "cell_type": "markdown",
   "metadata": {},
   "source": [
    "## final fit\n",
    "\n",
    "After you have decided which features to include and the number of clusters you want, fit your final KMeans model. I have **arbitrarily** chosen 5. "
   ]
  },
  {
   "cell_type": "code",
   "execution_count": null,
   "metadata": {},
   "outputs": [],
   "source": [
    "# set the number of clusters in the final model\n",
    "my_n_clusters = 20"
   ]
  },
  {
   "cell_type": "code",
   "execution_count": null,
   "metadata": {},
   "outputs": [],
   "source": [
    "km = KMeans(n_clusters=my_n_clusters)\n",
    "km.fit(XY_matrix)"
   ]
  },
  {
   "cell_type": "markdown",
   "metadata": {},
   "source": [
    "## look at results\n",
    "\n",
    "The key to knowing if you have chosen the right features and clusters: looking at the images in each cluster and deciding whether they seem to belong together. You could extend this starter code to display the images in this notebook, or you may decide to use Python to write an html file/files to view the images by cluster."
   ]
  },
  {
   "cell_type": "code",
   "execution_count": null,
   "metadata": {},
   "outputs": [],
   "source": [
    "for i in range(0, max(km.labels_)+1):\n",
    "    print(\" \")\n",
    "    print(\"* * * * * * * * * * * * * * * * * * * * * * * * * * * * * * \")\n",
    "    print(\"Images in cluster: \" + str(i))\n",
    "    print(\"* * * * * * * * * * * * * * * * * * * * * * * * * * * * * * \")\n",
    "    for j in range(0, len(km.labels_)):\n",
    "        if km.labels_[j] == i:\n",
    "            print(str(j+2) + '_small.jpg')"
   ]
  },
  {
   "cell_type": "code",
   "execution_count": null,
   "metadata": {},
   "outputs": [],
   "source": []
  }
 ],
 "metadata": {
  "kernelspec": {
   "display_name": "Python 3 (ipykernel)",
   "language": "python",
   "name": "python3"
  },
  "language_info": {
   "codemirror_mode": {
    "name": "ipython",
    "version": 3
   },
   "file_extension": ".py",
   "mimetype": "text/x-python",
   "name": "python",
   "nbconvert_exporter": "python",
   "pygments_lexer": "ipython3",
   "version": "3.9.7"
  }
 },
 "nbformat": 4,
 "nbformat_minor": 2
}
